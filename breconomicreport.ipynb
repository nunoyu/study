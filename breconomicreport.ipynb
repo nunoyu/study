{
 "cells": [
  {
   "cell_type": "markdown",
   "metadata": {},
   "source": [
    "<h1 style=\"text-align:center;\">\n",
    "\t<strong><span style=\"color:#000000;font-family:&quot;font-size:32px;line-height:1;\">巴西经济数据</span></strong> \n",
    "</h1>\n",
    "<h1 style=\"text-align:center;\">\n",
    "\t<strong><span style=\"font-family:&quot;font-size:16px;\"><span style=\"line-height:1;font-size:16px;\"><em>第1期</em></span></span></strong>\n",
    "</h1>"
   ]
  },
  {
   "cell_type": "code",
   "execution_count": 1,
   "metadata": {
    "collapsed": false
   },
   "outputs": [
    {
     "name": "stdout",
     "output_type": "stream",
     "text": [
      "驻圣保罗总领馆经商室                                                                                 日期：2016-09-23\n"
     ]
    }
   ],
   "source": [
    "\n",
    "import datetime \n",
    "date = datetime.datetime.now()\n",
    "print '驻圣保罗总领馆经商室' + ' ' * 80 + ' 日期：' + datetime.datetime.now().strftime('%Y-%m-%d')\n"
   ]
  },
  {
   "cell_type": "code",
   "execution_count": 1,
   "metadata": {
    "collapsed": false
   },
   "outputs": [
    {
     "name": "stdout",
     "output_type": "stream",
     "text": [
      "========================================================================================================================\n"
     ]
    }
   ],
   "source": [
    "print '=' * 120"
   ]
  },
  {
   "cell_type": "code",
   "execution_count": 4,
   "metadata": {
    "collapsed": false
   },
   "outputs": [],
   "source": [
    "import numpy as np\n",
    "import pandas as pd\n",
    "import matplotlib as mpl\n",
    "import matplotlib.pyplot as plt \n",
    "import datetime\n",
    "from datetime import datetime, timedelta\n",
    "from dateutil.parser import parse\n",
    "import urllib \n",
    "from urllib import urlretrieve\n",
    "import warnings; warnings.simplefilter('ignore') \n",
    "%matplotlib inline"
   ]
  },
  {
   "cell_type": "code",
   "execution_count": 127,
   "metadata": {
    "collapsed": false
   },
   "outputs": [
    {
     "name": "stdout",
     "output_type": "stream",
     "text": [
      "一、国内生产总值（单位：百万雷亚尔,当前价格)\n"
     ]
    },
    {
     "data": {
      "text/plain": [
       "\"\\nimport matplotlib.font_manager as fm\\nmyfont = fm.FontProperties(fname='C:/Windows/Fonts/simkai.ttf')\\nplt.figure(figsize=(10, 6))\\nplt.plot(data_nmrc['V'][1:5], 'r' )\\nplt.xlabel('time')\\nplt.ylabel('production')\\nplt.title('brazil', fontproperties=myfont)\\nplt.grid(True)\\n\""
      ]
     },
     "execution_count": 127,
     "metadata": {},
     "output_type": "execute_result"
    }
   ],
   "source": [
    "print '一、国内生产总值（单位：百万雷亚尔,当前价格)'\n",
    "url1 = 'http://www.sidra.ibge.gov.br/api/values'\n",
    "url2 = '/t/1846/n1/1/c11255/all/p/last12/v/585/d/s/f/n/h/y'\n",
    "url = url1 + url2\n",
    "data = pd.read_json(url)\n",
    "data_nmrc = data.convert_objects(convert_numeric=True) #转换数据为数字\n",
    "import re\n",
    "dic01 = {'1':3, '2':6, '3':9, '4':12 }\n",
    "for i, j in dic01.iteritems():\n",
    "     if i in data_nmrc['D3N'][1][0]:\n",
    "         month_bgn = str(j)\n",
    "year_bgn = str(data_nmrc['D3N'][1][13:17])\n",
    "startdate = year_bgn + '-' + month_bgn\n",
    "prdrg = pd.period_range(startdate, periods=12, freq='3M')\n",
    "data_comp = DataFrame(np.random.standard_normal((12,4)), \n",
    "                      columns=('国内生产总值','工业','农业','服务业'), \n",
    "                      index = prdrg) \n",
    "data_comp['国内生产总值'] = data_nmrc['V'][193:205]\n",
    "\n",
    "'''\n",
    "import matplotlib.font_manager as fm\n",
    "myfont = fm.FontProperties(fname='C:/Windows/Fonts/simkai.ttf')\n",
    "plt.figure(figsize=(10, 6))\n",
    "plt.plot(data_nmrc['V'][1:5], 'r' )\n",
    "plt.xlabel('time')\n",
    "plt.ylabel('production')\n",
    "plt.title('brazil', fontproperties=myfont)\n",
    "plt.grid(True)\n",
    "'''"
   ]
  },
  {
   "cell_type": "code",
   "execution_count": 123,
   "metadata": {
    "collapsed": false
   },
   "outputs": [
    {
     "data": {
      "text/html": [
       "<div>\n",
       "<table border=\"1\" class=\"dataframe\">\n",
       "  <thead>\n",
       "    <tr style=\"text-align: right;\">\n",
       "      <th></th>\n",
       "      <th>国内生产总值</th>\n",
       "      <th>工业</th>\n",
       "      <th>农业</th>\n",
       "      <th>服务业</th>\n",
       "    </tr>\n",
       "  </thead>\n",
       "  <tbody>\n",
       "    <tr>\n",
       "      <th>2013-09</th>\n",
       "      <td>NaN</td>\n",
       "      <td>1.621751</td>\n",
       "      <td>-0.753541</td>\n",
       "      <td>0.175584</td>\n",
       "    </tr>\n",
       "    <tr>\n",
       "      <th>2013-12</th>\n",
       "      <td>NaN</td>\n",
       "      <td>-0.287433</td>\n",
       "      <td>-1.635886</td>\n",
       "      <td>-0.998567</td>\n",
       "    </tr>\n",
       "    <tr>\n",
       "      <th>2014-03</th>\n",
       "      <td>NaN</td>\n",
       "      <td>-1.052437</td>\n",
       "      <td>0.632718</td>\n",
       "      <td>-1.850977</td>\n",
       "    </tr>\n",
       "    <tr>\n",
       "      <th>2014-06</th>\n",
       "      <td>NaN</td>\n",
       "      <td>0.471406</td>\n",
       "      <td>-1.316485</td>\n",
       "      <td>-1.165238</td>\n",
       "    </tr>\n",
       "    <tr>\n",
       "      <th>2014-09</th>\n",
       "      <td>NaN</td>\n",
       "      <td>1.151962</td>\n",
       "      <td>0.176988</td>\n",
       "      <td>-1.200731</td>\n",
       "    </tr>\n",
       "    <tr>\n",
       "      <th>2014-12</th>\n",
       "      <td>NaN</td>\n",
       "      <td>-1.043397</td>\n",
       "      <td>0.154416</td>\n",
       "      <td>1.217961</td>\n",
       "    </tr>\n",
       "    <tr>\n",
       "      <th>2015-03</th>\n",
       "      <td>NaN</td>\n",
       "      <td>0.151669</td>\n",
       "      <td>0.704988</td>\n",
       "      <td>1.088130</td>\n",
       "    </tr>\n",
       "    <tr>\n",
       "      <th>2015-06</th>\n",
       "      <td>NaN</td>\n",
       "      <td>-0.413572</td>\n",
       "      <td>-0.777773</td>\n",
       "      <td>-0.990176</td>\n",
       "    </tr>\n",
       "    <tr>\n",
       "      <th>2015-09</th>\n",
       "      <td>NaN</td>\n",
       "      <td>-1.644517</td>\n",
       "      <td>0.185161</td>\n",
       "      <td>1.290170</td>\n",
       "    </tr>\n",
       "    <tr>\n",
       "      <th>2015-12</th>\n",
       "      <td>NaN</td>\n",
       "      <td>0.207220</td>\n",
       "      <td>-0.267710</td>\n",
       "      <td>-0.727725</td>\n",
       "    </tr>\n",
       "    <tr>\n",
       "      <th>2016-03</th>\n",
       "      <td>NaN</td>\n",
       "      <td>-0.083980</td>\n",
       "      <td>-0.092388</td>\n",
       "      <td>0.044014</td>\n",
       "    </tr>\n",
       "    <tr>\n",
       "      <th>2016-06</th>\n",
       "      <td>NaN</td>\n",
       "      <td>-1.325595</td>\n",
       "      <td>-1.602637</td>\n",
       "      <td>-0.265589</td>\n",
       "    </tr>\n",
       "  </tbody>\n",
       "</table>\n",
       "</div>"
      ],
      "text/plain": [
       "         国内生产总值        工业        农业       服务业\n",
       "2013-09     NaN  1.621751 -0.753541  0.175584\n",
       "2013-12     NaN -0.287433 -1.635886 -0.998567\n",
       "2014-03     NaN -1.052437  0.632718 -1.850977\n",
       "2014-06     NaN  0.471406 -1.316485 -1.165238\n",
       "2014-09     NaN  1.151962  0.176988 -1.200731\n",
       "2014-12     NaN -1.043397  0.154416  1.217961\n",
       "2015-03     NaN  0.151669  0.704988  1.088130\n",
       "2015-06     NaN -0.413572 -0.777773 -0.990176\n",
       "2015-09     NaN -1.644517  0.185161  1.290170\n",
       "2015-12     NaN  0.207220 -0.267710 -0.727725\n",
       "2016-03     NaN -0.083980 -0.092388  0.044014\n",
       "2016-06     NaN -1.325595 -1.602637 -0.265589"
      ]
     },
     "execution_count": 123,
     "metadata": {},
     "output_type": "execute_result"
    }
   ],
   "source": [
    "data_comp"
   ]
  },
  {
   "cell_type": "code",
   "execution_count": 115,
   "metadata": {
    "collapsed": false
   },
   "outputs": [
    {
     "data": {
      "text/plain": [
       "193    1350088.0\n",
       "194    1405412.0\n",
       "195    1368454.0\n",
       "196    1400631.0\n",
       "197    1435568.0\n",
       "198    1482657.0\n",
       "199    1434823.0\n",
       "200    1456502.0\n",
       "201    1481380.0\n",
       "202    1531627.0\n",
       "203    1473837.0\n",
       "204    1530413.0\n",
       "Name: V, dtype: float64"
      ]
     },
     "execution_count": 115,
     "metadata": {},
     "output_type": "execute_result"
    }
   ],
   "source": [
    "data_nmrc['V'][193:205]"
   ]
  },
  {
   "cell_type": "code",
   "execution_count": 106,
   "metadata": {
    "collapsed": false
   },
   "outputs": [
    {
     "data": {
      "text/html": [
       "<div>\n",
       "<table border=\"1\" class=\"dataframe\">\n",
       "  <thead>\n",
       "    <tr style=\"text-align: right;\">\n",
       "      <th></th>\n",
       "      <th>D1N</th>\n",
       "      <th>D2N</th>\n",
       "      <th>D3N</th>\n",
       "      <th>D4N</th>\n",
       "      <th>MN</th>\n",
       "      <th>V</th>\n",
       "    </tr>\n",
       "  </thead>\n",
       "  <tbody>\n",
       "    <tr>\n",
       "      <th>180</th>\n",
       "      <td>Brasil</td>\n",
       "      <td>Valor adicionado a preços básicos</td>\n",
       "      <td>2º trimestre 2016</td>\n",
       "      <td>Valores a preços correntes</td>\n",
       "      <td>Milhões de Reais</td>\n",
       "      <td>1318088.0</td>\n",
       "    </tr>\n",
       "    <tr>\n",
       "      <th>181</th>\n",
       "      <td>Brasil</td>\n",
       "      <td>Impostos líquidos sobre produtos</td>\n",
       "      <td>3º trimestre 2013</td>\n",
       "      <td>Valores a preços correntes</td>\n",
       "      <td>Milhões de Reais</td>\n",
       "      <td>190557.0</td>\n",
       "    </tr>\n",
       "    <tr>\n",
       "      <th>182</th>\n",
       "      <td>Brasil</td>\n",
       "      <td>Impostos líquidos sobre produtos</td>\n",
       "      <td>4º trimestre 2013</td>\n",
       "      <td>Valores a preços correntes</td>\n",
       "      <td>Milhões de Reais</td>\n",
       "      <td>214666.0</td>\n",
       "    </tr>\n",
       "    <tr>\n",
       "      <th>183</th>\n",
       "      <td>Brasil</td>\n",
       "      <td>Impostos líquidos sobre produtos</td>\n",
       "      <td>1º trimestre 2014</td>\n",
       "      <td>Valores a preços correntes</td>\n",
       "      <td>Milhões de Reais</td>\n",
       "      <td>196620.0</td>\n",
       "    </tr>\n",
       "    <tr>\n",
       "      <th>184</th>\n",
       "      <td>Brasil</td>\n",
       "      <td>Impostos líquidos sobre produtos</td>\n",
       "      <td>2º trimestre 2014</td>\n",
       "      <td>Valores a preços correntes</td>\n",
       "      <td>Milhões de Reais</td>\n",
       "      <td>196410.0</td>\n",
       "    </tr>\n",
       "    <tr>\n",
       "      <th>185</th>\n",
       "      <td>Brasil</td>\n",
       "      <td>Impostos líquidos sobre produtos</td>\n",
       "      <td>3º trimestre 2014</td>\n",
       "      <td>Valores a preços correntes</td>\n",
       "      <td>Milhões de Reais</td>\n",
       "      <td>195553.0</td>\n",
       "    </tr>\n",
       "    <tr>\n",
       "      <th>186</th>\n",
       "      <td>Brasil</td>\n",
       "      <td>Impostos líquidos sobre produtos</td>\n",
       "      <td>4º trimestre 2014</td>\n",
       "      <td>Valores a preços correntes</td>\n",
       "      <td>Milhões de Reais</td>\n",
       "      <td>220791.0</td>\n",
       "    </tr>\n",
       "    <tr>\n",
       "      <th>187</th>\n",
       "      <td>Brasil</td>\n",
       "      <td>Impostos líquidos sobre produtos</td>\n",
       "      <td>1º trimestre 2015</td>\n",
       "      <td>Valores a preços correntes</td>\n",
       "      <td>Milhões de Reais</td>\n",
       "      <td>207642.0</td>\n",
       "    </tr>\n",
       "    <tr>\n",
       "      <th>188</th>\n",
       "      <td>Brasil</td>\n",
       "      <td>Impostos líquidos sobre produtos</td>\n",
       "      <td>2º trimestre 2015</td>\n",
       "      <td>Valores a preços correntes</td>\n",
       "      <td>Milhões de Reais</td>\n",
       "      <td>209149.0</td>\n",
       "    </tr>\n",
       "    <tr>\n",
       "      <th>189</th>\n",
       "      <td>Brasil</td>\n",
       "      <td>Impostos líquidos sobre produtos</td>\n",
       "      <td>3º trimestre 2015</td>\n",
       "      <td>Valores a preços correntes</td>\n",
       "      <td>Milhões de Reais</td>\n",
       "      <td>214184.0</td>\n",
       "    </tr>\n",
       "    <tr>\n",
       "      <th>190</th>\n",
       "      <td>Brasil</td>\n",
       "      <td>Impostos líquidos sobre produtos</td>\n",
       "      <td>4º trimestre 2015</td>\n",
       "      <td>Valores a preços correntes</td>\n",
       "      <td>Milhões de Reais</td>\n",
       "      <td>217988.0</td>\n",
       "    </tr>\n",
       "    <tr>\n",
       "      <th>191</th>\n",
       "      <td>Brasil</td>\n",
       "      <td>Impostos líquidos sobre produtos</td>\n",
       "      <td>1º trimestre 2016</td>\n",
       "      <td>Valores a preços correntes</td>\n",
       "      <td>Milhões de Reais</td>\n",
       "      <td>213737.0</td>\n",
       "    </tr>\n",
       "    <tr>\n",
       "      <th>192</th>\n",
       "      <td>Brasil</td>\n",
       "      <td>Impostos líquidos sobre produtos</td>\n",
       "      <td>2º trimestre 2016</td>\n",
       "      <td>Valores a preços correntes</td>\n",
       "      <td>Milhões de Reais</td>\n",
       "      <td>212325.0</td>\n",
       "    </tr>\n",
       "    <tr>\n",
       "      <th>193</th>\n",
       "      <td>Brasil</td>\n",
       "      <td>PIB a preços de mercado</td>\n",
       "      <td>3º trimestre 2013</td>\n",
       "      <td>Valores a preços correntes</td>\n",
       "      <td>Milhões de Reais</td>\n",
       "      <td>1350088.0</td>\n",
       "    </tr>\n",
       "    <tr>\n",
       "      <th>194</th>\n",
       "      <td>Brasil</td>\n",
       "      <td>PIB a preços de mercado</td>\n",
       "      <td>4º trimestre 2013</td>\n",
       "      <td>Valores a preços correntes</td>\n",
       "      <td>Milhões de Reais</td>\n",
       "      <td>1405412.0</td>\n",
       "    </tr>\n",
       "    <tr>\n",
       "      <th>195</th>\n",
       "      <td>Brasil</td>\n",
       "      <td>PIB a preços de mercado</td>\n",
       "      <td>1º trimestre 2014</td>\n",
       "      <td>Valores a preços correntes</td>\n",
       "      <td>Milhões de Reais</td>\n",
       "      <td>1368454.0</td>\n",
       "    </tr>\n",
       "    <tr>\n",
       "      <th>196</th>\n",
       "      <td>Brasil</td>\n",
       "      <td>PIB a preços de mercado</td>\n",
       "      <td>2º trimestre 2014</td>\n",
       "      <td>Valores a preços correntes</td>\n",
       "      <td>Milhões de Reais</td>\n",
       "      <td>1400631.0</td>\n",
       "    </tr>\n",
       "    <tr>\n",
       "      <th>197</th>\n",
       "      <td>Brasil</td>\n",
       "      <td>PIB a preços de mercado</td>\n",
       "      <td>3º trimestre 2014</td>\n",
       "      <td>Valores a preços correntes</td>\n",
       "      <td>Milhões de Reais</td>\n",
       "      <td>1435568.0</td>\n",
       "    </tr>\n",
       "    <tr>\n",
       "      <th>198</th>\n",
       "      <td>Brasil</td>\n",
       "      <td>PIB a preços de mercado</td>\n",
       "      <td>4º trimestre 2014</td>\n",
       "      <td>Valores a preços correntes</td>\n",
       "      <td>Milhões de Reais</td>\n",
       "      <td>1482657.0</td>\n",
       "    </tr>\n",
       "    <tr>\n",
       "      <th>199</th>\n",
       "      <td>Brasil</td>\n",
       "      <td>PIB a preços de mercado</td>\n",
       "      <td>1º trimestre 2015</td>\n",
       "      <td>Valores a preços correntes</td>\n",
       "      <td>Milhões de Reais</td>\n",
       "      <td>1434823.0</td>\n",
       "    </tr>\n",
       "    <tr>\n",
       "      <th>200</th>\n",
       "      <td>Brasil</td>\n",
       "      <td>PIB a preços de mercado</td>\n",
       "      <td>2º trimestre 2015</td>\n",
       "      <td>Valores a preços correntes</td>\n",
       "      <td>Milhões de Reais</td>\n",
       "      <td>1456502.0</td>\n",
       "    </tr>\n",
       "    <tr>\n",
       "      <th>201</th>\n",
       "      <td>Brasil</td>\n",
       "      <td>PIB a preços de mercado</td>\n",
       "      <td>3º trimestre 2015</td>\n",
       "      <td>Valores a preços correntes</td>\n",
       "      <td>Milhões de Reais</td>\n",
       "      <td>1481380.0</td>\n",
       "    </tr>\n",
       "    <tr>\n",
       "      <th>202</th>\n",
       "      <td>Brasil</td>\n",
       "      <td>PIB a preços de mercado</td>\n",
       "      <td>4º trimestre 2015</td>\n",
       "      <td>Valores a preços correntes</td>\n",
       "      <td>Milhões de Reais</td>\n",
       "      <td>1531627.0</td>\n",
       "    </tr>\n",
       "    <tr>\n",
       "      <th>203</th>\n",
       "      <td>Brasil</td>\n",
       "      <td>PIB a preços de mercado</td>\n",
       "      <td>1º trimestre 2016</td>\n",
       "      <td>Valores a preços correntes</td>\n",
       "      <td>Milhões de Reais</td>\n",
       "      <td>1473837.0</td>\n",
       "    </tr>\n",
       "    <tr>\n",
       "      <th>204</th>\n",
       "      <td>Brasil</td>\n",
       "      <td>PIB a preços de mercado</td>\n",
       "      <td>2º trimestre 2016</td>\n",
       "      <td>Valores a preços correntes</td>\n",
       "      <td>Milhões de Reais</td>\n",
       "      <td>1530413.0</td>\n",
       "    </tr>\n",
       "    <tr>\n",
       "      <th>205</th>\n",
       "      <td>Brasil</td>\n",
       "      <td>Despesa de consumo das famílias</td>\n",
       "      <td>3º trimestre 2013</td>\n",
       "      <td>Valores a preços correntes</td>\n",
       "      <td>Milhões de Reais</td>\n",
       "      <td>829289.0</td>\n",
       "    </tr>\n",
       "    <tr>\n",
       "      <th>206</th>\n",
       "      <td>Brasil</td>\n",
       "      <td>Despesa de consumo das famílias</td>\n",
       "      <td>4º trimestre 2013</td>\n",
       "      <td>Valores a preços correntes</td>\n",
       "      <td>Milhões de Reais</td>\n",
       "      <td>866284.0</td>\n",
       "    </tr>\n",
       "    <tr>\n",
       "      <th>207</th>\n",
       "      <td>Brasil</td>\n",
       "      <td>Despesa de consumo das famílias</td>\n",
       "      <td>1º trimestre 2014</td>\n",
       "      <td>Valores a preços correntes</td>\n",
       "      <td>Milhões de Reais</td>\n",
       "      <td>854115.0</td>\n",
       "    </tr>\n",
       "    <tr>\n",
       "      <th>208</th>\n",
       "      <td>Brasil</td>\n",
       "      <td>Despesa de consumo das famílias</td>\n",
       "      <td>2º trimestre 2014</td>\n",
       "      <td>Valores a preços correntes</td>\n",
       "      <td>Milhões de Reais</td>\n",
       "      <td>865640.0</td>\n",
       "    </tr>\n",
       "    <tr>\n",
       "      <th>209</th>\n",
       "      <td>Brasil</td>\n",
       "      <td>Despesa de consumo das famílias</td>\n",
       "      <td>3º trimestre 2014</td>\n",
       "      <td>Valores a preços correntes</td>\n",
       "      <td>Milhões de Reais</td>\n",
       "      <td>887872.0</td>\n",
       "    </tr>\n",
       "    <tr>\n",
       "      <th>210</th>\n",
       "      <td>Brasil</td>\n",
       "      <td>Despesa de consumo das famílias</td>\n",
       "      <td>4º trimestre 2014</td>\n",
       "      <td>Valores a preços correntes</td>\n",
       "      <td>Milhões de Reais</td>\n",
       "      <td>939801.0</td>\n",
       "    </tr>\n",
       "    <tr>\n",
       "      <th>211</th>\n",
       "      <td>Brasil</td>\n",
       "      <td>Despesa de consumo das famílias</td>\n",
       "      <td>1º trimestre 2015</td>\n",
       "      <td>Valores a preços correntes</td>\n",
       "      <td>Milhões de Reais</td>\n",
       "      <td>912123.0</td>\n",
       "    </tr>\n",
       "    <tr>\n",
       "      <th>212</th>\n",
       "      <td>Brasil</td>\n",
       "      <td>Despesa de consumo das famílias</td>\n",
       "      <td>2º trimestre 2015</td>\n",
       "      <td>Valores a preços correntes</td>\n",
       "      <td>Milhões de Reais</td>\n",
       "      <td>915771.0</td>\n",
       "    </tr>\n",
       "    <tr>\n",
       "      <th>213</th>\n",
       "      <td>Brasil</td>\n",
       "      <td>Despesa de consumo das famílias</td>\n",
       "      <td>3º trimestre 2015</td>\n",
       "      <td>Valores a preços correntes</td>\n",
       "      <td>Milhões de Reais</td>\n",
       "      <td>937195.0</td>\n",
       "    </tr>\n",
       "    <tr>\n",
       "      <th>214</th>\n",
       "      <td>Brasil</td>\n",
       "      <td>Despesa de consumo das famílias</td>\n",
       "      <td>4º trimestre 2015</td>\n",
       "      <td>Valores a preços correntes</td>\n",
       "      <td>Milhões de Reais</td>\n",
       "      <td>976767.0</td>\n",
       "    </tr>\n",
       "    <tr>\n",
       "      <th>215</th>\n",
       "      <td>Brasil</td>\n",
       "      <td>Despesa de consumo das famílias</td>\n",
       "      <td>1º trimestre 2016</td>\n",
       "      <td>Valores a preços correntes</td>\n",
       "      <td>Milhões de Reais</td>\n",
       "      <td>946616.0</td>\n",
       "    </tr>\n",
       "    <tr>\n",
       "      <th>216</th>\n",
       "      <td>Brasil</td>\n",
       "      <td>Despesa de consumo das famílias</td>\n",
       "      <td>2º trimestre 2016</td>\n",
       "      <td>Valores a preços correntes</td>\n",
       "      <td>Milhões de Reais</td>\n",
       "      <td>959971.0</td>\n",
       "    </tr>\n",
       "    <tr>\n",
       "      <th>217</th>\n",
       "      <td>Brasil</td>\n",
       "      <td>Despesa de consumo da administração pública</td>\n",
       "      <td>3º trimestre 2013</td>\n",
       "      <td>Valores a preços correntes</td>\n",
       "      <td>Milhões de Reais</td>\n",
       "      <td>244489.0</td>\n",
       "    </tr>\n",
       "    <tr>\n",
       "      <th>218</th>\n",
       "      <td>Brasil</td>\n",
       "      <td>Despesa de consumo da administração pública</td>\n",
       "      <td>4º trimestre 2013</td>\n",
       "      <td>Valores a preços correntes</td>\n",
       "      <td>Milhões de Reais</td>\n",
       "      <td>301468.0</td>\n",
       "    </tr>\n",
       "    <tr>\n",
       "      <th>219</th>\n",
       "      <td>Brasil</td>\n",
       "      <td>Despesa de consumo da administração pública</td>\n",
       "      <td>1º trimestre 2014</td>\n",
       "      <td>Valores a preços correntes</td>\n",
       "      <td>Milhões de Reais</td>\n",
       "      <td>245319.0</td>\n",
       "    </tr>\n",
       "  </tbody>\n",
       "</table>\n",
       "</div>"
      ],
      "text/plain": [
       "        D1N                                          D2N                D3N  \\\n",
       "180  Brasil            Valor adicionado a preços básicos  2º trimestre 2016   \n",
       "181  Brasil             Impostos líquidos sobre produtos  3º trimestre 2013   \n",
       "182  Brasil             Impostos líquidos sobre produtos  4º trimestre 2013   \n",
       "183  Brasil             Impostos líquidos sobre produtos  1º trimestre 2014   \n",
       "184  Brasil             Impostos líquidos sobre produtos  2º trimestre 2014   \n",
       "185  Brasil             Impostos líquidos sobre produtos  3º trimestre 2014   \n",
       "186  Brasil             Impostos líquidos sobre produtos  4º trimestre 2014   \n",
       "187  Brasil             Impostos líquidos sobre produtos  1º trimestre 2015   \n",
       "188  Brasil             Impostos líquidos sobre produtos  2º trimestre 2015   \n",
       "189  Brasil             Impostos líquidos sobre produtos  3º trimestre 2015   \n",
       "190  Brasil             Impostos líquidos sobre produtos  4º trimestre 2015   \n",
       "191  Brasil             Impostos líquidos sobre produtos  1º trimestre 2016   \n",
       "192  Brasil             Impostos líquidos sobre produtos  2º trimestre 2016   \n",
       "193  Brasil                      PIB a preços de mercado  3º trimestre 2013   \n",
       "194  Brasil                      PIB a preços de mercado  4º trimestre 2013   \n",
       "195  Brasil                      PIB a preços de mercado  1º trimestre 2014   \n",
       "196  Brasil                      PIB a preços de mercado  2º trimestre 2014   \n",
       "197  Brasil                      PIB a preços de mercado  3º trimestre 2014   \n",
       "198  Brasil                      PIB a preços de mercado  4º trimestre 2014   \n",
       "199  Brasil                      PIB a preços de mercado  1º trimestre 2015   \n",
       "200  Brasil                      PIB a preços de mercado  2º trimestre 2015   \n",
       "201  Brasil                      PIB a preços de mercado  3º trimestre 2015   \n",
       "202  Brasil                      PIB a preços de mercado  4º trimestre 2015   \n",
       "203  Brasil                      PIB a preços de mercado  1º trimestre 2016   \n",
       "204  Brasil                      PIB a preços de mercado  2º trimestre 2016   \n",
       "205  Brasil              Despesa de consumo das famílias  3º trimestre 2013   \n",
       "206  Brasil              Despesa de consumo das famílias  4º trimestre 2013   \n",
       "207  Brasil              Despesa de consumo das famílias  1º trimestre 2014   \n",
       "208  Brasil              Despesa de consumo das famílias  2º trimestre 2014   \n",
       "209  Brasil              Despesa de consumo das famílias  3º trimestre 2014   \n",
       "210  Brasil              Despesa de consumo das famílias  4º trimestre 2014   \n",
       "211  Brasil              Despesa de consumo das famílias  1º trimestre 2015   \n",
       "212  Brasil              Despesa de consumo das famílias  2º trimestre 2015   \n",
       "213  Brasil              Despesa de consumo das famílias  3º trimestre 2015   \n",
       "214  Brasil              Despesa de consumo das famílias  4º trimestre 2015   \n",
       "215  Brasil              Despesa de consumo das famílias  1º trimestre 2016   \n",
       "216  Brasil              Despesa de consumo das famílias  2º trimestre 2016   \n",
       "217  Brasil  Despesa de consumo da administração pública  3º trimestre 2013   \n",
       "218  Brasil  Despesa de consumo da administração pública  4º trimestre 2013   \n",
       "219  Brasil  Despesa de consumo da administração pública  1º trimestre 2014   \n",
       "\n",
       "                            D4N                MN          V  \n",
       "180  Valores a preços correntes  Milhões de Reais  1318088.0  \n",
       "181  Valores a preços correntes  Milhões de Reais   190557.0  \n",
       "182  Valores a preços correntes  Milhões de Reais   214666.0  \n",
       "183  Valores a preços correntes  Milhões de Reais   196620.0  \n",
       "184  Valores a preços correntes  Milhões de Reais   196410.0  \n",
       "185  Valores a preços correntes  Milhões de Reais   195553.0  \n",
       "186  Valores a preços correntes  Milhões de Reais   220791.0  \n",
       "187  Valores a preços correntes  Milhões de Reais   207642.0  \n",
       "188  Valores a preços correntes  Milhões de Reais   209149.0  \n",
       "189  Valores a preços correntes  Milhões de Reais   214184.0  \n",
       "190  Valores a preços correntes  Milhões de Reais   217988.0  \n",
       "191  Valores a preços correntes  Milhões de Reais   213737.0  \n",
       "192  Valores a preços correntes  Milhões de Reais   212325.0  \n",
       "193  Valores a preços correntes  Milhões de Reais  1350088.0  \n",
       "194  Valores a preços correntes  Milhões de Reais  1405412.0  \n",
       "195  Valores a preços correntes  Milhões de Reais  1368454.0  \n",
       "196  Valores a preços correntes  Milhões de Reais  1400631.0  \n",
       "197  Valores a preços correntes  Milhões de Reais  1435568.0  \n",
       "198  Valores a preços correntes  Milhões de Reais  1482657.0  \n",
       "199  Valores a preços correntes  Milhões de Reais  1434823.0  \n",
       "200  Valores a preços correntes  Milhões de Reais  1456502.0  \n",
       "201  Valores a preços correntes  Milhões de Reais  1481380.0  \n",
       "202  Valores a preços correntes  Milhões de Reais  1531627.0  \n",
       "203  Valores a preços correntes  Milhões de Reais  1473837.0  \n",
       "204  Valores a preços correntes  Milhões de Reais  1530413.0  \n",
       "205  Valores a preços correntes  Milhões de Reais   829289.0  \n",
       "206  Valores a preços correntes  Milhões de Reais   866284.0  \n",
       "207  Valores a preços correntes  Milhões de Reais   854115.0  \n",
       "208  Valores a preços correntes  Milhões de Reais   865640.0  \n",
       "209  Valores a preços correntes  Milhões de Reais   887872.0  \n",
       "210  Valores a preços correntes  Milhões de Reais   939801.0  \n",
       "211  Valores a preços correntes  Milhões de Reais   912123.0  \n",
       "212  Valores a preços correntes  Milhões de Reais   915771.0  \n",
       "213  Valores a preços correntes  Milhões de Reais   937195.0  \n",
       "214  Valores a preços correntes  Milhões de Reais   976767.0  \n",
       "215  Valores a preços correntes  Milhões de Reais   946616.0  \n",
       "216  Valores a preços correntes  Milhões de Reais   959971.0  \n",
       "217  Valores a preços correntes  Milhões de Reais   244489.0  \n",
       "218  Valores a preços correntes  Milhões de Reais   301468.0  \n",
       "219  Valores a preços correntes  Milhões de Reais   245319.0  "
      ]
     },
     "execution_count": 106,
     "metadata": {},
     "output_type": "execute_result"
    }
   ],
   "source": [
    "data_nmrc[180:220]"
   ]
  },
  {
   "cell_type": "code",
   "execution_count": null,
   "metadata": {
    "collapsed": false
   },
   "outputs": [],
   "source": []
  },
  {
   "cell_type": "code",
   "execution_count": 166,
   "metadata": {
    "collapsed": false
   },
   "outputs": [
    {
     "data": {
      "text/plain": [
       "'0             quarter\\n1     2nd quarter 2016\\n2     2nd quarter 2016\\n3     2nd quarter 2016\\n4     2nd quarter 2016\\n5     2nd quarter 2016\\n6     2nd quarter 2016\\n7     2nd quarter 2016\\n8     2nd quarter 2016\\n9     2nd quarter 2016\\n10    2nd quarter 2016\\n11    2nd quarter 2016\\n12    2nd quarter 2016\\n13    2nd quarter 2016\\n14    2nd quarter 2016\\n15    2nd quarter 2016\\n16    2nd quarter 2016\\n17    2nd quarter 2016\\n18    2nd quarter 2016\\n19    2nd quarter 2016\\n20    2nd quarter 2016\\n21    2nd quarter 2016\\n22    2nd quarter 2016\\n23    2nd quarter 2016\\nName: D3N, dtype: object'"
      ]
     },
     "execution_count": 166,
     "metadata": {},
     "output_type": "execute_result"
    }
   ],
   "source": [
    "text = str(data_nmrc['D3N'])\n",
    "dic = {'2\\xc2\\xba trimestre':'2nd quarter', 'Trimestre':'quarter'}\n",
    "def replace_all(text, dic):\n",
    "    for i, j in dic.iteritems():\n",
    "        text = text.replace(i, j)\n",
    "    return text\n",
    "replace_all(text,dic)\n"
   ]
  },
  {
   "cell_type": "code",
   "execution_count": 167,
   "metadata": {
    "collapsed": false
   },
   "outputs": [
    {
     "data": {
      "text/plain": [
       "datetime.datetime(2016, 2, 24, 0, 0)"
      ]
     },
     "execution_count": 167,
     "metadata": {},
     "output_type": "execute_result"
    }
   ],
   "source": [
    "import dateutil #引入时间解析库\n",
    "from dateutil.parser import parse\n",
    "import locale\n",
    "dateutil.parser.parse(' 2nd quarter 2016', fuzzy=True, )\n",
    "\n"
   ]
  },
  {
   "cell_type": "code",
   "execution_count": 58,
   "metadata": {
    "collapsed": true
   },
   "outputs": [],
   "source": [
    "dateutil.parser.parse?"
   ]
  },
  {
   "cell_type": "code",
   "execution_count": 101,
   "metadata": {
    "collapsed": false
   },
   "outputs": [
    {
     "ename": "ValueError",
     "evalue": "(\"'Q' is a bad directive in format '%Q\\xba trimestre %Y'\", u'occurred at index D1N')",
     "output_type": "error",
     "traceback": [
      "\u001b[1;31m---------------------------------------------------------------------------\u001b[0m",
      "\u001b[1;31mValueError\u001b[0m                                Traceback (most recent call last)",
      "\u001b[1;32m<ipython-input-101-601f48206f3d>\u001b[0m in \u001b[0;36m<module>\u001b[1;34m()\u001b[0m\n\u001b[0;32m      3\u001b[0m     \u001b[1;32mreturn\u001b[0m \u001b[0mtimedelta\u001b[0m\u001b[1;33m(\u001b[0m\u001b[0mquarter\u001b[0m\u001b[1;33m=\u001b[0m\u001b[0mt\u001b[0m\u001b[1;33m.\u001b[0m\u001b[0mquarter\u001b[0m\u001b[1;33m,\u001b[0m \u001b[0myear\u001b[0m\u001b[1;33m=\u001b[0m\u001b[0mt\u001b[0m\u001b[1;33m.\u001b[0m\u001b[0myear\u001b[0m\u001b[1;33m)\u001b[0m\u001b[1;33m\u001b[0m\u001b[0m\n\u001b[0;32m      4\u001b[0m \u001b[1;33m\u001b[0m\u001b[0m\n\u001b[1;32m----> 5\u001b[1;33m \u001b[0mdata_nmrc\u001b[0m\u001b[1;33m.\u001b[0m\u001b[0mapplymap\u001b[0m\u001b[1;33m(\u001b[0m\u001b[0mconvert\u001b[0m\u001b[1;33m)\u001b[0m\u001b[1;33m\u001b[0m\u001b[0m\n\u001b[0m\u001b[0;32m      6\u001b[0m \u001b[1;33m\u001b[0m\u001b[0m\n\u001b[0;32m      7\u001b[0m \u001b[1;33m\u001b[0m\u001b[0m\n",
      "\u001b[1;32mC:\\Anaconda2\\lib\\site-packages\\pandas\\core\\frame.pyc\u001b[0m in \u001b[0;36mapplymap\u001b[1;34m(self, func)\u001b[0m\n\u001b[0;32m   4248\u001b[0m             \u001b[1;32mreturn\u001b[0m \u001b[0mlib\u001b[0m\u001b[1;33m.\u001b[0m\u001b[0mmap_infer\u001b[0m\u001b[1;33m(\u001b[0m\u001b[0mx\u001b[0m\u001b[1;33m.\u001b[0m\u001b[0masobject\u001b[0m\u001b[1;33m,\u001b[0m \u001b[0mfunc\u001b[0m\u001b[1;33m)\u001b[0m\u001b[1;33m\u001b[0m\u001b[0m\n\u001b[0;32m   4249\u001b[0m \u001b[1;33m\u001b[0m\u001b[0m\n\u001b[1;32m-> 4250\u001b[1;33m         \u001b[1;32mreturn\u001b[0m \u001b[0mself\u001b[0m\u001b[1;33m.\u001b[0m\u001b[0mapply\u001b[0m\u001b[1;33m(\u001b[0m\u001b[0minfer\u001b[0m\u001b[1;33m)\u001b[0m\u001b[1;33m\u001b[0m\u001b[0m\n\u001b[0m\u001b[0;32m   4251\u001b[0m \u001b[1;33m\u001b[0m\u001b[0m\n\u001b[0;32m   4252\u001b[0m     \u001b[1;31m# ----------------------------------------------------------------------\u001b[0m\u001b[1;33m\u001b[0m\u001b[1;33m\u001b[0m\u001b[0m\n",
      "\u001b[1;32mC:\\Anaconda2\\lib\\site-packages\\pandas\\core\\frame.pyc\u001b[0m in \u001b[0;36mapply\u001b[1;34m(self, func, axis, broadcast, raw, reduce, args, **kwds)\u001b[0m\n\u001b[0;32m   4059\u001b[0m                     \u001b[1;32mif\u001b[0m \u001b[0mreduce\u001b[0m \u001b[1;32mis\u001b[0m \u001b[0mNone\u001b[0m\u001b[1;33m:\u001b[0m\u001b[1;33m\u001b[0m\u001b[0m\n\u001b[0;32m   4060\u001b[0m                         \u001b[0mreduce\u001b[0m \u001b[1;33m=\u001b[0m \u001b[0mTrue\u001b[0m\u001b[1;33m\u001b[0m\u001b[0m\n\u001b[1;32m-> 4061\u001b[1;33m                     \u001b[1;32mreturn\u001b[0m \u001b[0mself\u001b[0m\u001b[1;33m.\u001b[0m\u001b[0m_apply_standard\u001b[0m\u001b[1;33m(\u001b[0m\u001b[0mf\u001b[0m\u001b[1;33m,\u001b[0m \u001b[0maxis\u001b[0m\u001b[1;33m,\u001b[0m \u001b[0mreduce\u001b[0m\u001b[1;33m=\u001b[0m\u001b[0mreduce\u001b[0m\u001b[1;33m)\u001b[0m\u001b[1;33m\u001b[0m\u001b[0m\n\u001b[0m\u001b[0;32m   4062\u001b[0m             \u001b[1;32melse\u001b[0m\u001b[1;33m:\u001b[0m\u001b[1;33m\u001b[0m\u001b[0m\n\u001b[0;32m   4063\u001b[0m                 \u001b[1;32mreturn\u001b[0m \u001b[0mself\u001b[0m\u001b[1;33m.\u001b[0m\u001b[0m_apply_broadcast\u001b[0m\u001b[1;33m(\u001b[0m\u001b[0mf\u001b[0m\u001b[1;33m,\u001b[0m \u001b[0maxis\u001b[0m\u001b[1;33m)\u001b[0m\u001b[1;33m\u001b[0m\u001b[0m\n",
      "\u001b[1;32mC:\\Anaconda2\\lib\\site-packages\\pandas\\core\\frame.pyc\u001b[0m in \u001b[0;36m_apply_standard\u001b[1;34m(self, func, axis, ignore_failures, reduce)\u001b[0m\n\u001b[0;32m   4155\u001b[0m             \u001b[1;32mtry\u001b[0m\u001b[1;33m:\u001b[0m\u001b[1;33m\u001b[0m\u001b[0m\n\u001b[0;32m   4156\u001b[0m                 \u001b[1;32mfor\u001b[0m \u001b[0mi\u001b[0m\u001b[1;33m,\u001b[0m \u001b[0mv\u001b[0m \u001b[1;32min\u001b[0m \u001b[0menumerate\u001b[0m\u001b[1;33m(\u001b[0m\u001b[0mseries_gen\u001b[0m\u001b[1;33m)\u001b[0m\u001b[1;33m:\u001b[0m\u001b[1;33m\u001b[0m\u001b[0m\n\u001b[1;32m-> 4157\u001b[1;33m                     \u001b[0mresults\u001b[0m\u001b[1;33m[\u001b[0m\u001b[0mi\u001b[0m\u001b[1;33m]\u001b[0m \u001b[1;33m=\u001b[0m \u001b[0mfunc\u001b[0m\u001b[1;33m(\u001b[0m\u001b[0mv\u001b[0m\u001b[1;33m)\u001b[0m\u001b[1;33m\u001b[0m\u001b[0m\n\u001b[0m\u001b[0;32m   4158\u001b[0m                     \u001b[0mkeys\u001b[0m\u001b[1;33m.\u001b[0m\u001b[0mappend\u001b[0m\u001b[1;33m(\u001b[0m\u001b[0mv\u001b[0m\u001b[1;33m.\u001b[0m\u001b[0mname\u001b[0m\u001b[1;33m)\u001b[0m\u001b[1;33m\u001b[0m\u001b[0m\n\u001b[0;32m   4159\u001b[0m             \u001b[1;32mexcept\u001b[0m \u001b[0mException\u001b[0m \u001b[1;32mas\u001b[0m \u001b[0me\u001b[0m\u001b[1;33m:\u001b[0m\u001b[1;33m\u001b[0m\u001b[0m\n",
      "\u001b[1;32mC:\\Anaconda2\\lib\\site-packages\\pandas\\core\\frame.pyc\u001b[0m in \u001b[0;36minfer\u001b[1;34m(x)\u001b[0m\n\u001b[0;32m   4246\u001b[0m         \u001b[1;31m# if we have a dtype == 'M8[ns]', provide boxed values\u001b[0m\u001b[1;33m\u001b[0m\u001b[1;33m\u001b[0m\u001b[0m\n\u001b[0;32m   4247\u001b[0m         \u001b[1;32mdef\u001b[0m \u001b[0minfer\u001b[0m\u001b[1;33m(\u001b[0m\u001b[0mx\u001b[0m\u001b[1;33m)\u001b[0m\u001b[1;33m:\u001b[0m\u001b[1;33m\u001b[0m\u001b[0m\n\u001b[1;32m-> 4248\u001b[1;33m             \u001b[1;32mreturn\u001b[0m \u001b[0mlib\u001b[0m\u001b[1;33m.\u001b[0m\u001b[0mmap_infer\u001b[0m\u001b[1;33m(\u001b[0m\u001b[0mx\u001b[0m\u001b[1;33m.\u001b[0m\u001b[0masobject\u001b[0m\u001b[1;33m,\u001b[0m \u001b[0mfunc\u001b[0m\u001b[1;33m)\u001b[0m\u001b[1;33m\u001b[0m\u001b[0m\n\u001b[0m\u001b[0;32m   4249\u001b[0m \u001b[1;33m\u001b[0m\u001b[0m\n\u001b[0;32m   4250\u001b[0m         \u001b[1;32mreturn\u001b[0m \u001b[0mself\u001b[0m\u001b[1;33m.\u001b[0m\u001b[0mapply\u001b[0m\u001b[1;33m(\u001b[0m\u001b[0minfer\u001b[0m\u001b[1;33m)\u001b[0m\u001b[1;33m\u001b[0m\u001b[0m\n",
      "\u001b[1;32mpandas\\src\\inference.pyx\u001b[0m in \u001b[0;36mpandas.lib.map_infer (pandas\\lib.c:62658)\u001b[1;34m()\u001b[0m\n",
      "\u001b[1;32m<ipython-input-101-601f48206f3d>\u001b[0m in \u001b[0;36mconvert\u001b[1;34m(s)\u001b[0m\n\u001b[0;32m      1\u001b[0m \u001b[1;32mdef\u001b[0m \u001b[0mconvert\u001b[0m\u001b[1;33m(\u001b[0m\u001b[0ms\u001b[0m\u001b[1;33m)\u001b[0m\u001b[1;33m:\u001b[0m\u001b[1;33m\u001b[0m\u001b[0m\n\u001b[1;32m----> 2\u001b[1;33m     \u001b[0mt\u001b[0m \u001b[1;33m=\u001b[0m \u001b[0mdatetime\u001b[0m\u001b[1;33m.\u001b[0m\u001b[0mstrptime\u001b[0m\u001b[1;33m(\u001b[0m\u001b[0ms\u001b[0m\u001b[1;33m,\u001b[0m \u001b[1;34m'%Q\\xba trimestre %Y'\u001b[0m\u001b[1;33m)\u001b[0m \u001b[1;31m#2\\xba trimestre 2016\u001b[0m\u001b[1;33m\u001b[0m\u001b[0m\n\u001b[0m\u001b[0;32m      3\u001b[0m     \u001b[1;32mreturn\u001b[0m \u001b[0mtimedelta\u001b[0m\u001b[1;33m(\u001b[0m\u001b[0mquarter\u001b[0m\u001b[1;33m=\u001b[0m\u001b[0mt\u001b[0m\u001b[1;33m.\u001b[0m\u001b[0mquarter\u001b[0m\u001b[1;33m,\u001b[0m \u001b[0myear\u001b[0m\u001b[1;33m=\u001b[0m\u001b[0mt\u001b[0m\u001b[1;33m.\u001b[0m\u001b[0myear\u001b[0m\u001b[1;33m)\u001b[0m\u001b[1;33m\u001b[0m\u001b[0m\n\u001b[0;32m      4\u001b[0m \u001b[1;33m\u001b[0m\u001b[0m\n\u001b[0;32m      5\u001b[0m \u001b[0mdata_nmrc\u001b[0m\u001b[1;33m.\u001b[0m\u001b[0mapplymap\u001b[0m\u001b[1;33m(\u001b[0m\u001b[0mconvert\u001b[0m\u001b[1;33m)\u001b[0m\u001b[1;33m\u001b[0m\u001b[0m\n",
      "\u001b[1;32mC:\\Anaconda2\\lib\\_strptime.pyc\u001b[0m in \u001b[0;36m_strptime\u001b[1;34m(data_string, format)\u001b[0m\n\u001b[0;32m    315\u001b[0m                 \u001b[1;32mdel\u001b[0m \u001b[0merr\u001b[0m\u001b[1;33m\u001b[0m\u001b[0m\n\u001b[0;32m    316\u001b[0m                 raise ValueError(\"'%s' is a bad directive in format '%s'\" %\n\u001b[1;32m--> 317\u001b[1;33m                                     (bad_directive, format))\n\u001b[0m\u001b[0;32m    318\u001b[0m             \u001b[1;31m# IndexError only occurs when the format string is \"%\"\u001b[0m\u001b[1;33m\u001b[0m\u001b[1;33m\u001b[0m\u001b[0m\n\u001b[0;32m    319\u001b[0m             \u001b[1;32mexcept\u001b[0m \u001b[0mIndexError\u001b[0m\u001b[1;33m:\u001b[0m\u001b[1;33m\u001b[0m\u001b[0m\n",
      "\u001b[1;31mValueError\u001b[0m: (\"'Q' is a bad directive in format '%Q\\xba trimestre %Y'\", u'occurred at index D1N')"
     ]
    }
   ],
   "source": [
    "def convert(s):\n",
    "    t = datetime.strptime(s, '%Q\\xba trimestre %Y') #2\\xba trimestre 2016\n",
    "    return timedelta(quarter=t.quarter, year=t.year)\n",
    "\n",
    "data_nmrc.applymap(convert)\n",
    "\n",
    "\n",
    "'''\n",
    "def convert(s):\n",
    "             t = datetime.strptime(s, \"%H:%M\")\n",
    "             return timedelta(hours=t.hour, minutes=t.minute)\n",
    "\n",
    "In [87]: df = pd.DataFrame({'A':[u'22:15', u'19:43']})\n",
    "'''"
   ]
  },
  {
   "cell_type": "code",
   "execution_count": 129,
   "metadata": {
    "collapsed": false
   },
   "outputs": [
    {
     "data": {
      "text/plain": [
       "u'2\\xba trimestre 2016'"
      ]
     },
     "execution_count": 129,
     "metadata": {},
     "output_type": "execute_result"
    }
   ],
   "source": [
    "data_nmrc['D3N'][5]\n",
    "\n"
   ]
  },
  {
   "cell_type": "code",
   "execution_count": null,
   "metadata": {
    "collapsed": false,
    "scrolled": true
   },
   "outputs": [],
   "source": []
  },
  {
   "cell_type": "code",
   "execution_count": null,
   "metadata": {
    "collapsed": false
   },
   "outputs": [],
   "source": [
    "\n"
   ]
  },
  {
   "cell_type": "code",
   "execution_count": 110,
   "metadata": {
    "collapsed": false,
    "scrolled": true
   },
   "outputs": [
    {
     "data": {
      "text/plain": [
       "D2N    unicode\n",
       "D3N    unicode\n",
       "D4N    unicode\n",
       "MN     unicode\n",
       "dtype: object"
      ]
     },
     "execution_count": 110,
     "metadata": {},
     "output_type": "execute_result"
    }
   ],
   "source": [
    "types = data_nmrc.apply(lambda x: pd.lib.infer_dtype(x.values))\n",
    "types[types=='unicode']\n"
   ]
  },
  {
   "cell_type": "code",
   "execution_count": 53,
   "metadata": {
    "collapsed": false
   },
   "outputs": [
    {
     "data": {
      "text/plain": [
       "D1N         unicode\n",
       "D2N         unicode\n",
       "D3N         unicode\n",
       "D4N         unicode\n",
       "MN          unicode\n",
       "V          floating\n",
       "unicode      string\n",
       "dtype: object"
      ]
     },
     "execution_count": 53,
     "metadata": {},
     "output_type": "execute_result"
    }
   ],
   "source": [
    "for col in types[types=='unicode']:\n",
    "    data_nmrc[col] = data_nmrc[col].astype(str)\n",
    "data_nmrc.apply(lambda x: pd.lib.infer_dtype(x.values))"
   ]
  },
  {
   "cell_type": "code",
   "execution_count": 13,
   "metadata": {
    "collapsed": false,
    "scrolled": true
   },
   "outputs": [
    {
     "ename": "SyntaxError",
     "evalue": "EOL while scanning string literal (<ipython-input-13-1e43f085f2ed>, line 1)",
     "output_type": "error",
     "traceback": [
      "\u001b[1;36m  File \u001b[1;32m\"<ipython-input-13-1e43f085f2ed>\"\u001b[1;36m, line \u001b[1;32m1\u001b[0m\n\u001b[1;33m    pd.Period(data['D3N'],'%Qº trimestre %Y )\u001b[0m\n\u001b[1;37m                                             ^\u001b[0m\n\u001b[1;31mSyntaxError\u001b[0m\u001b[1;31m:\u001b[0m EOL while scanning string literal\n"
     ]
    }
   ],
   "source": [
    "pd.Period(data['D3N'],'%Qº trimestre %Y )"
   ]
  },
  {
   "cell_type": "code",
   "execution_count": 40,
   "metadata": {
    "collapsed": false
   },
   "outputs": [
    {
     "ename": "TypeError",
     "evalue": "__init__() got an unexpected keyword argument 'fuzzy'",
     "output_type": "error",
     "traceback": [
      "\u001b[1;31m---------------------------------------------------------------------------\u001b[0m",
      "\u001b[1;31mTypeError\u001b[0m                                 Traceback (most recent call last)",
      "\u001b[1;32m<ipython-input-40-e89c91833acc>\u001b[0m in \u001b[0;36m<module>\u001b[1;34m()\u001b[0m\n\u001b[1;32m----> 1\u001b[1;33m \u001b[0mpd\u001b[0m\u001b[1;33m.\u001b[0m\u001b[0mPeriod\u001b[0m\u001b[1;33m(\u001b[0m\u001b[0mdata\u001b[0m\u001b[1;33m[\u001b[0m\u001b[1;34m'D3N'\u001b[0m\u001b[1;33m]\u001b[0m\u001b[1;33m,\u001b[0m \u001b[0mfuzzy\u001b[0m\u001b[1;33m=\u001b[0m\u001b[0mTrue\u001b[0m\u001b[1;33m)\u001b[0m\u001b[1;33m\u001b[0m\u001b[0m\n\u001b[0m",
      "\u001b[1;32mpandas\\src\\period.pyx\u001b[0m in \u001b[0;36mpandas._period.Period.__init__ (pandas\\src\\period.c:10755)\u001b[1;34m()\u001b[0m\n",
      "\u001b[1;31mTypeError\u001b[0m: __init__() got an unexpected keyword argument 'fuzzy'"
     ]
    }
   ],
   "source": [
    "pd.Period(data['D3N'], fuzzy=True)"
   ]
  },
  {
   "cell_type": "code",
   "execution_count": 126,
   "metadata": {
    "collapsed": false
   },
   "outputs": [
    {
     "data": {
      "text/plain": [
       "u'2\\xba trimestre 2016'"
      ]
     },
     "execution_count": 126,
     "metadata": {},
     "output_type": "execute_result"
    }
   ],
   "source": [
    "if 'trimeste' in data['D3N'][4]:\n",
    "    data['D3N'][4].replace('trimestre', 'quarter')\n",
    "data['D3N'][4]"
   ]
  },
  {
   "cell_type": "code",
   "execution_count": 47,
   "metadata": {
    "collapsed": false
   },
   "outputs": [
    {
     "name": "stdout",
     "output_type": "stream",
     "text": [
      "数据来源：巴西国家地理统计局\n"
     ]
    }
   ],
   "source": [
    "print '数据来源：巴西国家地理统计局'"
   ]
  },
  {
   "cell_type": "code",
   "execution_count": null,
   "metadata": {
    "collapsed": true
   },
   "outputs": [],
   "source": []
  },
  {
   "cell_type": "code",
   "execution_count": 7,
   "metadata": {
    "collapsed": false
   },
   "outputs": [
    {
     "name": "stdout",
     "output_type": "stream",
     "text": [
      "二、失业率\n"
     ]
    }
   ],
   "source": [
    "print '二、失业率'"
   ]
  },
  {
   "cell_type": "code",
   "execution_count": 9,
   "metadata": {
    "collapsed": false
   },
   "outputs": [
    {
     "name": "stdout",
     "output_type": "stream",
     "text": [
      "三、物价水平\n"
     ]
    }
   ],
   "source": [
    "print '三、物价水平'"
   ]
  },
  {
   "cell_type": "code",
   "execution_count": 10,
   "metadata": {
    "collapsed": false
   },
   "outputs": [
    {
     "name": "stdout",
     "output_type": "stream",
     "text": [
      "四、汇率\n"
     ]
    }
   ],
   "source": [
    "print '四、汇率'"
   ]
  },
  {
   "cell_type": "code",
   "execution_count": 11,
   "metadata": {
    "collapsed": false
   },
   "outputs": [
    {
     "name": "stdout",
     "output_type": "stream",
     "text": [
      "五、大宗产品价格\n"
     ]
    }
   ],
   "source": [
    "print '五、大宗产品价格'"
   ]
  },
  {
   "cell_type": "markdown",
   "metadata": {
    "collapsed": true
   },
   "source": [
    "粮食产量\n",
    "石油产量\n",
    "糖产量\n",
    "价格\n"
   ]
  },
  {
   "cell_type": "code",
   "execution_count": null,
   "metadata": {
    "collapsed": true
   },
   "outputs": [],
   "source": []
  },
  {
   "cell_type": "code",
   "execution_count": null,
   "metadata": {
    "collapsed": true
   },
   "outputs": [],
   "source": []
  }
 ],
 "metadata": {
  "anaconda-cloud": {},
  "kernelspec": {
   "display_name": "Python [Root]",
   "language": "python",
   "name": "Python [Root]"
  },
  "language_info": {
   "codemirror_mode": {
    "name": "ipython",
    "version": 2
   },
   "file_extension": ".py",
   "mimetype": "text/x-python",
   "name": "python",
   "nbconvert_exporter": "python",
   "pygments_lexer": "ipython2",
   "version": "2.7.11"
  }
 },
 "nbformat": 4,
 "nbformat_minor": 0
}
