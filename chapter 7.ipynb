{
 "cells": [
  {
   "cell_type": "code",
   "execution_count": 4,
   "metadata": {
    "collapsed": false
   },
   "outputs": [
    {
     "name": "stdout",
     "output_type": "stream",
     "text": [
      "Wall time: 8.49 s\n"
     ]
    }
   ],
   "source": [
    "import numpy as np\n",
    "from random import gauss\n",
    "import pickle\n",
    "path = 'd:/largedata/'\n",
    "pkl_file = open(path + 'data.pkl', 'w') #没有该文件的情况下，open等同于建立一个文件。文件格式为pkl\n",
    "a = [gauss(1.5, 2) for i in range(1000000)]  #创建一个随机list\n",
    "%time pickle.dump(a, pkl_file) #将变量a存到刚刚建立的data.pkl文件中"
   ]
  },
  {
   "cell_type": "code",
   "execution_count": 5,
   "metadata": {
    "collapsed": false
   },
   "outputs": [],
   "source": [
    "b = [gauss(1.5, 2) for i in range(100)] #加一个c list到文件里\n",
    "pickle.dump(b, pkl_file) #pickle文件遵从FIFO\n",
    "pkl_file.close() #关闭打开的文件"
   ]
  },
  {
   "cell_type": "code",
   "execution_count": 6,
   "metadata": {
    "collapsed": false
   },
   "outputs": [
    {
     "data": {
      "text/plain": [
       "[1.6998405654465298,\n",
       " 2.6812481561506294,\n",
       " 2.6190965816701395,\n",
       " 1.6091546083720152,\n",
       " 1.9186699611525426]"
      ]
     },
     "execution_count": 6,
     "metadata": {},
     "output_type": "execute_result"
    }
   ],
   "source": [
    "b[:5] #c存在于内存"
   ]
  },
  {
   "cell_type": "code",
   "execution_count": 7,
   "metadata": {
    "collapsed": false
   },
   "outputs": [
    {
     "data": {
      "text/plain": [
       "[2.0741671864438143,\n",
       " 0.7644952460574136,\n",
       " 2.502277602073138,\n",
       " 0.6615050637053347,\n",
       " -1.0928472549527521]"
      ]
     },
     "execution_count": 7,
     "metadata": {},
     "output_type": "execute_result"
    }
   ],
   "source": [
    "a[:5]"
   ]
  },
  {
   "cell_type": "code",
   "execution_count": 8,
   "metadata": {
    "collapsed": false
   },
   "outputs": [],
   "source": [
    "pkl_file = open(path + 'data.pkl', 'r')\n",
    "c = pickle.load(pkl_file) #难道整个data.pkl文件就只存一个list? "
   ]
  },
  {
   "cell_type": "code",
   "execution_count": 9,
   "metadata": {
    "collapsed": false
   },
   "outputs": [
    {
     "data": {
      "text/plain": [
       "[2.0741671864438143,\n",
       " 0.7644952460574136,\n",
       " 2.502277602073138,\n",
       " 0.6615050637053347,\n",
       " -1.0928472549527521]"
      ]
     },
     "execution_count": 9,
     "metadata": {},
     "output_type": "execute_result"
    }
   ],
   "source": [
    "c[:5] #data里面存了a和c, 但是b只调用了a。因为是FIFO"
   ]
  },
  {
   "cell_type": "code",
   "execution_count": 10,
   "metadata": {
    "collapsed": false
   },
   "outputs": [
    {
     "data": {
      "text/plain": [
       "True"
      ]
     },
     "execution_count": 10,
     "metadata": {},
     "output_type": "execute_result"
    }
   ],
   "source": [
    "np.allclose(np.array(a), np.array(c)) #内建方法，检查两个数组是否完全一致"
   ]
  },
  {
   "cell_type": "code",
   "execution_count": 11,
   "metadata": {
    "collapsed": false
   },
   "outputs": [
    {
     "data": {
      "text/plain": [
       "0.0"
      ]
     },
     "execution_count": 11,
     "metadata": {},
     "output_type": "execute_result"
    }
   ],
   "source": [
    "np.sum(np.array(a) - np.array(c)) #用差值检验是否一致"
   ]
  },
  {
   "cell_type": "code",
   "execution_count": 12,
   "metadata": {
    "collapsed": true
   },
   "outputs": [],
   "source": [
    "d = pickle.load(pkl_file)"
   ]
  },
  {
   "cell_type": "code",
   "execution_count": 13,
   "metadata": {
    "collapsed": false
   },
   "outputs": [
    {
     "data": {
      "text/plain": [
       "[1.6998405654465298,\n",
       " 2.6812481561506294,\n",
       " 2.6190965816701395,\n",
       " 1.6091546083720152,\n",
       " 1.9186699611525426]"
      ]
     },
     "execution_count": 13,
     "metadata": {},
     "output_type": "execute_result"
    }
   ],
   "source": [
    "d[:5] #第二次，调用的就是第二个数组"
   ]
  },
  {
   "cell_type": "code",
   "execution_count": 14,
   "metadata": {
    "collapsed": true
   },
   "outputs": [],
   "source": [
    "pkl_file.close()"
   ]
  },
  {
   "cell_type": "code",
   "execution_count": 15,
   "metadata": {
    "collapsed": false
   },
   "outputs": [],
   "source": [
    "pkl_file = open(path + 'data.pkl', 'w')\n",
    "x = np.array(a)\n",
    "y = np.array(b) ** 2 \n",
    "pickle.dump({'x':x, 'y':y}, pkl_file) # 为了便于提取，使用字典方式储存。此外，如果调用narray，储存的速度大幅提高\n",
    "pkl_file.close()"
   ]
  },
  {
   "cell_type": "code",
   "execution_count": 16,
   "metadata": {
    "collapsed": false
   },
   "outputs": [
    {
     "name": "stdout",
     "output_type": "stream",
     "text": [
      "y [ 2.88945795  7.18909167  6.8596669   2.58937855  3.68129442]\n",
      "x [ 2.07416719  0.76449525  2.5022776   0.66150506 -1.09284725]\n"
     ]
    }
   ],
   "source": [
    "pkl_file = open(path + 'data.pkl', 'r')\n",
    "data = pickle.load(pkl_file) #调入内存\n",
    "pkl_file.close() #立刻关闭\n",
    "for key in data.keys(): #调用所有的key，做循环\n",
    "    print key, data[key][:5]  \n",
    "\n",
    "\n"
   ]
  },
  {
   "cell_type": "code",
   "execution_count": 17,
   "metadata": {
    "collapsed": false
   },
   "outputs": [
    {
     "data": {
      "text/plain": [
       "array([[-0.4808,  0.3905,  0.3869, -2.0915, -0.5705],\n",
       "       [ 1.7641, -0.6601, -0.4767,  0.5111,  2.0037],\n",
       "       [ 0.1026,  0.2095, -1.3924,  0.0675,  1.3464],\n",
       "       ..., \n",
       "       [-2.0064, -0.5481,  0.5545, -0.9683,  1.0002],\n",
       "       [ 0.1836,  0.0831,  0.5952, -0.3426, -0.1898],\n",
       "       [ 0.1993, -0.0312,  0.4591, -0.8006, -0.2647]])"
      ]
     },
     "execution_count": 17,
     "metadata": {},
     "output_type": "execute_result"
    }
   ],
   "source": [
    "rows = 5000\n",
    "a = np.random.standard_normal((rows,5)) #建立随机数组\n",
    "a.round(4)\n"
   ]
  },
  {
   "cell_type": "code",
   "execution_count": 18,
   "metadata": {
    "collapsed": false
   },
   "outputs": [
    {
     "data": {
      "text/plain": [
       "DatetimeIndex(['2015-01-01 00:00:00', '2015-01-01 01:00:00',\n",
       "               '2015-01-01 02:00:00', '2015-01-01 03:00:00',\n",
       "               '2015-01-01 04:00:00', '2015-01-01 05:00:00',\n",
       "               '2015-01-01 06:00:00', '2015-01-01 07:00:00',\n",
       "               '2015-01-01 08:00:00', '2015-01-01 09:00:00',\n",
       "               ...\n",
       "               '2015-07-27 22:00:00', '2015-07-27 23:00:00',\n",
       "               '2015-07-28 00:00:00', '2015-07-28 01:00:00',\n",
       "               '2015-07-28 02:00:00', '2015-07-28 03:00:00',\n",
       "               '2015-07-28 04:00:00', '2015-07-28 05:00:00',\n",
       "               '2015-07-28 06:00:00', '2015-07-28 07:00:00'],\n",
       "              dtype='datetime64[ns]', length=5000, freq='H')"
      ]
     },
     "execution_count": 18,
     "metadata": {},
     "output_type": "execute_result"
    }
   ],
   "source": [
    "import pandas as pd\n",
    "t = pd.date_range(start='2015/1/1', periods=rows, freq='H', )  #建立一个世界序列datetime以便加到前面数组做序列\n",
    "t\n"
   ]
  },
  {
   "cell_type": "code",
   "execution_count": 19,
   "metadata": {
    "collapsed": false
   },
   "outputs": [],
   "source": [
    "csv_file = open(path + 'data.csv', 'w') #建立一个csv，可写模式打开\n",
    "header = 'date,no1,no2,no3,no4,no5\\n' #csv是文本文件，所以用字符串写，之间也on用逗号连接. \\n用于换行\n",
    "csv_file.write(header) #写入第一行"
   ]
  },
  {
   "cell_type": "code",
   "execution_count": 20,
   "metadata": {
    "collapsed": false
   },
   "outputs": [],
   "source": [
    "for t_, (no1, no2, no3, no4, no5) in zip(t, a):\n",
    "    s = '%s,%f,%f,%f,%f,%f\\n' %(t_, no1, no2, no3, no4, no5) #因为是csv所以都是字符串\n",
    "    csv_file.write(s)\n",
    "csv_file.close()"
   ]
  },
  {
   "cell_type": "code",
   "execution_count": 21,
   "metadata": {
    "collapsed": false
   },
   "outputs": [
    {
     "name": "stdout",
     "output_type": "stream",
     "text": [
      "date,no1,no2,no3,no4,no5\n",
      "\n",
      "2015-01-01 00:00:00,-0.480751,0.390521,0.386945,-2.091499,-0.570491\n",
      "\n",
      "2015-01-01 01:00:00,1.764098,-0.660052,-0.476692,0.511112,2.003715\n",
      "\n",
      "2015-01-01 02:00:00,0.102626,0.209547,-1.392403,0.067534,1.346433\n",
      "\n",
      "2015-01-01 03:00:00,0.394722,-1.005469,0.465989,-1.115064,-0.779958\n",
      "\n"
     ]
    }
   ],
   "source": [
    "csv_file = open(path + 'data.csv', 'r')\n",
    "content = csv_file.readlines() #d读取文件\n",
    "csv_file.close() #调入内存后关闭文件\n",
    "for line in content[:5]:\n",
    "    print line"
   ]
  },
  {
   "cell_type": "code",
   "execution_count": 22,
   "metadata": {
    "collapsed": false
   },
   "outputs": [
    {
     "data": {
      "text/plain": [
       "3681360"
      ]
     },
     "execution_count": 22,
     "metadata": {},
     "output_type": "execute_result"
    }
   ],
   "source": [
    "import numpy as np\n",
    "dtimes = np.arange('2015-01-01 10:00:00', '2021-12-31 22:00:00', dtype='datetime64[m]') #用np建立时间序列datetime数据\n",
    "len(dtimes)"
   ]
  },
  {
   "cell_type": "code",
   "execution_count": 23,
   "metadata": {
    "collapsed": false
   },
   "outputs": [],
   "source": [
    "dty = np.dtype([('Date', 'datetime64[m]'), ('No1', 'f'), ('No2', 'f')]) #确定数组每一个列的数据格式\n",
    "data = np.zeros(len(dtimes), dtype=dty) #建立0数组\n",
    "data['Date'] = dtimes"
   ]
  },
  {
   "cell_type": "code",
   "execution_count": 24,
   "metadata": {
    "collapsed": false
   },
   "outputs": [],
   "source": [
    "a = np.random.standard_normal((len(dtimes),2)).round(5) #建立数组\n",
    "data['No1'] = a[:, 0]\n",
    "data['No2'] = a[:, 1]"
   ]
  },
  {
   "cell_type": "markdown",
   "metadata": {},
   "source": [
    "numpy的特点是不需要open,直接储存或载入"
   ]
  },
  {
   "cell_type": "code",
   "execution_count": 25,
   "metadata": {
    "collapsed": false
   },
   "outputs": [
    {
     "name": "stdout",
     "output_type": "stream",
     "text": [
      "Wall time: 656 ms\n"
     ]
    }
   ],
   "source": [
    "%time np.save(path + 'array.npy', data) #直接建立一个文件储存 用save。后缀名npy"
   ]
  },
  {
   "cell_type": "code",
   "execution_count": 26,
   "metadata": {
    "collapsed": false
   },
   "outputs": [
    {
     "name": "stdout",
     "output_type": "stream",
     "text": [
      "Wall time: 60 ms\n"
     ]
    },
    {
     "data": {
      "text/plain": [
       "array([ (datetime.datetime(2015, 1, 1, 10, 0), -0.5841400027275085, -0.4941200017929077),\n",
       "       (datetime.datetime(2015, 1, 1, 10, 1), 2.257009983062744, 0.007290000095963478),\n",
       "       (datetime.datetime(2015, 1, 1, 10, 2), -0.2072100043296814, -0.613319993019104),\n",
       "       ...,\n",
       "       (datetime.datetime(2021, 12, 31, 21, 57), 0.8273400068283081, 0.03748000040650368),\n",
       "       (datetime.datetime(2021, 12, 31, 21, 58), 0.7021700143814087, 0.043549999594688416),\n",
       "       (datetime.datetime(2021, 12, 31, 21, 59), 0.30504000186920166, 0.49474000930786133)], \n",
       "      dtype=[('Date', '<M8[m]'), ('No1', '<f4'), ('No2', '<f4')])"
      ]
     },
     "execution_count": 26,
     "metadata": {},
     "output_type": "execute_result"
    }
   ],
   "source": [
    "%time np.load(path + 'array.npy')"
   ]
  },
  {
   "cell_type": "code",
   "execution_count": 27,
   "metadata": {
    "collapsed": false
   },
   "outputs": [
    {
     "name": "stdout",
     "output_type": "stream",
     "text": [
      "Wall time: 9.64 s\n"
     ]
    }
   ],
   "source": [
    "import numpy as np \n",
    "data = np.random.standard_normal((10000,6000))\n",
    "%time np.save(path + 'array.npy', data)"
   ]
  },
  {
   "cell_type": "code",
   "execution_count": 28,
   "metadata": {
    "collapsed": false
   },
   "outputs": [
    {
     "name": "stdout",
     "output_type": "stream",
     "text": [
      "Wall time: 399 ms\n"
     ]
    },
    {
     "data": {
      "text/plain": [
       "array([[ 1.72075042, -0.42821874,  0.1655294 , ...,  0.54330843,\n",
       "        -0.37949395,  0.15141067],\n",
       "       [-0.71139541, -0.08968587, -0.086834  , ...,  1.37684647,\n",
       "        -0.5666675 ,  1.55422488],\n",
       "       [ 0.11096863, -2.14434134,  0.86618253, ..., -0.620593  ,\n",
       "        -1.44542832,  1.62351013],\n",
       "       ..., \n",
       "       [-0.29898654,  0.49037818, -0.29844674, ..., -1.74833574,\n",
       "        -1.47206106, -0.77135582],\n",
       "       [ 0.2084759 ,  1.300471  ,  1.71948741, ...,  0.60348876,\n",
       "        -1.08647888, -1.7056296 ],\n",
       "       [ 0.22751882,  0.86517249,  0.20049702, ...,  1.86121011,\n",
       "         0.10288803, -0.61264662]])"
      ]
     },
     "execution_count": 28,
     "metadata": {},
     "output_type": "execute_result"
    }
   ],
   "source": [
    "%time np.load(path + 'array.npy') #读写大文件的速度很快"
   ]
  },
  {
   "cell_type": "code",
   "execution_count": 29,
   "metadata": {
    "collapsed": false
   },
   "outputs": [],
   "source": [
    "import numpy as np \n",
    "import pandas as pd \n",
    "import matplotlib as mpl\n",
    "import matplotlib.pyplot as plt\n",
    "%matplotlib inline\n",
    "data = np.random.standard_normal((1000000,5)).round(5)\n",
    "filename = path + 'numbs'\n",
    "\n"
   ]
  },
  {
   "cell_type": "markdown",
   "metadata": {},
   "source": [
    "以下考验panas的读写能力。 pandas能够读写多种格式的数据csv, sql, json等"
   ]
  },
  {
   "cell_type": "code",
   "execution_count": 30,
   "metadata": {
    "collapsed": false
   },
   "outputs": [
    {
     "name": "stdout",
     "output_type": "stream",
     "text": [
      "Wall time: 539 ms\n"
     ]
    },
    {
     "data": {
      "image/png": "[encoded data removed]",
      "text/plain": [
       "<matplotlib.figure.Figure at 0x11dbc208>"
      ]
     },
     "metadata": {},
     "output_type": "display_data"
    }
   ],
   "source": [
    "%time pd.read_csv(path + 'data.csv', header=0, index_col=0)[['no1','no2','no3','no4']].hist(bins=20) #读取速度很快\n",
    "plt.grid(True)"
   ]
  },
  {
   "cell_type": "markdown",
   "metadata": {},
   "source": [
    "这里没有pd的文件。如果是pd的文件，可以直接 .to_csv(path)储存到硬盘。 也不需要open这一步骤"
   ]
  },
  {
   "cell_type": "code",
   "execution_count": 31,
   "metadata": {
    "collapsed": true
   },
   "outputs": [],
   "source": [
    "data = pd.read_csv(path + 'data.csv', header=0, index_col=0)"
   ]
  },
  {
   "cell_type": "code",
   "execution_count": 32,
   "metadata": {
    "collapsed": false
   },
   "outputs": [
    {
     "data": {
      "text/plain": [
       "pandas.core.frame.DataFrame"
      ]
     },
     "execution_count": 32,
     "metadata": {},
     "output_type": "execute_result"
    }
   ],
   "source": [
    "type(data)"
   ]
  },
  {
   "cell_type": "code",
   "execution_count": 33,
   "metadata": {
    "collapsed": false
   },
   "outputs": [
    {
     "name": "stdout",
     "output_type": "stream",
     "text": [
      "Wall time: 1.59 s\n"
     ]
    }
   ],
   "source": [
    "%time data.to_excel(path + 'data.xlsx') "
   ]
  },
  {
   "cell_type": "code",
   "execution_count": 34,
   "metadata": {
    "collapsed": false
   },
   "outputs": [
    {
     "name": "stdout",
     "output_type": "stream",
     "text": [
      "Wall time: 1.34 s\n"
     ]
    },
    {
     "data": {
      "text/plain": [
       "<matplotlib.axes._subplots.AxesSubplot at 0x1203c4e0>"
      ]
     },
     "execution_count": 34,
     "metadata": {},
     "output_type": "execute_result"
    },
    {
     "data": {
      "image/png": "[encoded data removed]",
      "text/plain": [
       "<matplotlib.figure.Figure at 0x123e9080>"
      ]
     },
     "metadata": {},
     "output_type": "display_data"
    }
   ],
   "source": [
    "%time pd.read_excel(path + 'data.xlsx', 'Sheet1').cumsum().plot(figsize=(12,8))\n"
   ]
  },
  {
   "cell_type": "code",
   "execution_count": 35,
   "metadata": {
    "collapsed": false
   },
   "outputs": [],
   "source": [
    "import pandas as pd \n",
    "import numpy as np\n",
    "import tables as tb \n",
    "import matplotlib as mpl\n",
    "import matplotlib.pyplot as plt\n",
    "%matplotlib inline"
   ]
  },
  {
   "cell_type": "code",
   "execution_count": 38,
   "metadata": {
    "collapsed": false
   },
   "outputs": [],
   "source": [
    "# path = 'd:/largedata/'\n",
    "# filename = path + 'tab.h5'\n",
    "# h5.close()\n",
    "# h5 = tb.open_file(filename, 'w') #使用table库建立一个h5文件\n",
    "# row = 2000000"
   ]
  },
  {
   "cell_type": "code",
   "execution_count": null,
   "metadata": {
    "collapsed": true
   },
   "outputs": [],
   "source": [
    "教材上都是讲的pytable，有更简单的直接使用pandas进行hdf5读写的方法"
   ]
  },
  {
   "cell_type": "code",
   "execution_count": 44,
   "metadata": {
    "collapsed": false
   },
   "outputs": [],
   "source": [
    "import numpy as np\n",
    "import pandas as pd \n",
    "from pandas import HDFStore, DataFrame\n",
    "path = 'd:/largedata/'\n",
    "hdf = HDFStore(path + 'storage.h5') #首先要用HDFStore命令建立一个H5文件 "
   ]
  },
  {
   "cell_type": "code",
   "execution_count": 45,
   "metadata": {
    "collapsed": false
   },
   "outputs": [],
   "source": [
    "data_1 = DataFrame(np.random.standard_normal((5,3)), columns=('A','B','C')) \n",
    "hdf.put('data01', data_1, format='table', data_columns=True) #将DataFrame数据对象储存到h5文件中。名称这个数据的key起名为data01"
   ]
  },
  {
   "cell_type": "code",
   "execution_count": 46,
   "metadata": {
    "collapsed": true
   },
   "outputs": [],
   "source": [
    "data_2 = DataFrame(np.random.standard_normal((5,3)), columns=('A','B','C')) \n",
    "hdf.put('data02', data_2, format='table', data_columns=True)  #再存一个DataFrame ，key命名为data02. 以句柄为起点储存。也有DF.to_hdf另一个方法"
   ]
  },
  {
   "cell_type": "code",
   "execution_count": 47,
   "metadata": {
    "collapsed": false
   },
   "outputs": [
    {
     "data": {
      "text/plain": [
       "['/data01', '/data02']"
      ]
     },
     "execution_count": 47,
     "metadata": {},
     "output_type": "execute_result"
    }
   ],
   "source": [
    "hdf.keys()"
   ]
  },
  {
   "cell_type": "code",
   "execution_count": 48,
   "metadata": {
    "collapsed": false
   },
   "outputs": [],
   "source": [
    "# hdf.append('data01', DataFrame(np.random.standard_normal((5,3))), columns=('A','B','C'), format='table', data_columns=True) \n",
    "#实在加不上\n"
   ]
  },
  {
   "cell_type": "code",
   "execution_count": 49,
   "metadata": {
    "collapsed": false
   },
   "outputs": [],
   "source": [
    "hdf.close() # hdf是整个h5文件的控制句柄，所以能够close"
   ]
  },
  {
   "cell_type": "code",
   "execution_count": 50,
   "metadata": {
    "collapsed": false
   },
   "outputs": [],
   "source": [
    "read_hdf = pd.read_hdf(path + 'storage.h5', 'data01') #k可以直接读取h5，不需要open这一步。但是，似乎并没有打开文件，仅读取了一个dataframe\n",
    "# read_hdf.close() #所以，如果试图关闭read_hef会发现，该句柄没有close功能，因为本来就没有打开\n"
   ]
  },
  {
   "cell_type": "code",
   "execution_count": 51,
   "metadata": {
    "collapsed": false
   },
   "outputs": [
    {
     "data": {
      "text/html": [
       "<div>\n",
       "<table border=\"1\" class=\"dataframe\">\n",
       "  <thead>\n",
       "    <tr style=\"text-align: right;\">\n",
       "      <th></th>\n",
       "      <th>A</th>\n",
       "      <th>B</th>\n",
       "      <th>C</th>\n",
       "    </tr>\n",
       "  </thead>\n",
       "  <tbody>\n",
       "    <tr>\n",
       "      <th>0</th>\n",
       "      <td>-0.666760</td>\n",
       "      <td>-0.699977</td>\n",
       "      <td>1.364432</td>\n",
       "    </tr>\n",
       "    <tr>\n",
       "      <th>1</th>\n",
       "      <td>-0.141583</td>\n",
       "      <td>-1.014285</td>\n",
       "      <td>1.002815</td>\n",
       "    </tr>\n",
       "    <tr>\n",
       "      <th>2</th>\n",
       "      <td>0.487577</td>\n",
       "      <td>0.853275</td>\n",
       "      <td>-0.024351</td>\n",
       "    </tr>\n",
       "    <tr>\n",
       "      <th>3</th>\n",
       "      <td>-1.296415</td>\n",
       "      <td>-2.496725</td>\n",
       "      <td>0.993321</td>\n",
       "    </tr>\n",
       "    <tr>\n",
       "      <th>4</th>\n",
       "      <td>1.111317</td>\n",
       "      <td>0.093188</td>\n",
       "      <td>0.860614</td>\n",
       "    </tr>\n",
       "  </tbody>\n",
       "</table>\n",
       "</div>"
      ],
      "text/plain": [
       "          A         B         C\n",
       "0 -0.666760 -0.699977  1.364432\n",
       "1 -0.141583 -1.014285  1.002815\n",
       "2  0.487577  0.853275 -0.024351\n",
       "3 -1.296415 -2.496725  0.993321\n",
       "4  1.111317  0.093188  0.860614"
      ]
     },
     "execution_count": 51,
     "metadata": {},
     "output_type": "execute_result"
    }
   ],
   "source": [
    "read_hdf"
   ]
  },
  {
   "cell_type": "code",
   "execution_count": 52,
   "metadata": {
    "collapsed": false
   },
   "outputs": [
    {
     "data": {
      "text/html": [
       "<div>\n",
       "<table border=\"1\" class=\"dataframe\">\n",
       "  <thead>\n",
       "    <tr style=\"text-align: right;\">\n",
       "      <th></th>\n",
       "      <th>A</th>\n",
       "      <th>B</th>\n",
       "      <th>C</th>\n",
       "    </tr>\n",
       "  </thead>\n",
       "  <tbody>\n",
       "    <tr>\n",
       "      <th>0</th>\n",
       "      <td>-0.666760</td>\n",
       "      <td>-0.699977</td>\n",
       "      <td>1.364432</td>\n",
       "    </tr>\n",
       "    <tr>\n",
       "      <th>1</th>\n",
       "      <td>-0.141583</td>\n",
       "      <td>-1.014285</td>\n",
       "      <td>1.002815</td>\n",
       "    </tr>\n",
       "    <tr>\n",
       "      <th>2</th>\n",
       "      <td>0.487577</td>\n",
       "      <td>0.853275</td>\n",
       "      <td>-0.024351</td>\n",
       "    </tr>\n",
       "    <tr>\n",
       "      <th>3</th>\n",
       "      <td>-1.296415</td>\n",
       "      <td>-2.496725</td>\n",
       "      <td>0.993321</td>\n",
       "    </tr>\n",
       "    <tr>\n",
       "      <th>4</th>\n",
       "      <td>1.111317</td>\n",
       "      <td>0.093188</td>\n",
       "      <td>0.860614</td>\n",
       "    </tr>\n",
       "    <tr>\n",
       "      <th>5</th>\n",
       "      <td>1.202009</td>\n",
       "      <td>1.034668</td>\n",
       "      <td>-1.858711</td>\n",
       "    </tr>\n",
       "    <tr>\n",
       "      <th>6</th>\n",
       "      <td>-0.960463</td>\n",
       "      <td>0.617277</td>\n",
       "      <td>-0.114428</td>\n",
       "    </tr>\n",
       "    <tr>\n",
       "      <th>7</th>\n",
       "      <td>0.963792</td>\n",
       "      <td>1.453314</td>\n",
       "      <td>-2.131400</td>\n",
       "    </tr>\n",
       "    <tr>\n",
       "      <th>8</th>\n",
       "      <td>0.823107</td>\n",
       "      <td>0.479903</td>\n",
       "      <td>-1.014427</td>\n",
       "    </tr>\n",
       "    <tr>\n",
       "      <th>9</th>\n",
       "      <td>-1.101166</td>\n",
       "      <td>0.225944</td>\n",
       "      <td>-1.030688</td>\n",
       "    </tr>\n",
       "  </tbody>\n",
       "</table>\n",
       "</div>"
      ],
      "text/plain": [
       "          A         B         C\n",
       "0 -0.666760 -0.699977  1.364432\n",
       "1 -0.141583 -1.014285  1.002815\n",
       "2  0.487577  0.853275 -0.024351\n",
       "3 -1.296415 -2.496725  0.993321\n",
       "4  1.111317  0.093188  0.860614\n",
       "5  1.202009  1.034668 -1.858711\n",
       "6 -0.960463  0.617277 -0.114428\n",
       "7  0.963792  1.453314 -2.131400\n",
       "8  0.823107  0.479903 -1.014427\n",
       "9 -1.101166  0.225944 -1.030688"
      ]
     },
     "execution_count": 52,
     "metadata": {},
     "output_type": "execute_result"
    }
   ],
   "source": [
    "read_hdf.append(DataFrame(np.random.standard_normal((5,3)), columns=('A','B','C')), ignore_index=True)\n",
    "#columns一定要套在新建的df里面\n",
    "# 忽视原先的index\n",
    "#但是这里是对读入内存的df增加行，并没有改变h5中的数据"
   ]
  },
  {
   "cell_type": "code",
   "execution_count": 53,
   "metadata": {
    "collapsed": false
   },
   "outputs": [],
   "source": [
    "#该命令，可用于建立文件，也可用于打开调用文件\n",
    "hdf = HDFStore(path + 'storage.h5') "
   ]
  },
  {
   "cell_type": "code",
   "execution_count": 54,
   "metadata": {
    "collapsed": false
   },
   "outputs": [
    {
     "data": {
      "text/html": [
       "<div>\n",
       "<table border=\"1\" class=\"dataframe\">\n",
       "  <thead>\n",
       "    <tr style=\"text-align: right;\">\n",
       "      <th></th>\n",
       "      <th>A</th>\n",
       "      <th>B</th>\n",
       "      <th>C</th>\n",
       "    </tr>\n",
       "  </thead>\n",
       "  <tbody>\n",
       "    <tr>\n",
       "      <th>0</th>\n",
       "      <td>-0.666760</td>\n",
       "      <td>-0.699977</td>\n",
       "      <td>1.364432</td>\n",
       "    </tr>\n",
       "    <tr>\n",
       "      <th>1</th>\n",
       "      <td>-0.141583</td>\n",
       "      <td>-1.014285</td>\n",
       "      <td>1.002815</td>\n",
       "    </tr>\n",
       "    <tr>\n",
       "      <th>2</th>\n",
       "      <td>0.487577</td>\n",
       "      <td>0.853275</td>\n",
       "      <td>-0.024351</td>\n",
       "    </tr>\n",
       "    <tr>\n",
       "      <th>3</th>\n",
       "      <td>-1.296415</td>\n",
       "      <td>-2.496725</td>\n",
       "      <td>0.993321</td>\n",
       "    </tr>\n",
       "    <tr>\n",
       "      <th>4</th>\n",
       "      <td>1.111317</td>\n",
       "      <td>0.093188</td>\n",
       "      <td>0.860614</td>\n",
       "    </tr>\n",
       "  </tbody>\n",
       "</table>\n",
       "</div>"
      ],
      "text/plain": [
       "          A         B         C\n",
       "0 -0.666760 -0.699977  1.364432\n",
       "1 -0.141583 -1.014285  1.002815\n",
       "2  0.487577  0.853275 -0.024351\n",
       "3 -1.296415 -2.496725  0.993321\n",
       "4  1.111317  0.093188  0.860614"
      ]
     },
     "execution_count": 54,
     "metadata": {},
     "output_type": "execute_result"
    }
   ],
   "source": [
    "hdf['data01']"
   ]
  },
  {
   "cell_type": "code",
   "execution_count": 55,
   "metadata": {
    "collapsed": false
   },
   "outputs": [],
   "source": [
    "hdf.append('data01', DataFrame(np.random.standard_normal((5,3)), columns=('A','B','C')), format='table', data_columns=True, ignore_index=True)\n",
    "#调用文件句柄，为一个表格添加行\n",
    "#该方法下的添加将修改硬盘数据，实现永久修改"
   ]
  },
  {
   "cell_type": "code",
   "execution_count": 56,
   "metadata": {
    "collapsed": false
   },
   "outputs": [
    {
     "data": {
      "text/html": [
       "<div>\n",
       "<table border=\"1\" class=\"dataframe\">\n",
       "  <thead>\n",
       "    <tr style=\"text-align: right;\">\n",
       "      <th></th>\n",
       "      <th>A</th>\n",
       "      <th>B</th>\n",
       "      <th>C</th>\n",
       "    </tr>\n",
       "  </thead>\n",
       "  <tbody>\n",
       "    <tr>\n",
       "      <th>0</th>\n",
       "      <td>-0.666760</td>\n",
       "      <td>-0.699977</td>\n",
       "      <td>1.364432</td>\n",
       "    </tr>\n",
       "    <tr>\n",
       "      <th>1</th>\n",
       "      <td>-0.141583</td>\n",
       "      <td>-1.014285</td>\n",
       "      <td>1.002815</td>\n",
       "    </tr>\n",
       "    <tr>\n",
       "      <th>2</th>\n",
       "      <td>0.487577</td>\n",
       "      <td>0.853275</td>\n",
       "      <td>-0.024351</td>\n",
       "    </tr>\n",
       "    <tr>\n",
       "      <th>3</th>\n",
       "      <td>-1.296415</td>\n",
       "      <td>-2.496725</td>\n",
       "      <td>0.993321</td>\n",
       "    </tr>\n",
       "    <tr>\n",
       "      <th>4</th>\n",
       "      <td>1.111317</td>\n",
       "      <td>0.093188</td>\n",
       "      <td>0.860614</td>\n",
       "    </tr>\n",
       "    <tr>\n",
       "      <th>0</th>\n",
       "      <td>0.185457</td>\n",
       "      <td>2.166251</td>\n",
       "      <td>-1.950527</td>\n",
       "    </tr>\n",
       "    <tr>\n",
       "      <th>1</th>\n",
       "      <td>0.067699</td>\n",
       "      <td>-1.107949</td>\n",
       "      <td>-0.693362</td>\n",
       "    </tr>\n",
       "    <tr>\n",
       "      <th>2</th>\n",
       "      <td>-1.726343</td>\n",
       "      <td>-0.604205</td>\n",
       "      <td>-1.206487</td>\n",
       "    </tr>\n",
       "    <tr>\n",
       "      <th>3</th>\n",
       "      <td>-0.271821</td>\n",
       "      <td>0.657102</td>\n",
       "      <td>-0.312880</td>\n",
       "    </tr>\n",
       "    <tr>\n",
       "      <th>4</th>\n",
       "      <td>-1.871111</td>\n",
       "      <td>0.004856</td>\n",
       "      <td>-0.780127</td>\n",
       "    </tr>\n",
       "  </tbody>\n",
       "</table>\n",
       "</div>"
      ],
      "text/plain": [
       "          A         B         C\n",
       "0 -0.666760 -0.699977  1.364432\n",
       "1 -0.141583 -1.014285  1.002815\n",
       "2  0.487577  0.853275 -0.024351\n",
       "3 -1.296415 -2.496725  0.993321\n",
       "4  1.111317  0.093188  0.860614\n",
       "0  0.185457  2.166251 -1.950527\n",
       "1  0.067699 -1.107949 -0.693362\n",
       "2 -1.726343 -0.604205 -1.206487\n",
       "3 -0.271821  0.657102 -0.312880\n",
       "4 -1.871111  0.004856 -0.780127"
      ]
     },
     "execution_count": 56,
     "metadata": {},
     "output_type": "execute_result"
    }
   ],
   "source": [
    "hdf['data01']"
   ]
  },
  {
   "cell_type": "code",
   "execution_count": 57,
   "metadata": {
    "collapsed": false
   },
   "outputs": [
    {
     "data": {
      "text/plain": [
       "['/data01', '/data02']"
      ]
     },
     "execution_count": 57,
     "metadata": {},
     "output_type": "execute_result"
    }
   ],
   "source": [
    "hdf.keys()"
   ]
  },
  {
   "cell_type": "code",
   "execution_count": 58,
   "metadata": {
    "collapsed": false
   },
   "outputs": [
    {
     "name": "stdout",
     "output_type": "stream",
     "text": [
      "<class 'pandas.io.pytables.HDFStore'>\n",
      "File path: d:/largedata/storage.h5\n",
      "/data01            frame_table  (typ->appendable,nrows->10,ncols->3,indexers->[index],dc->[A,B,C])\n",
      "/data02            frame_table  (typ->appendable,nrows->5,ncols->3,indexers->[index],dc->[A,B,C]) \n"
     ]
    }
   ],
   "source": [
    "print hdf #打印hdf中内含文件"
   ]
  },
  {
   "cell_type": "code",
   "execution_count": 59,
   "metadata": {
    "collapsed": true
   },
   "outputs": [],
   "source": [
    "hdf.close()"
   ]
  },
  {
   "cell_type": "code",
   "execution_count": 60,
   "metadata": {
    "collapsed": false
   },
   "outputs": [],
   "source": [
    "df = pd.DataFrame(np.random.standard_normal((5,3))) #建立一个df\n",
    "df.to_hdf(path + 'storage.h5', 'data03', append=True) #直接将df加入h5文件"
   ]
  },
  {
   "cell_type": "code",
   "execution_count": 61,
   "metadata": {
    "collapsed": false
   },
   "outputs": [],
   "source": [
    "hdf = HDFStore(path + 'storage.h5')"
   ]
  },
  {
   "cell_type": "code",
   "execution_count": 62,
   "metadata": {
    "collapsed": false
   },
   "outputs": [
    {
     "name": "stdout",
     "output_type": "stream",
     "text": [
      "<class 'pandas.io.pytables.HDFStore'>\n",
      "File path: d:/largedata/storage.h5\n",
      "/data01            frame_table  (typ->appendable,nrows->10,ncols->3,indexers->[index],dc->[A,B,C])\n",
      "/data02            frame_table  (typ->appendable,nrows->5,ncols->3,indexers->[index],dc->[A,B,C]) \n",
      "/data03            frame_table  (typ->appendable,nrows->5,ncols->3,indexers->[index])             \n"
     ]
    }
   ],
   "source": [
    "print hdf"
   ]
  },
  {
   "cell_type": "code",
   "execution_count": 63,
   "metadata": {
    "collapsed": true
   },
   "outputs": [],
   "source": [
    "hdf.close()"
   ]
  },
  {
   "cell_type": "code",
   "execution_count": 64,
   "metadata": {
    "collapsed": false
   },
   "outputs": [
    {
     "data": {
      "text/html": [
       "<div>\n",
       "<table border=\"1\" class=\"dataframe\">\n",
       "  <thead>\n",
       "    <tr style=\"text-align: right;\">\n",
       "      <th></th>\n",
       "      <th>A</th>\n",
       "      <th>B</th>\n",
       "      <th>C</th>\n",
       "    </tr>\n",
       "  </thead>\n",
       "  <tbody>\n",
       "    <tr>\n",
       "      <th>0</th>\n",
       "      <td>-0.666760</td>\n",
       "      <td>-0.699977</td>\n",
       "      <td>1.364432</td>\n",
       "    </tr>\n",
       "    <tr>\n",
       "      <th>1</th>\n",
       "      <td>-0.141583</td>\n",
       "      <td>-1.014285</td>\n",
       "      <td>1.002815</td>\n",
       "    </tr>\n",
       "    <tr>\n",
       "      <th>2</th>\n",
       "      <td>0.487577</td>\n",
       "      <td>0.853275</td>\n",
       "      <td>-0.024351</td>\n",
       "    </tr>\n",
       "    <tr>\n",
       "      <th>3</th>\n",
       "      <td>-1.296415</td>\n",
       "      <td>-2.496725</td>\n",
       "      <td>0.993321</td>\n",
       "    </tr>\n",
       "    <tr>\n",
       "      <th>4</th>\n",
       "      <td>1.111317</td>\n",
       "      <td>0.093188</td>\n",
       "      <td>0.860614</td>\n",
       "    </tr>\n",
       "    <tr>\n",
       "      <th>0</th>\n",
       "      <td>0.185457</td>\n",
       "      <td>2.166251</td>\n",
       "      <td>-1.950527</td>\n",
       "    </tr>\n",
       "    <tr>\n",
       "      <th>1</th>\n",
       "      <td>0.067699</td>\n",
       "      <td>-1.107949</td>\n",
       "      <td>-0.693362</td>\n",
       "    </tr>\n",
       "    <tr>\n",
       "      <th>2</th>\n",
       "      <td>-1.726343</td>\n",
       "      <td>-0.604205</td>\n",
       "      <td>-1.206487</td>\n",
       "    </tr>\n",
       "    <tr>\n",
       "      <th>3</th>\n",
       "      <td>-0.271821</td>\n",
       "      <td>0.657102</td>\n",
       "      <td>-0.312880</td>\n",
       "    </tr>\n",
       "    <tr>\n",
       "      <th>4</th>\n",
       "      <td>-1.871111</td>\n",
       "      <td>0.004856</td>\n",
       "      <td>-0.780127</td>\n",
       "    </tr>\n",
       "  </tbody>\n",
       "</table>\n",
       "</div>"
      ],
      "text/plain": [
       "          A         B         C\n",
       "0 -0.666760 -0.699977  1.364432\n",
       "1 -0.141583 -1.014285  1.002815\n",
       "2  0.487577  0.853275 -0.024351\n",
       "3 -1.296415 -2.496725  0.993321\n",
       "4  1.111317  0.093188  0.860614\n",
       "0  0.185457  2.166251 -1.950527\n",
       "1  0.067699 -1.107949 -0.693362\n",
       "2 -1.726343 -0.604205 -1.206487\n",
       "3 -0.271821  0.657102 -0.312880\n",
       "4 -1.871111  0.004856 -0.780127"
      ]
     },
     "execution_count": 64,
     "metadata": {},
     "output_type": "execute_result"
    }
   ],
   "source": [
    "hdf = HDFStore(path + 'storage.h5')\n",
    "hdf['data01']"
   ]
  },
  {
   "cell_type": "code",
   "execution_count": 65,
   "metadata": {
    "collapsed": false
   },
   "outputs": [
    {
     "data": {
      "text/html": [
       "<div>\n",
       "<table border=\"1\" class=\"dataframe\">\n",
       "  <thead>\n",
       "    <tr style=\"text-align: right;\">\n",
       "      <th></th>\n",
       "      <th>A</th>\n",
       "      <th>B</th>\n",
       "      <th>C</th>\n",
       "    </tr>\n",
       "  </thead>\n",
       "  <tbody>\n",
       "    <tr>\n",
       "      <th>0</th>\n",
       "      <td>0.285117</td>\n",
       "      <td>0.186563</td>\n",
       "      <td>-0.086381</td>\n",
       "    </tr>\n",
       "    <tr>\n",
       "      <th>1</th>\n",
       "      <td>-0.050505</td>\n",
       "      <td>1.498557</td>\n",
       "      <td>-0.870170</td>\n",
       "    </tr>\n",
       "    <tr>\n",
       "      <th>2</th>\n",
       "      <td>0.482023</td>\n",
       "      <td>-0.939811</td>\n",
       "      <td>-1.085934</td>\n",
       "    </tr>\n",
       "    <tr>\n",
       "      <th>3</th>\n",
       "      <td>-1.539818</td>\n",
       "      <td>-0.244565</td>\n",
       "      <td>-0.052588</td>\n",
       "    </tr>\n",
       "    <tr>\n",
       "      <th>4</th>\n",
       "      <td>0.817497</td>\n",
       "      <td>-0.422076</td>\n",
       "      <td>-0.823467</td>\n",
       "    </tr>\n",
       "    <tr>\n",
       "      <th>5</th>\n",
       "      <td>1.124246</td>\n",
       "      <td>-0.215339</td>\n",
       "      <td>-0.751751</td>\n",
       "    </tr>\n",
       "    <tr>\n",
       "      <th>6</th>\n",
       "      <td>-0.612939</td>\n",
       "      <td>-0.591645</td>\n",
       "      <td>0.073005</td>\n",
       "    </tr>\n",
       "    <tr>\n",
       "      <th>7</th>\n",
       "      <td>1.324204</td>\n",
       "      <td>2.362100</td>\n",
       "      <td>-0.600790</td>\n",
       "    </tr>\n",
       "    <tr>\n",
       "      <th>8</th>\n",
       "      <td>-1.146211</td>\n",
       "      <td>-0.931807</td>\n",
       "      <td>-1.923845</td>\n",
       "    </tr>\n",
       "    <tr>\n",
       "      <th>9</th>\n",
       "      <td>0.370655</td>\n",
       "      <td>1.212017</td>\n",
       "      <td>-1.138683</td>\n",
       "    </tr>\n",
       "  </tbody>\n",
       "</table>\n",
       "</div>"
      ],
      "text/plain": [
       "          A         B         C\n",
       "0  0.285117  0.186563 -0.086381\n",
       "1 -0.050505  1.498557 -0.870170\n",
       "2  0.482023 -0.939811 -1.085934\n",
       "3 -1.539818 -0.244565 -0.052588\n",
       "4  0.817497 -0.422076 -0.823467\n",
       "5  1.124246 -0.215339 -0.751751\n",
       "6 -0.612939 -0.591645  0.073005\n",
       "7  1.324204  2.362100 -0.600790\n",
       "8 -1.146211 -0.931807 -1.923845\n",
       "9  0.370655  1.212017 -1.138683"
      ]
     },
     "execution_count": 65,
     "metadata": {},
     "output_type": "execute_result"
    }
   ],
   "source": [
    "#用打开文件的方法调用一个df，然后添加，观察是否是修改硬盘位置\n",
    "hdf['data02'].append(DataFrame(np.random.standard_normal((5,3)), columns=('A','B','C')), ignore_index=True) \n"
   ]
  },
  {
   "cell_type": "code",
   "execution_count": 66,
   "metadata": {
    "collapsed": true
   },
   "outputs": [],
   "source": [
    "hdf.close()"
   ]
  },
  {
   "cell_type": "code",
   "execution_count": 67,
   "metadata": {
    "collapsed": false
   },
   "outputs": [
    {
     "data": {
      "text/html": [
       "<div>\n",
       "<table border=\"1\" class=\"dataframe\">\n",
       "  <thead>\n",
       "    <tr style=\"text-align: right;\">\n",
       "      <th></th>\n",
       "      <th>A</th>\n",
       "      <th>B</th>\n",
       "      <th>C</th>\n",
       "    </tr>\n",
       "  </thead>\n",
       "  <tbody>\n",
       "    <tr>\n",
       "      <th>0</th>\n",
       "      <td>0.285117</td>\n",
       "      <td>0.186563</td>\n",
       "      <td>-0.086381</td>\n",
       "    </tr>\n",
       "    <tr>\n",
       "      <th>1</th>\n",
       "      <td>-0.050505</td>\n",
       "      <td>1.498557</td>\n",
       "      <td>-0.870170</td>\n",
       "    </tr>\n",
       "    <tr>\n",
       "      <th>2</th>\n",
       "      <td>0.482023</td>\n",
       "      <td>-0.939811</td>\n",
       "      <td>-1.085934</td>\n",
       "    </tr>\n",
       "    <tr>\n",
       "      <th>3</th>\n",
       "      <td>-1.539818</td>\n",
       "      <td>-0.244565</td>\n",
       "      <td>-0.052588</td>\n",
       "    </tr>\n",
       "    <tr>\n",
       "      <th>4</th>\n",
       "      <td>0.817497</td>\n",
       "      <td>-0.422076</td>\n",
       "      <td>-0.823467</td>\n",
       "    </tr>\n",
       "  </tbody>\n",
       "</table>\n",
       "</div>"
      ],
      "text/plain": [
       "          A         B         C\n",
       "0  0.285117  0.186563 -0.086381\n",
       "1 -0.050505  1.498557 -0.870170\n",
       "2  0.482023 -0.939811 -1.085934\n",
       "3 -1.539818 -0.244565 -0.052588\n",
       "4  0.817497 -0.422076 -0.823467"
      ]
     },
     "execution_count": 67,
     "metadata": {},
     "output_type": "execute_result"
    }
   ],
   "source": [
    "hdf = HDFStore(path + 'storage.h5')\n",
    "hdf['data02']\n",
    "#结果发现并没有修改硬盘位置的数据，唯一能修改的方法是hdf.append()。任何先调用，后修改的方法都仅仅修改内存位置"
   ]
  },
  {
   "cell_type": "code",
   "execution_count": 68,
   "metadata": {
    "collapsed": false
   },
   "outputs": [
    {
     "data": {
      "text/html": [
       "<div>\n",
       "<table border=\"1\" class=\"dataframe\">\n",
       "  <thead>\n",
       "    <tr style=\"text-align: right;\">\n",
       "      <th></th>\n",
       "      <th>A</th>\n",
       "      <th>B</th>\n",
       "      <th>C</th>\n",
       "    </tr>\n",
       "  </thead>\n",
       "  <tbody>\n",
       "    <tr>\n",
       "      <th>0</th>\n",
       "      <td>0.285117</td>\n",
       "      <td>0.186563</td>\n",
       "      <td>-0.086381</td>\n",
       "    </tr>\n",
       "    <tr>\n",
       "      <th>1</th>\n",
       "      <td>-0.050505</td>\n",
       "      <td>1.498557</td>\n",
       "      <td>-0.870170</td>\n",
       "    </tr>\n",
       "    <tr>\n",
       "      <th>2</th>\n",
       "      <td>0.482023</td>\n",
       "      <td>-0.939811</td>\n",
       "      <td>-1.085934</td>\n",
       "    </tr>\n",
       "    <tr>\n",
       "      <th>3</th>\n",
       "      <td>-1.539818</td>\n",
       "      <td>-0.244565</td>\n",
       "      <td>-0.052588</td>\n",
       "    </tr>\n",
       "    <tr>\n",
       "      <th>4</th>\n",
       "      <td>0.817497</td>\n",
       "      <td>-0.422076</td>\n",
       "      <td>-0.823467</td>\n",
       "    </tr>\n",
       "    <tr>\n",
       "      <th>5</th>\n",
       "      <td>-0.599549</td>\n",
       "      <td>-1.810929</td>\n",
       "      <td>0.696459</td>\n",
       "    </tr>\n",
       "    <tr>\n",
       "      <th>6</th>\n",
       "      <td>1.761945</td>\n",
       "      <td>0.179663</td>\n",
       "      <td>0.525489</td>\n",
       "    </tr>\n",
       "    <tr>\n",
       "      <th>7</th>\n",
       "      <td>-0.605755</td>\n",
       "      <td>-0.179308</td>\n",
       "      <td>0.500436</td>\n",
       "    </tr>\n",
       "    <tr>\n",
       "      <th>8</th>\n",
       "      <td>0.009698</td>\n",
       "      <td>-0.097602</td>\n",
       "      <td>-1.114657</td>\n",
       "    </tr>\n",
       "    <tr>\n",
       "      <th>9</th>\n",
       "      <td>-0.664224</td>\n",
       "      <td>0.395266</td>\n",
       "      <td>-0.313272</td>\n",
       "    </tr>\n",
       "  </tbody>\n",
       "</table>\n",
       "</div>"
      ],
      "text/plain": [
       "          A         B         C\n",
       "0  0.285117  0.186563 -0.086381\n",
       "1 -0.050505  1.498557 -0.870170\n",
       "2  0.482023 -0.939811 -1.085934\n",
       "3 -1.539818 -0.244565 -0.052588\n",
       "4  0.817497 -0.422076 -0.823467\n",
       "5 -0.599549 -1.810929  0.696459\n",
       "6  1.761945  0.179663  0.525489\n",
       "7 -0.605755 -0.179308  0.500436\n",
       "8  0.009698 -0.097602 -1.114657\n",
       "9 -0.664224  0.395266 -0.313272"
      ]
     },
     "execution_count": 68,
     "metadata": {},
     "output_type": "execute_result"
    }
   ],
   "source": [
    "hdf['data02'].append(DataFrame(np.random.standard_normal((5,3)), columns=('A','B','C')), ignore_index=True) \n",
    "#先读取"
   ]
  },
  {
   "cell_type": "code",
   "execution_count": 69,
   "metadata": {
    "collapsed": true
   },
   "outputs": [],
   "source": [
    "hdf.flush() #flush也无效啊"
   ]
  },
  {
   "cell_type": "code",
   "execution_count": 70,
   "metadata": {
    "collapsed": false
   },
   "outputs": [
    {
     "data": {
      "text/html": [
       "<div>\n",
       "<table border=\"1\" class=\"dataframe\">\n",
       "  <thead>\n",
       "    <tr style=\"text-align: right;\">\n",
       "      <th></th>\n",
       "      <th>A</th>\n",
       "      <th>B</th>\n",
       "      <th>C</th>\n",
       "    </tr>\n",
       "  </thead>\n",
       "  <tbody>\n",
       "    <tr>\n",
       "      <th>0</th>\n",
       "      <td>0.285117</td>\n",
       "      <td>0.186563</td>\n",
       "      <td>-0.086381</td>\n",
       "    </tr>\n",
       "    <tr>\n",
       "      <th>1</th>\n",
       "      <td>-0.050505</td>\n",
       "      <td>1.498557</td>\n",
       "      <td>-0.870170</td>\n",
       "    </tr>\n",
       "    <tr>\n",
       "      <th>2</th>\n",
       "      <td>0.482023</td>\n",
       "      <td>-0.939811</td>\n",
       "      <td>-1.085934</td>\n",
       "    </tr>\n",
       "    <tr>\n",
       "      <th>3</th>\n",
       "      <td>-1.539818</td>\n",
       "      <td>-0.244565</td>\n",
       "      <td>-0.052588</td>\n",
       "    </tr>\n",
       "    <tr>\n",
       "      <th>4</th>\n",
       "      <td>0.817497</td>\n",
       "      <td>-0.422076</td>\n",
       "      <td>-0.823467</td>\n",
       "    </tr>\n",
       "  </tbody>\n",
       "</table>\n",
       "</div>"
      ],
      "text/plain": [
       "          A         B         C\n",
       "0  0.285117  0.186563 -0.086381\n",
       "1 -0.050505  1.498557 -0.870170\n",
       "2  0.482023 -0.939811 -1.085934\n",
       "3 -1.539818 -0.244565 -0.052588\n",
       "4  0.817497 -0.422076 -0.823467"
      ]
     },
     "execution_count": 70,
     "metadata": {},
     "output_type": "execute_result"
    }
   ],
   "source": [
    "hdf['data02']"
   ]
  },
  {
   "cell_type": "code",
   "execution_count": 71,
   "metadata": {
    "collapsed": true
   },
   "outputs": [],
   "source": [
    "hdf['data02'] = hdf['data02'].append(DataFrame(np.random.standard_normal((5,3)), columns=('A','B','C')), ignore_index=True) \n",
    "#用这个方法修改硬盘数据"
   ]
  },
  {
   "cell_type": "code",
   "execution_count": 72,
   "metadata": {
    "collapsed": false
   },
   "outputs": [
    {
     "data": {
      "text/html": [
       "<div>\n",
       "<table border=\"1\" class=\"dataframe\">\n",
       "  <thead>\n",
       "    <tr style=\"text-align: right;\">\n",
       "      <th></th>\n",
       "      <th>A</th>\n",
       "      <th>B</th>\n",
       "      <th>C</th>\n",
       "    </tr>\n",
       "  </thead>\n",
       "  <tbody>\n",
       "    <tr>\n",
       "      <th>0</th>\n",
       "      <td>0.285117</td>\n",
       "      <td>0.186563</td>\n",
       "      <td>-0.086381</td>\n",
       "    </tr>\n",
       "    <tr>\n",
       "      <th>1</th>\n",
       "      <td>-0.050505</td>\n",
       "      <td>1.498557</td>\n",
       "      <td>-0.870170</td>\n",
       "    </tr>\n",
       "    <tr>\n",
       "      <th>2</th>\n",
       "      <td>0.482023</td>\n",
       "      <td>-0.939811</td>\n",
       "      <td>-1.085934</td>\n",
       "    </tr>\n",
       "    <tr>\n",
       "      <th>3</th>\n",
       "      <td>-1.539818</td>\n",
       "      <td>-0.244565</td>\n",
       "      <td>-0.052588</td>\n",
       "    </tr>\n",
       "    <tr>\n",
       "      <th>4</th>\n",
       "      <td>0.817497</td>\n",
       "      <td>-0.422076</td>\n",
       "      <td>-0.823467</td>\n",
       "    </tr>\n",
       "    <tr>\n",
       "      <th>5</th>\n",
       "      <td>0.754588</td>\n",
       "      <td>-1.559928</td>\n",
       "      <td>0.207480</td>\n",
       "    </tr>\n",
       "    <tr>\n",
       "      <th>6</th>\n",
       "      <td>0.456891</td>\n",
       "      <td>0.571227</td>\n",
       "      <td>0.060167</td>\n",
       "    </tr>\n",
       "    <tr>\n",
       "      <th>7</th>\n",
       "      <td>2.664875</td>\n",
       "      <td>1.203371</td>\n",
       "      <td>-0.388795</td>\n",
       "    </tr>\n",
       "    <tr>\n",
       "      <th>8</th>\n",
       "      <td>1.547306</td>\n",
       "      <td>1.756435</td>\n",
       "      <td>0.277848</td>\n",
       "    </tr>\n",
       "    <tr>\n",
       "      <th>9</th>\n",
       "      <td>0.438256</td>\n",
       "      <td>0.488127</td>\n",
       "      <td>0.146742</td>\n",
       "    </tr>\n",
       "  </tbody>\n",
       "</table>\n",
       "</div>"
      ],
      "text/plain": [
       "          A         B         C\n",
       "0  0.285117  0.186563 -0.086381\n",
       "1 -0.050505  1.498557 -0.870170\n",
       "2  0.482023 -0.939811 -1.085934\n",
       "3 -1.539818 -0.244565 -0.052588\n",
       "4  0.817497 -0.422076 -0.823467\n",
       "5  0.754588 -1.559928  0.207480\n",
       "6  0.456891  0.571227  0.060167\n",
       "7  2.664875  1.203371 -0.388795\n",
       "8  1.547306  1.756435  0.277848\n",
       "9  0.438256  0.488127  0.146742"
      ]
     },
     "execution_count": 72,
     "metadata": {},
     "output_type": "execute_result"
    }
   ],
   "source": [
    "hdf['data02']\n",
    "#成功"
   ]
  },
  {
   "cell_type": "code",
   "execution_count": 86,
   "metadata": {
    "collapsed": false
   },
   "outputs": [],
   "source": [
    "hdf.close()\n",
    "randm =  np.random.standard_normal((100000,2000))\n",
    "df = DataFrame(randm)\n"
   ]
  },
  {
   "cell_type": "code",
   "execution_count": 78,
   "metadata": {
    "collapsed": false
   },
   "outputs": [
    {
     "data": {
      "text/plain": [
       "pandas.core.frame.DataFrame"
      ]
     },
     "execution_count": 78,
     "metadata": {},
     "output_type": "execute_result"
    }
   ],
   "source": [
    "type(df)"
   ]
  },
  {
   "cell_type": "code",
   "execution_count": 80,
   "metadata": {
    "collapsed": false
   },
   "outputs": [
    {
     "name": "stdout",
     "output_type": "stream",
     "text": [
      "Wall time: 31.4 s\n"
     ]
    }
   ],
   "source": [
    "%time df.to_hdf(path + 'storage.h5', 'data05') #不知道为啥，只要加上append=True就报错"
   ]
  },
  {
   "cell_type": "code",
   "execution_count": 95,
   "metadata": {
    "collapsed": false
   },
   "outputs": [
    {
     "name": "stdout",
     "output_type": "stream",
     "text": [
      "Wall time: 36 s\n"
     ]
    }
   ],
   "source": [
    "hdf = HDFStore(path + 'storage.h5')\n",
    "%time hdf.put('data06', df, format=None, append=False) #要加上append=True就报错,而且format不能用table"
   ]
  },
  {
   "cell_type": "code",
   "execution_count": 96,
   "metadata": {
    "collapsed": false
   },
   "outputs": [
    {
     "name": "stdout",
     "output_type": "stream",
     "text": [
      "<class 'pandas.io.pytables.HDFStore'>\n",
      "File path: d:/largedata/storage.h5\n",
      "/data01            frame_table  (typ->appendable,nrows->10,ncols->3,indexers->[index],dc->[A,B,C])\n",
      "/data02            frame        (shape->[10,3])                                                   \n",
      "/data03            frame_table  (typ->appendable,nrows->5,ncols->3,indexers->[index])             \n",
      "/data04            frame_table  (typ->appendable,nrows->None,ncols->0,indexers->[])               \n",
      "/data05            frame        (shape->[100000,2000])                                            \n",
      "/data06            frame        (shape->[100000,2000])                                            \n"
     ]
    }
   ],
   "source": [
    "print hdf"
   ]
  },
  {
   "cell_type": "code",
   "execution_count": null,
   "metadata": {
    "collapsed": true
   },
   "outputs": [],
   "source": []
  }
 ],
 "metadata": {
  "anaconda-cloud": {},
  "kernelspec": {
   "display_name": "Python [Root]",
   "language": "python",
   "name": "Python [Root]"
  },
  "language_info": {
   "codemirror_mode": {
    "name": "ipython",
    "version": 2
   },
   "file_extension": ".py",
   "mimetype": "text/x-python",
   "name": "python",
   "nbconvert_exporter": "python",
   "pygments_lexer": "ipython2",
   "version": "2.7.11"
  }
 },
 "nbformat": 4,
 "nbformat_minor": 0
}
