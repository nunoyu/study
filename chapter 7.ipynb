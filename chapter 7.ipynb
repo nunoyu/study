{
 "cells": [
  {
   "cell_type": "code",
   "execution_count": 14,
   "metadata": {
    "collapsed": false
   },
   "outputs": [
    {
     "name": "stdout",
     "output_type": "stream",
     "text": [
      "Wall time: 2.21 s\n"
     ]
    }
   ],
   "source": [
    "import numpy as np\n",
    "from random import gauss\n",
    "import pickle\n",
    "path = 'd:/largedata/'\n",
    "pkl_file = open(path + 'data.pkl', 'w') #没有该文件的情况下，open等同于建立一个文件。文件格式为pkl\n",
    "a = [gauss(1.5, 2) for i in range(1000000)]  #创建一个随机list\n",
    "%time pickle.dump(a, pkl_file) #将变量a存到刚刚建立的data.pkl文件中"
   ]
  },
  {
   "cell_type": "code",
   "execution_count": 15,
   "metadata": {
    "collapsed": false
   },
   "outputs": [],
   "source": [
    "b = [gauss(1.5, 2) for i in range(100)] #加一个c list到文件里\n",
    "pickle.dump(b, pkl_file) #pickle文件遵从FIFO\n",
    "pkl_file.close() #关闭打开的文件"
   ]
  },
  {
   "cell_type": "code",
   "execution_count": 16,
   "metadata": {
    "collapsed": false
   },
   "outputs": [
    {
     "data": {
      "text/plain": [
       "[1.9148520230836152,\n",
       " 2.440437466366617,\n",
       " -2.0772410675880972,\n",
       " 1.0670615759947721,\n",
       " 1.0820589805432934]"
      ]
     },
     "execution_count": 16,
     "metadata": {},
     "output_type": "execute_result"
    }
   ],
   "source": [
    "b[:5] #c存在于内存"
   ]
  },
  {
   "cell_type": "code",
   "execution_count": 17,
   "metadata": {
    "collapsed": false
   },
   "outputs": [
    {
     "data": {
      "text/plain": [
       "[-1.7741707365656199,\n",
       " 1.3550758388915298,\n",
       " -2.13980558333196,\n",
       " 3.6799895828035516,\n",
       " 1.8087107533357298]"
      ]
     },
     "execution_count": 17,
     "metadata": {},
     "output_type": "execute_result"
    }
   ],
   "source": [
    "a[:5]"
   ]
  },
  {
   "cell_type": "code",
   "execution_count": 18,
   "metadata": {
    "collapsed": false
   },
   "outputs": [],
   "source": [
    "pkl_file = open(path + 'data.pkl', 'r')\n",
    "c = pickle.load(pkl_file) #难道整个data.pkl文件就只存一个list? "
   ]
  },
  {
   "cell_type": "code",
   "execution_count": 19,
   "metadata": {
    "collapsed": false
   },
   "outputs": [
    {
     "data": {
      "text/plain": [
       "[-1.7741707365656199,\n",
       " 1.3550758388915298,\n",
       " -2.13980558333196,\n",
       " 3.6799895828035516,\n",
       " 1.8087107533357298]"
      ]
     },
     "execution_count": 19,
     "metadata": {},
     "output_type": "execute_result"
    }
   ],
   "source": [
    "c[:5] #data里面存了a和c, 但是b只调用了a。因为是FIFO"
   ]
  },
  {
   "cell_type": "code",
   "execution_count": 20,
   "metadata": {
    "collapsed": false
   },
   "outputs": [
    {
     "data": {
      "text/plain": [
       "True"
      ]
     },
     "execution_count": 20,
     "metadata": {},
     "output_type": "execute_result"
    }
   ],
   "source": [
    "np.allclose(np.array(a), np.array(c)) #内建方法，检查两个数组是否完全一致"
   ]
  },
  {
   "cell_type": "code",
   "execution_count": 21,
   "metadata": {
    "collapsed": false
   },
   "outputs": [
    {
     "data": {
      "text/plain": [
       "0.0"
      ]
     },
     "execution_count": 21,
     "metadata": {},
     "output_type": "execute_result"
    }
   ],
   "source": [
    "np.sum(np.array(a) - np.array(c)) #用差值检验是否一致"
   ]
  },
  {
   "cell_type": "code",
   "execution_count": 22,
   "metadata": {
    "collapsed": true
   },
   "outputs": [],
   "source": [
    "d = pickle.load(pkl_file)"
   ]
  },
  {
   "cell_type": "code",
   "execution_count": 23,
   "metadata": {
    "collapsed": false
   },
   "outputs": [
    {
     "data": {
      "text/plain": [
       "[1.9148520230836152,\n",
       " 2.440437466366617,\n",
       " -2.0772410675880972,\n",
       " 1.0670615759947721,\n",
       " 1.0820589805432934]"
      ]
     },
     "execution_count": 23,
     "metadata": {},
     "output_type": "execute_result"
    }
   ],
   "source": [
    "d[:5] #第二次，调用的就是第二个数组"
   ]
  },
  {
   "cell_type": "code",
   "execution_count": 24,
   "metadata": {
    "collapsed": true
   },
   "outputs": [],
   "source": [
    "pkl_file.close()"
   ]
  },
  {
   "cell_type": "code",
   "execution_count": 25,
   "metadata": {
    "collapsed": false
   },
   "outputs": [],
   "source": [
    "pkl_file = open(path + 'data.pkl', 'w')\n",
    "x = np.array(a)\n",
    "y = np.array(b) ** 2 \n",
    "pickle.dump({'x':x, 'y':y}, pkl_file) # 为了便于提取，使用字典方式储存。此外，如果调用narray，储存的速度大幅提高\n",
    "pkl_file.close()"
   ]
  },
  {
   "cell_type": "code",
   "execution_count": 26,
   "metadata": {
    "collapsed": false
   },
   "outputs": [
    {
     "name": "stdout",
     "output_type": "stream",
     "text": [
      "y [ 3.66665827  5.95573503  4.31493045  1.13862041  1.17085164]\n",
      "x [-1.77417074  1.35507584 -2.13980558  3.67998958  1.80871075]\n"
     ]
    }
   ],
   "source": [
    "pkl_file = open(path + 'data.pkl', 'r')\n",
    "data = pickle.load(pkl_file) #调入内存\n",
    "pkl_file.close() #立刻关闭\n",
    "for key in data.keys(): #调用所有的key，做循环\n",
    "    print key, data[key][:5]  \n",
    "\n",
    "\n"
   ]
  },
  {
   "cell_type": "code",
   "execution_count": 27,
   "metadata": {
    "collapsed": false
   },
   "outputs": [
    {
     "data": {
      "text/plain": [
       "array([[-0.7955,  0.3213,  1.5493,  1.0416, -1.2129],\n",
       "       [ 0.7181,  0.7572, -1.3851,  0.5251,  0.5319],\n",
       "       [ 0.2653,  0.5797,  0.2669,  0.8459,  1.6721],\n",
       "       ..., \n",
       "       [ 1.1679, -1.0034, -0.7265, -1.0881,  0.1896],\n",
       "       [ 0.3593, -2.2705, -3.2449,  0.9763, -0.6623],\n",
       "       [ 0.1924,  0.0291, -0.1244, -0.4811,  0.3175]])"
      ]
     },
     "execution_count": 27,
     "metadata": {},
     "output_type": "execute_result"
    }
   ],
   "source": [
    "rows = 5000\n",
    "a = np.random.standard_normal((rows,5)) #建立随机数组\n",
    "a.round(4)\n"
   ]
  },
  {
   "cell_type": "code",
   "execution_count": 28,
   "metadata": {
    "collapsed": false
   },
   "outputs": [
    {
     "data": {
      "text/plain": [
       "DatetimeIndex(['2015-01-01 00:00:00', '2015-01-01 01:00:00',\n",
       "               '2015-01-01 02:00:00', '2015-01-01 03:00:00',\n",
       "               '2015-01-01 04:00:00', '2015-01-01 05:00:00',\n",
       "               '2015-01-01 06:00:00', '2015-01-01 07:00:00',\n",
       "               '2015-01-01 08:00:00', '2015-01-01 09:00:00',\n",
       "               ...\n",
       "               '2015-07-27 22:00:00', '2015-07-27 23:00:00',\n",
       "               '2015-07-28 00:00:00', '2015-07-28 01:00:00',\n",
       "               '2015-07-28 02:00:00', '2015-07-28 03:00:00',\n",
       "               '2015-07-28 04:00:00', '2015-07-28 05:00:00',\n",
       "               '2015-07-28 06:00:00', '2015-07-28 07:00:00'],\n",
       "              dtype='datetime64[ns]', length=5000, freq='H')"
      ]
     },
     "execution_count": 28,
     "metadata": {},
     "output_type": "execute_result"
    }
   ],
   "source": [
    "import pandas as pd\n",
    "t = pd.date_range(start='2015/1/1', periods=rows, freq='H', )  #建立一个世界序列datetime以便加到前面数组做序列\n",
    "t\n"
   ]
  },
  {
   "cell_type": "code",
   "execution_count": 29,
   "metadata": {
    "collapsed": false
   },
   "outputs": [],
   "source": [
    "csv_file = open(path + 'data.csv', 'w') #建立一个csv，可写模式打开\n",
    "header = 'date,no1,no2,no3,no4,no5\\n' #csv是文本文件，所以用字符串写，之间也on用逗号连接. \\n用于换行\n",
    "csv_file.write(header) #写入第一行"
   ]
  },
  {
   "cell_type": "code",
   "execution_count": 30,
   "metadata": {
    "collapsed": false
   },
   "outputs": [],
   "source": [
    "for t_, (no1, no2, no3, no4, no5) in zip(t, a):\n",
    "    s = '%s,%f,%f,%f,%f,%f\\n' %(t_, no1, no2, no3, no4, no5) #因为是csv所以都是字符串\n",
    "    csv_file.write(s)\n",
    "csv_file.close()"
   ]
  },
  {
   "cell_type": "code",
   "execution_count": 31,
   "metadata": {
    "collapsed": false
   },
   "outputs": [
    {
     "name": "stdout",
     "output_type": "stream",
     "text": [
      "date,no1,no2,no3,no4,no5\n",
      "\n",
      "2015-01-01 00:00:00,-0.795483,0.321335,1.549291,1.041635,-1.212907\n",
      "\n",
      "2015-01-01 01:00:00,0.718144,0.757203,-1.385094,0.525076,0.531928\n",
      "\n",
      "2015-01-01 02:00:00,0.265326,0.579715,0.266857,0.845909,1.672050\n",
      "\n",
      "2015-01-01 03:00:00,-2.269629,0.529045,-0.000424,-0.624257,-1.278645\n",
      "\n"
     ]
    }
   ],
   "source": [
    "csv_file = open(path + 'data.csv', 'r')\n",
    "content = csv_file.readlines() #d读取文件\n",
    "csv_file.close() #调入内存后关闭文件\n",
    "for line in content[:5]:\n",
    "    print line"
   ]
  },
  {
   "cell_type": "code",
   "execution_count": 32,
   "metadata": {
    "collapsed": false
   },
   "outputs": [
    {
     "data": {
      "text/plain": [
       "3681360"
      ]
     },
     "execution_count": 32,
     "metadata": {},
     "output_type": "execute_result"
    }
   ],
   "source": [
    "import numpy as np\n",
    "dtimes = np.arange('2015-01-01 10:00:00', '2021-12-31 22:00:00', dtype='datetime64[m]') #用np建立时间序列datetime数据\n",
    "len(dtimes)"
   ]
  },
  {
   "cell_type": "code",
   "execution_count": 33,
   "metadata": {
    "collapsed": false
   },
   "outputs": [],
   "source": [
    "dty = np.dtype([('Date', 'datetime64[m]'), ('No1', 'f'), ('No2', 'f')]) #确定数组每一个列的数据格式\n",
    "data = np.zeros(len(dtimes), dtype=dty) #建立0数组\n",
    "data['Date'] = dtimes"
   ]
  },
  {
   "cell_type": "code",
   "execution_count": 34,
   "metadata": {
    "collapsed": false
   },
   "outputs": [],
   "source": [
    "a = np.random.standard_normal((len(dtimes),2)).round(5) #建立数组\n",
    "data['No1'] = a[:, 0]\n",
    "data['No2'] = a[:, 1]"
   ]
  },
  {
   "cell_type": "code",
   "execution_count": 37,
   "metadata": {
    "collapsed": false
   },
   "outputs": [
    {
     "name": "stdout",
     "output_type": "stream",
     "text": [
      "Wall time: 530 ms\n"
     ]
    }
   ],
   "source": [
    "%time np.save(path + 'array.npy', data) #直接建立一个文件储存 用save。后缀名npy"
   ]
  },
  {
   "cell_type": "code",
   "execution_count": 38,
   "metadata": {
    "collapsed": false
   },
   "outputs": [
    {
     "name": "stdout",
     "output_type": "stream",
     "text": [
      "Wall time: 28 ms\n"
     ]
    },
    {
     "data": {
      "text/plain": [
       "array([ (datetime.datetime(2015, 1, 1, 10, 0), -1.58610999584198, -1.1169899702072144),\n",
       "       (datetime.datetime(2015, 1, 1, 10, 1), -0.4428099989891052, -0.017799999564886093),\n",
       "       (datetime.datetime(2015, 1, 1, 10, 2), -1.7536300420761108, -0.0257399994879961),\n",
       "       ...,\n",
       "       (datetime.datetime(2021, 12, 31, 21, 57), 0.427590012550354, 0.8599900007247925),\n",
       "       (datetime.datetime(2021, 12, 31, 21, 58), 0.509440004825592, -0.6072499752044678),\n",
       "       (datetime.datetime(2021, 12, 31, 21, 59), -1.7672200202941895, -0.21432000398635864)], \n",
       "      dtype=[('Date', '<M8[m]'), ('No1', '<f4'), ('No2', '<f4')])"
      ]
     },
     "execution_count": 38,
     "metadata": {},
     "output_type": "execute_result"
    }
   ],
   "source": [
    "%time np.load(path + 'array.npy')"
   ]
  },
  {
   "cell_type": "code",
   "execution_count": null,
   "metadata": {
    "collapsed": true
   },
   "outputs": [],
   "source": []
  }
 ],
 "metadata": {
  "anaconda-cloud": {},
  "kernelspec": {
   "display_name": "Python [Root]",
   "language": "python",
   "name": "Python [Root]"
  },
  "language_info": {
   "codemirror_mode": {
    "name": "ipython",
    "version": 2
   },
   "file_extension": ".py",
   "mimetype": "text/x-python",
   "name": "python",
   "nbconvert_exporter": "python",
   "pygments_lexer": "ipython2",
   "version": "2.7.11"
  }
 },
 "nbformat": 4,
 "nbformat_minor": 0
}
