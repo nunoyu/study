{
 "cells": [
  {
   "cell_type": "code",
   "execution_count": 1,
   "metadata": {
    "collapsed": false
   },
   "outputs": [
    {
     "name": "stdout",
     "output_type": "stream",
     "text": [
      "Wall time: 3.93 s\n"
     ]
    }
   ],
   "source": [
    "import numpy as np\n",
    "from random import gauss\n",
    "import pickle\n",
    "path = 'd:/largedata/'\n",
    "pkl_file = open(path + 'data.pkl', 'w') #没有该文件的情况下，open等同于建立一个文件。文件格式为pkl\n",
    "a = [gauss(1.5, 2) for i in range(1000000)]  #创建一个随机list\n",
    "%time pickle.dump(a, pkl_file) #将变量a存到刚刚建立的data.pkl文件中"
   ]
  },
  {
   "cell_type": "code",
   "execution_count": 3,
   "metadata": {
    "collapsed": false
   },
   "outputs": [],
   "source": [
    "b = [gauss(1.5, 2) for i in range(100)] #加一个c list到文件里\n",
    "pickle.dump(b, pkl_file) #pickle文件遵从FIFO\n",
    "pkl_file.close() #关闭打开的文件"
   ]
  },
  {
   "cell_type": "code",
   "execution_count": 4,
   "metadata": {
    "collapsed": false
   },
   "outputs": [
    {
     "data": {
      "text/plain": [
       "[3.8231919899603226,\n",
       " -0.6326334975848691,\n",
       " -2.5710503001624447,\n",
       " 2.3914764328012166,\n",
       " 1.362278092920738]"
      ]
     },
     "execution_count": 4,
     "metadata": {},
     "output_type": "execute_result"
    }
   ],
   "source": [
    "b[:5] #c存在于内存"
   ]
  },
  {
   "cell_type": "code",
   "execution_count": 5,
   "metadata": {
    "collapsed": false
   },
   "outputs": [
    {
     "data": {
      "text/plain": [
       "[0.1898819358674042,\n",
       " -1.9138092913327696,\n",
       " 0.10646443635501579,\n",
       " -2.646340168087711,\n",
       " 5.2842983417653695]"
      ]
     },
     "execution_count": 5,
     "metadata": {},
     "output_type": "execute_result"
    }
   ],
   "source": [
    "a[:5]"
   ]
  },
  {
   "cell_type": "code",
   "execution_count": 6,
   "metadata": {
    "collapsed": false
   },
   "outputs": [],
   "source": [
    "pkl_file = open(path + 'data.pkl', 'r')\n",
    "c = pickle.load(pkl_file) #难道整个data.pkl文件就只存一个list? "
   ]
  },
  {
   "cell_type": "code",
   "execution_count": 7,
   "metadata": {
    "collapsed": false
   },
   "outputs": [
    {
     "data": {
      "text/plain": [
       "[0.1898819358674042,\n",
       " -1.9138092913327696,\n",
       " 0.10646443635501579,\n",
       " -2.646340168087711,\n",
       " 5.2842983417653695]"
      ]
     },
     "execution_count": 7,
     "metadata": {},
     "output_type": "execute_result"
    }
   ],
   "source": [
    "c[:5] #data里面存了a和c, 但是b只调用了a。因为是FIFO"
   ]
  },
  {
   "cell_type": "code",
   "execution_count": 8,
   "metadata": {
    "collapsed": false
   },
   "outputs": [
    {
     "data": {
      "text/plain": [
       "True"
      ]
     },
     "execution_count": 8,
     "metadata": {},
     "output_type": "execute_result"
    }
   ],
   "source": [
    "np.allclose(np.array(a), np.array(c)) #内建方法，检查两个数组是否完全一致"
   ]
  },
  {
   "cell_type": "code",
   "execution_count": 10,
   "metadata": {
    "collapsed": false
   },
   "outputs": [
    {
     "data": {
      "text/plain": [
       "0.0"
      ]
     },
     "execution_count": 10,
     "metadata": {},
     "output_type": "execute_result"
    }
   ],
   "source": [
    "np.sum(np.array(a) - np.array(c)) #用差值检验是否一致"
   ]
  },
  {
   "cell_type": "code",
   "execution_count": 11,
   "metadata": {
    "collapsed": true
   },
   "outputs": [],
   "source": [
    "d = pickle.load(pkl_file)"
   ]
  },
  {
   "cell_type": "code",
   "execution_count": 12,
   "metadata": {
    "collapsed": false
   },
   "outputs": [
    {
     "data": {
      "text/plain": [
       "[3.8231919899603226,\n",
       " -0.6326334975848691,\n",
       " -2.5710503001624447,\n",
       " 2.3914764328012166,\n",
       " 1.362278092920738]"
      ]
     },
     "execution_count": 12,
     "metadata": {},
     "output_type": "execute_result"
    }
   ],
   "source": [
    "d[:5] #第二次，调用的就是第二个数组"
   ]
  },
  {
   "cell_type": "code",
   "execution_count": 13,
   "metadata": {
    "collapsed": true
   },
   "outputs": [],
   "source": [
    "pkl_file.close()"
   ]
  },
  {
   "cell_type": "code",
   "execution_count": 20,
   "metadata": {
    "collapsed": false
   },
   "outputs": [],
   "source": [
    "pkl_file = open(path + 'data.pkl', 'w')\n",
    "x = np.array(a)\n",
    "y = np.array(b) ** 2 \n",
    "pickle.dump({'x':x, 'y':y}, pkl_file) # 为了便于提取，使用字典方式储存。此外，如果调用narray，储存的速度大幅提高\n",
    "pkl_file.close()"
   ]
  },
  {
   "cell_type": "code",
   "execution_count": 23,
   "metadata": {
    "collapsed": false
   },
   "outputs": [
    {
     "name": "stdout",
     "output_type": "stream",
     "text": [
      "y [ 14.61679699   0.40022514   6.61029965   5.71915953   1.8558016 ]\n",
      "x [ 0.18988194 -1.91380929  0.10646444 -2.64634017  5.28429834]\n"
     ]
    }
   ],
   "source": [
    "pkl_file = open(path + 'data.pkl', 'r')\n",
    "data = pickle.load(pkl_file) #调入内存\n",
    "pkl_file.close() #立刻关闭\n",
    "for key in data.keys(): #调用所有的key，做循环\n",
    "    print key, data[key][:5]  \n",
    "\n",
    "\n"
   ]
  },
  {
   "cell_type": "code",
   "execution_count": null,
   "metadata": {
    "collapsed": true
   },
   "outputs": [],
   "source": []
  }
 ],
 "metadata": {
  "anaconda-cloud": {},
  "kernelspec": {
   "display_name": "Python [Root]",
   "language": "python",
   "name": "Python [Root]"
  },
  "language_info": {
   "codemirror_mode": {
    "name": "ipython",
    "version": 2
   },
   "file_extension": ".py",
   "mimetype": "text/x-python",
   "name": "python",
   "nbconvert_exporter": "python",
   "pygments_lexer": "ipython2",
   "version": "2.7.11"
  }
 },
 "nbformat": 4,
 "nbformat_minor": 0
}
