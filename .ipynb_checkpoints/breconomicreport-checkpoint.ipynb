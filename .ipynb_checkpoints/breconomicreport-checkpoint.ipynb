{
 "cells": [
  {
   "cell_type": "markdown",
   "metadata": {},
   "source": [
    "<h1 style=\"text-align:center;\">\n",
    "\t<strong><span style=\"color:#000000;font-family:&quot;font-size:32px;line-height:1;\">巴西经济数据</span></strong> \n",
    "</h1>\n",
    "<h1 style=\"text-align:center;\">\n",
    "\t<strong><span style=\"font-family:&quot;font-size:16px;\"><span style=\"line-height:1;font-size:16px;\"><em>第1期</em></span></span></strong>\n",
    "</h1>"
   ]
  },
  {
   "cell_type": "code",
   "execution_count": 1,
   "metadata": {
    "collapsed": false
   },
   "outputs": [
    {
     "name": "stdout",
     "output_type": "stream",
     "text": [
      "驻圣保罗总领馆经商室                                                                                 日期：2016-09-02\n"
     ]
    }
   ],
   "source": [
    "import datetime \n",
    "date = datetime.datetime.now()\n",
    "print '驻圣保罗总领馆经商室' + ' ' * 80 + ' 日期：' + datetime.datetime.now().strftime('%Y-%m-%d')\n"
   ]
  },
  {
   "cell_type": "code",
   "execution_count": 1,
   "metadata": {
    "collapsed": false
   },
   "outputs": [
    {
     "name": "stdout",
     "output_type": "stream",
     "text": [
      "========================================================================================================================\n"
     ]
    }
   ],
   "source": [
    "print '=' * 120"
   ]
  },
  {
   "cell_type": "code",
   "execution_count": 6,
   "metadata": {
    "collapsed": true
   },
   "outputs": [],
   "source": [
    "import numpy as np\n",
    "import pandas as pd\n",
    "import matplotlib as mpl\n",
    "import matplotlib.pyplot as plt \n",
    "import urllib \n",
    "from urllib import urlretrieve\n",
    "import warnings; warnings.simplefilter('ignore') \n",
    "%matplotlib inline"
   ]
  },
  {
   "cell_type": "code",
   "execution_count": 23,
   "metadata": {
    "collapsed": false
   },
   "outputs": [
    {
     "name": "stdout",
     "output_type": "stream",
     "text": [
      "一、国内生产总值（单位：百万雷亚尔,当前价格)\n",
      "数据来源：巴西国家地理统计局\n"
     ]
    }
   ],
   "source": [
    "print '一、国内生产总值（单位：百万雷亚尔,当前价格)'\n",
    "url1 = 'http://www.sidra.ibge.gov.br/api/values'\n",
    "url2 = '/t/1846/n1/1/c11255/all/p/last4/v/585/d/s/f/n/h/y'\n",
    "url = url1 + url2\n",
    "data = pd.read_json(url)\n",
    "data\n",
    "print '数据来源：巴西国家地理统计局'\n"
   ]
  },
  {
   "cell_type": "code",
   "execution_count": 20,
   "metadata": {
    "collapsed": false
   },
   "outputs": [
    {
     "name": "stdout",
     "output_type": "stream",
     "text": [
      "数据来源：巴西国家地理统计局\n"
     ]
    }
   ],
   "source": [
    "print '数据来源：巴西国家地理统计局'"
   ]
  },
  {
   "cell_type": "code",
   "execution_count": 7,
   "metadata": {
    "collapsed": false
   },
   "outputs": [
    {
     "name": "stdout",
     "output_type": "stream",
     "text": [
      "二、失业率\n"
     ]
    }
   ],
   "source": [
    "print '二、失业率'"
   ]
  },
  {
   "cell_type": "code",
   "execution_count": 9,
   "metadata": {
    "collapsed": false
   },
   "outputs": [
    {
     "name": "stdout",
     "output_type": "stream",
     "text": [
      "三、物价水平\n"
     ]
    }
   ],
   "source": [
    "print '三、物价水平'"
   ]
  },
  {
   "cell_type": "code",
   "execution_count": 10,
   "metadata": {
    "collapsed": false
   },
   "outputs": [
    {
     "name": "stdout",
     "output_type": "stream",
     "text": [
      "四、汇率\n"
     ]
    }
   ],
   "source": [
    "print '四、汇率'"
   ]
  },
  {
   "cell_type": "code",
   "execution_count": 11,
   "metadata": {
    "collapsed": false
   },
   "outputs": [
    {
     "name": "stdout",
     "output_type": "stream",
     "text": [
      "五、大宗产品价格\n"
     ]
    }
   ],
   "source": [
    "print '五、大宗产品价格'"
   ]
  },
  {
   "cell_type": "markdown",
   "metadata": {
    "collapsed": true
   },
   "source": [
    "粮食产量\n",
    "石油产量\n",
    "糖产量\n",
    "价格\n"
   ]
  },
  {
   "cell_type": "code",
   "execution_count": null,
   "metadata": {
    "collapsed": true
   },
   "outputs": [],
   "source": []
  },
  {
   "cell_type": "code",
   "execution_count": null,
   "metadata": {
    "collapsed": true
   },
   "outputs": [],
   "source": []
  }
 ],
 "metadata": {
  "anaconda-cloud": {},
  "kernelspec": {
   "display_name": "Python [Root]",
   "language": "python",
   "name": "Python [Root]"
  },
  "language_info": {
   "codemirror_mode": {
    "name": "ipython",
    "version": 2
   },
   "file_extension": ".py",
   "mimetype": "text/x-python",
   "name": "python",
   "nbconvert_exporter": "python",
   "pygments_lexer": "ipython2",
   "version": "2.7.11"
  }
 },
 "nbformat": 4,
 "nbformat_minor": 0
}
