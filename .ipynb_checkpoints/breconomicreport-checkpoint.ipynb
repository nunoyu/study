{
 "cells": [
  {
   "cell_type": "markdown",
   "metadata": {},
   "source": [
    "<h1 style=\"text-align:center;\">\n",
    "\t<strong><span style=\"color:#000000;font-family:&quot;font-size:32px;line-height:1;\">巴西经济数据</span></strong> \n",
    "</h1>\n",
    "<h1 style=\"text-align:center;\">\n",
    "\t<strong><span style=\"font-family:&quot;font-size:16px;\"><span style=\"line-height:1;font-size:16px;\"><em>第1期</em></span></span></strong>\n",
    "</h1>"
   ]
  },
  {
   "cell_type": "code",
   "execution_count": 1,
   "metadata": {
    "collapsed": false
   },
   "outputs": [
    {
     "name": "stdout",
     "output_type": "stream",
     "text": [
      "驻圣保罗总领馆经商室                                                                                 日期：2016-09-23\n"
     ]
    }
   ],
   "source": [
    "\n",
    "import datetime \n",
    "date = datetime.datetime.now()\n",
    "print '驻圣保罗总领馆经商室' + ' ' * 80 + ' 日期：' + datetime.datetime.now().strftime('%Y-%m-%d')\n"
   ]
  },
  {
   "cell_type": "code",
   "execution_count": 1,
   "metadata": {
    "collapsed": false
   },
   "outputs": [
    {
     "name": "stdout",
     "output_type": "stream",
     "text": [
      "========================================================================================================================\n"
     ]
    }
   ],
   "source": [
    "print '=' * 120"
   ]
  },
  {
   "cell_type": "code",
   "execution_count": 2,
   "metadata": {
    "collapsed": true
   },
   "outputs": [],
   "source": [
    "import numpy as np\n",
    "import pandas as pd\n",
    "import matplotlib as mpl\n",
    "import matplotlib.pyplot as plt \n",
    "import urllib \n",
    "from urllib import urlretrieve\n",
    "import warnings; warnings.simplefilter('ignore') \n",
    "%matplotlib inline"
   ]
  },
  {
   "cell_type": "code",
   "execution_count": 21,
   "metadata": {
    "collapsed": false
   },
   "outputs": [
    {
     "name": "stdout",
     "output_type": "stream",
     "text": [
      "一、国内生产总值（单位：百万雷亚尔,当前价格)\n"
     ]
    },
    {
     "data": {
      "image/png": "[encoded data removed]",
      "text/plain": [
       "<matplotlib.figure.Figure at 0x982f5c0>"
      ]
     },
     "metadata": {},
     "output_type": "display_data"
    }
   ],
   "source": [
    "print '一、国内生产总值（单位：百万雷亚尔,当前价格)'\n",
    "url1 = 'http://www.sidra.ibge.gov.br/api/values'\n",
    "url2 = '/t/1846/n1/1/c11255/all/p/last1/v/585/d/s/f/n/h/y'\n",
    "url = url1 + url2\n",
    "data = pd.read_json(url)\n",
    "data.replace('trimestre', 'quarter')\n",
    "\n",
    "data_nmrc = data.convert_objects(convert_numeric=True) #转换数据为数字\n",
    "\n",
    "import matplotlib.font_manager as fm\n",
    "myfont = fm.FontProperties(fname='C:/Windows/Fonts/simkai.ttf')\n",
    "\n",
    "plt.figure(figsize=(10, 6))\n",
    "plt.plot(data_nmrc['V'][1:5], 'r' )\n",
    "plt.xlabel('time')\n",
    "plt.ylabel('production')\n",
    "plt.title('brazil', fontproperties=myfont)\n",
    "plt.grid(True)"
   ]
  },
  {
   "cell_type": "code",
   "execution_count": 5,
   "metadata": {
    "collapsed": false
   },
   "outputs": [
    {
     "data": {
      "text/plain": [
       "datetime.datetime(2016, 9, 23, 0, 0)"
      ]
     },
     "execution_count": 5,
     "metadata": {},
     "output_type": "execute_result"
    }
   ],
   "source": [
    "import dateutil #引入时间解析库\n",
    "from dateutil.parser import parse\n",
    "dateutil.parser.parse('2016')\n"
   ]
  },
  {
   "cell_type": "code",
   "execution_count": 55,
   "metadata": {
    "collapsed": false,
    "scrolled": true
   },
   "outputs": [
    {
     "data": {
      "text/plain": [
       "D1N    unicode\n",
       "D2N    unicode\n",
       "D3N    unicode\n",
       "D4N    unicode\n",
       "MN     unicode\n",
       "dtype: object"
      ]
     },
     "execution_count": 55,
     "metadata": {},
     "output_type": "execute_result"
    }
   ],
   "source": [
    "types = data_nmrc.apply(lambda x: pd.lib.infer_dtype(x.values))\n",
    "types[types=='unicode']\n"
   ]
  },
  {
   "cell_type": "code",
   "execution_count": 53,
   "metadata": {
    "collapsed": false
   },
   "outputs": [
    {
     "data": {
      "text/plain": [
       "D1N         unicode\n",
       "D2N         unicode\n",
       "D3N         unicode\n",
       "D4N         unicode\n",
       "MN          unicode\n",
       "V          floating\n",
       "unicode      string\n",
       "dtype: object"
      ]
     },
     "execution_count": 53,
     "metadata": {},
     "output_type": "execute_result"
    }
   ],
   "source": [
    "for col in types[types=='unicode']:\n",
    "    data_nmrc[col] = data_nmrc[col].astype(str)\n",
    "data_nmrc.apply(lambda x: pd.lib.infer_dtype(x.values))"
   ]
  },
  {
   "cell_type": "code",
   "execution_count": 34,
   "metadata": {
    "collapsed": false
   },
   "outputs": [
    {
     "data": {
      "text/html": [
       "<div>\n",
       "<table border=\"1\" class=\"dataframe\">\n",
       "  <thead>\n",
       "    <tr style=\"text-align: right;\">\n",
       "      <th></th>\n",
       "      <th>D1N</th>\n",
       "      <th>D2N</th>\n",
       "      <th>D3N</th>\n",
       "      <th>D4N</th>\n",
       "      <th>MN</th>\n",
       "      <th>V</th>\n",
       "    </tr>\n",
       "  </thead>\n",
       "  <tbody>\n",
       "    <tr>\n",
       "      <th>0</th>\n",
       "      <td>Brasil</td>\n",
       "      <td>Setores e subsetores</td>\n",
       "      <td>Trimestre</td>\n",
       "      <td>Variável</td>\n",
       "      <td>Unidade de Medida</td>\n",
       "      <td>Valor</td>\n",
       "    </tr>\n",
       "    <tr>\n",
       "      <th>1</th>\n",
       "      <td>Brasil</td>\n",
       "      <td>Agropecuária - total</td>\n",
       "      <td>2º trimestre 2016</td>\n",
       "      <td>Valores a preços correntes</td>\n",
       "      <td>Milhões de Reais</td>\n",
       "      <td>90761</td>\n",
       "    </tr>\n",
       "    <tr>\n",
       "      <th>2</th>\n",
       "      <td>Brasil</td>\n",
       "      <td>Indústria - total</td>\n",
       "      <td>2º trimestre 2016</td>\n",
       "      <td>Valores a preços correntes</td>\n",
       "      <td>Milhões de Reais</td>\n",
       "      <td>281762</td>\n",
       "    </tr>\n",
       "    <tr>\n",
       "      <th>3</th>\n",
       "      <td>Brasil</td>\n",
       "      <td>Indústria extrativa</td>\n",
       "      <td>2º trimestre 2016</td>\n",
       "      <td>Valores a preços correntes</td>\n",
       "      <td>Milhões de Reais</td>\n",
       "      <td>12698</td>\n",
       "    </tr>\n",
       "    <tr>\n",
       "      <th>4</th>\n",
       "      <td>Brasil</td>\n",
       "      <td>Indústria de transformação</td>\n",
       "      <td>2º trimestre 2016</td>\n",
       "      <td>Valores a preços correntes</td>\n",
       "      <td>Milhões de Reais</td>\n",
       "      <td>149460</td>\n",
       "    </tr>\n",
       "    <tr>\n",
       "      <th>5</th>\n",
       "      <td>Brasil</td>\n",
       "      <td>Produção e distribuição de eletricidade e gás,...</td>\n",
       "      <td>2º trimestre 2016</td>\n",
       "      <td>Valores a preços correntes</td>\n",
       "      <td>Milhões de Reais</td>\n",
       "      <td>39723</td>\n",
       "    </tr>\n",
       "    <tr>\n",
       "      <th>6</th>\n",
       "      <td>Brasil</td>\n",
       "      <td>Construção</td>\n",
       "      <td>2º trimestre 2016</td>\n",
       "      <td>Valores a preços correntes</td>\n",
       "      <td>Milhões de Reais</td>\n",
       "      <td>79880</td>\n",
       "    </tr>\n",
       "    <tr>\n",
       "      <th>7</th>\n",
       "      <td>Brasil</td>\n",
       "      <td>Serviços - total</td>\n",
       "      <td>2º trimestre 2016</td>\n",
       "      <td>Valores a preços correntes</td>\n",
       "      <td>Milhões de Reais</td>\n",
       "      <td>945564</td>\n",
       "    </tr>\n",
       "    <tr>\n",
       "      <th>8</th>\n",
       "      <td>Brasil</td>\n",
       "      <td>Comércio</td>\n",
       "      <td>2º trimestre 2016</td>\n",
       "      <td>Valores a preços correntes</td>\n",
       "      <td>Milhões de Reais</td>\n",
       "      <td>155719</td>\n",
       "    </tr>\n",
       "    <tr>\n",
       "      <th>9</th>\n",
       "      <td>Brasil</td>\n",
       "      <td>Transporte, armazenagem e correio</td>\n",
       "      <td>2º trimestre 2016</td>\n",
       "      <td>Valores a preços correntes</td>\n",
       "      <td>Milhões de Reais</td>\n",
       "      <td>53780</td>\n",
       "    </tr>\n",
       "    <tr>\n",
       "      <th>10</th>\n",
       "      <td>Brasil</td>\n",
       "      <td>Serviços de informação</td>\n",
       "      <td>2º trimestre 2016</td>\n",
       "      <td>Valores a preços correntes</td>\n",
       "      <td>Milhões de Reais</td>\n",
       "      <td>38897</td>\n",
       "    </tr>\n",
       "    <tr>\n",
       "      <th>11</th>\n",
       "      <td>Brasil</td>\n",
       "      <td>Intermediação financeira, seguros, previdência...</td>\n",
       "      <td>2º trimestre 2016</td>\n",
       "      <td>Valores a preços correntes</td>\n",
       "      <td>Milhões de Reais</td>\n",
       "      <td>112341</td>\n",
       "    </tr>\n",
       "    <tr>\n",
       "      <th>12</th>\n",
       "      <td>Brasil</td>\n",
       "      <td>Atividades imobiliárias</td>\n",
       "      <td>2º trimestre 2016</td>\n",
       "      <td>Valores a preços correntes</td>\n",
       "      <td>Milhões de Reais</td>\n",
       "      <td>131591</td>\n",
       "    </tr>\n",
       "    <tr>\n",
       "      <th>13</th>\n",
       "      <td>Brasil</td>\n",
       "      <td>Outros serviços</td>\n",
       "      <td>2º trimestre 2016</td>\n",
       "      <td>Valores a preços correntes</td>\n",
       "      <td>Milhões de Reais</td>\n",
       "      <td>221537</td>\n",
       "    </tr>\n",
       "    <tr>\n",
       "      <th>14</th>\n",
       "      <td>Brasil</td>\n",
       "      <td>Administração, saúde e educação públicas e seg...</td>\n",
       "      <td>2º trimestre 2016</td>\n",
       "      <td>Valores a preços correntes</td>\n",
       "      <td>Milhões de Reais</td>\n",
       "      <td>231700</td>\n",
       "    </tr>\n",
       "    <tr>\n",
       "      <th>15</th>\n",
       "      <td>Brasil</td>\n",
       "      <td>Valor adicionado a preços básicos</td>\n",
       "      <td>2º trimestre 2016</td>\n",
       "      <td>Valores a preços correntes</td>\n",
       "      <td>Milhões de Reais</td>\n",
       "      <td>1318088</td>\n",
       "    </tr>\n",
       "    <tr>\n",
       "      <th>16</th>\n",
       "      <td>Brasil</td>\n",
       "      <td>Impostos líquidos sobre produtos</td>\n",
       "      <td>2º trimestre 2016</td>\n",
       "      <td>Valores a preços correntes</td>\n",
       "      <td>Milhões de Reais</td>\n",
       "      <td>212325</td>\n",
       "    </tr>\n",
       "    <tr>\n",
       "      <th>17</th>\n",
       "      <td>Brasil</td>\n",
       "      <td>PIB a preços de mercado</td>\n",
       "      <td>2º trimestre 2016</td>\n",
       "      <td>Valores a preços correntes</td>\n",
       "      <td>Milhões de Reais</td>\n",
       "      <td>1530413</td>\n",
       "    </tr>\n",
       "    <tr>\n",
       "      <th>18</th>\n",
       "      <td>Brasil</td>\n",
       "      <td>Despesa de consumo das famílias</td>\n",
       "      <td>2º trimestre 2016</td>\n",
       "      <td>Valores a preços correntes</td>\n",
       "      <td>Milhões de Reais</td>\n",
       "      <td>959971</td>\n",
       "    </tr>\n",
       "    <tr>\n",
       "      <th>19</th>\n",
       "      <td>Brasil</td>\n",
       "      <td>Despesa de consumo da administração pública</td>\n",
       "      <td>2º trimestre 2016</td>\n",
       "      <td>Valores a preços correntes</td>\n",
       "      <td>Milhões de Reais</td>\n",
       "      <td>307916</td>\n",
       "    </tr>\n",
       "    <tr>\n",
       "      <th>20</th>\n",
       "      <td>Brasil</td>\n",
       "      <td>Formação bruta de capital fixo</td>\n",
       "      <td>2º trimestre 2016</td>\n",
       "      <td>Valores a preços correntes</td>\n",
       "      <td>Milhões de Reais</td>\n",
       "      <td>256741</td>\n",
       "    </tr>\n",
       "    <tr>\n",
       "      <th>21</th>\n",
       "      <td>Brasil</td>\n",
       "      <td>Variação de estoque</td>\n",
       "      <td>2º trimestre 2016</td>\n",
       "      <td>Valores a preços correntes</td>\n",
       "      <td>Milhões de Reais</td>\n",
       "      <td>-8410</td>\n",
       "    </tr>\n",
       "    <tr>\n",
       "      <th>22</th>\n",
       "      <td>Brasil</td>\n",
       "      <td>Exportação de bens e serviços</td>\n",
       "      <td>2º trimestre 2016</td>\n",
       "      <td>Valores a preços correntes</td>\n",
       "      <td>Milhões de Reais</td>\n",
       "      <td>207435</td>\n",
       "    </tr>\n",
       "    <tr>\n",
       "      <th>23</th>\n",
       "      <td>Brasil</td>\n",
       "      <td>Importação de bens e serviços (-)</td>\n",
       "      <td>2º trimestre 2016</td>\n",
       "      <td>Valores a preços correntes</td>\n",
       "      <td>Milhões de Reais</td>\n",
       "      <td>193240</td>\n",
       "    </tr>\n",
       "  </tbody>\n",
       "</table>\n",
       "</div>"
      ],
      "text/plain": [
       "       D1N                                                D2N  \\\n",
       "0   Brasil                               Setores e subsetores   \n",
       "1   Brasil                               Agropecuária - total   \n",
       "2   Brasil                                  Indústria - total   \n",
       "3   Brasil                                Indústria extrativa   \n",
       "4   Brasil                         Indústria de transformação   \n",
       "5   Brasil  Produção e distribuição de eletricidade e gás,...   \n",
       "6   Brasil                                         Construção   \n",
       "7   Brasil                                   Serviços - total   \n",
       "8   Brasil                                           Comércio   \n",
       "9   Brasil                  Transporte, armazenagem e correio   \n",
       "10  Brasil                             Serviços de informação   \n",
       "11  Brasil  Intermediação financeira, seguros, previdência...   \n",
       "12  Brasil                            Atividades imobiliárias   \n",
       "13  Brasil                                    Outros serviços   \n",
       "14  Brasil  Administração, saúde e educação públicas e seg...   \n",
       "15  Brasil                  Valor adicionado a preços básicos   \n",
       "16  Brasil                   Impostos líquidos sobre produtos   \n",
       "17  Brasil                            PIB a preços de mercado   \n",
       "18  Brasil                    Despesa de consumo das famílias   \n",
       "19  Brasil        Despesa de consumo da administração pública   \n",
       "20  Brasil                     Formação bruta de capital fixo   \n",
       "21  Brasil                                Variação de estoque   \n",
       "22  Brasil                      Exportação de bens e serviços   \n",
       "23  Brasil                  Importação de bens e serviços (-)   \n",
       "\n",
       "                  D3N                         D4N                 MN        V  \n",
       "0           Trimestre                    Variável  Unidade de Medida    Valor  \n",
       "1   2º trimestre 2016  Valores a preços correntes   Milhões de Reais    90761  \n",
       "2   2º trimestre 2016  Valores a preços correntes   Milhões de Reais   281762  \n",
       "3   2º trimestre 2016  Valores a preços correntes   Milhões de Reais    12698  \n",
       "4   2º trimestre 2016  Valores a preços correntes   Milhões de Reais   149460  \n",
       "5   2º trimestre 2016  Valores a preços correntes   Milhões de Reais    39723  \n",
       "6   2º trimestre 2016  Valores a preços correntes   Milhões de Reais    79880  \n",
       "7   2º trimestre 2016  Valores a preços correntes   Milhões de Reais   945564  \n",
       "8   2º trimestre 2016  Valores a preços correntes   Milhões de Reais   155719  \n",
       "9   2º trimestre 2016  Valores a preços correntes   Milhões de Reais    53780  \n",
       "10  2º trimestre 2016  Valores a preços correntes   Milhões de Reais    38897  \n",
       "11  2º trimestre 2016  Valores a preços correntes   Milhões de Reais   112341  \n",
       "12  2º trimestre 2016  Valores a preços correntes   Milhões de Reais   131591  \n",
       "13  2º trimestre 2016  Valores a preços correntes   Milhões de Reais   221537  \n",
       "14  2º trimestre 2016  Valores a preços correntes   Milhões de Reais   231700  \n",
       "15  2º trimestre 2016  Valores a preços correntes   Milhões de Reais  1318088  \n",
       "16  2º trimestre 2016  Valores a preços correntes   Milhões de Reais   212325  \n",
       "17  2º trimestre 2016  Valores a preços correntes   Milhões de Reais  1530413  \n",
       "18  2º trimestre 2016  Valores a preços correntes   Milhões de Reais   959971  \n",
       "19  2º trimestre 2016  Valores a preços correntes   Milhões de Reais   307916  \n",
       "20  2º trimestre 2016  Valores a preços correntes   Milhões de Reais   256741  \n",
       "21  2º trimestre 2016  Valores a preços correntes   Milhões de Reais    -8410  \n",
       "22  2º trimestre 2016  Valores a preços correntes   Milhões de Reais   207435  \n",
       "23  2º trimestre 2016  Valores a preços correntes   Milhões de Reais   193240  "
      ]
     },
     "execution_count": 34,
     "metadata": {},
     "output_type": "execute_result"
    }
   ],
   "source": [
    "data1 = data.replace({\"u'Valores a pre\\xe7os correntes\":1})\n",
    "data1"
   ]
  },
  {
   "cell_type": "code",
   "execution_count": null,
   "metadata": {
    "collapsed": false
   },
   "outputs": [],
   "source": []
  },
  {
   "cell_type": "code",
   "execution_count": 27,
   "metadata": {
    "collapsed": false
   },
   "outputs": [
    {
     "data": {
      "text/html": [
       "<div>\n",
       "<table border=\"1\" class=\"dataframe\">\n",
       "  <thead>\n",
       "    <tr style=\"text-align: right;\">\n",
       "      <th></th>\n",
       "      <th>D1N</th>\n",
       "      <th>D2N</th>\n",
       "      <th>D3N</th>\n",
       "      <th>D4N</th>\n",
       "      <th>MN</th>\n",
       "      <th>V</th>\n",
       "    </tr>\n",
       "  </thead>\n",
       "  <tbody>\n",
       "    <tr>\n",
       "      <th>5</th>\n",
       "      <td>Brasil</td>\n",
       "      <td>Produção e distribuição de eletricidade e gás,...</td>\n",
       "      <td>2º trimestre 2016</td>\n",
       "      <td>Valores a preços correntes</td>\n",
       "      <td>Milhões de Reais</td>\n",
       "      <td>39723</td>\n",
       "    </tr>\n",
       "    <tr>\n",
       "      <th>6</th>\n",
       "      <td>Brasil</td>\n",
       "      <td>Construção</td>\n",
       "      <td>2º trimestre 2016</td>\n",
       "      <td>Valores a preços correntes</td>\n",
       "      <td>Milhões de Reais</td>\n",
       "      <td>79880</td>\n",
       "    </tr>\n",
       "    <tr>\n",
       "      <th>7</th>\n",
       "      <td>Brasil</td>\n",
       "      <td>Serviços - total</td>\n",
       "      <td>2º trimestre 2016</td>\n",
       "      <td>Valores a preços correntes</td>\n",
       "      <td>Milhões de Reais</td>\n",
       "      <td>945564</td>\n",
       "    </tr>\n",
       "    <tr>\n",
       "      <th>8</th>\n",
       "      <td>Brasil</td>\n",
       "      <td>Comércio</td>\n",
       "      <td>2º trimestre 2016</td>\n",
       "      <td>Valores a preços correntes</td>\n",
       "      <td>Milhões de Reais</td>\n",
       "      <td>155719</td>\n",
       "    </tr>\n",
       "  </tbody>\n",
       "</table>\n",
       "</div>"
      ],
      "text/plain": [
       "      D1N                                                D2N  \\\n",
       "5  Brasil  Produção e distribuição de eletricidade e gás,...   \n",
       "6  Brasil                                         Construção   \n",
       "7  Brasil                                   Serviços - total   \n",
       "8  Brasil                                           Comércio   \n",
       "\n",
       "                 D3N                         D4N                MN       V  \n",
       "5  2º trimestre 2016  Valores a preços correntes  Milhões de Reais   39723  \n",
       "6  2º trimestre 2016  Valores a preços correntes  Milhões de Reais   79880  \n",
       "7  2º trimestre 2016  Valores a preços correntes  Milhões de Reais  945564  \n",
       "8  2º trimestre 2016  Valores a preços correntes  Milhões de Reais  155719  "
      ]
     },
     "execution_count": 27,
     "metadata": {},
     "output_type": "execute_result"
    }
   ],
   "source": [
    "data[5:9]"
   ]
  },
  {
   "cell_type": "code",
   "execution_count": 20,
   "metadata": {
    "collapsed": false
   },
   "outputs": [
    {
     "name": "stdout",
     "output_type": "stream",
     "text": [
      "数据来源：巴西国家地理统计局\n"
     ]
    }
   ],
   "source": [
    "print '数据来源：巴西国家地理统计局'"
   ]
  },
  {
   "cell_type": "code",
   "execution_count": null,
   "metadata": {
    "collapsed": true
   },
   "outputs": [],
   "source": []
  },
  {
   "cell_type": "code",
   "execution_count": 7,
   "metadata": {
    "collapsed": false
   },
   "outputs": [
    {
     "name": "stdout",
     "output_type": "stream",
     "text": [
      "二、失业率\n"
     ]
    }
   ],
   "source": [
    "print '二、失业率'"
   ]
  },
  {
   "cell_type": "code",
   "execution_count": 9,
   "metadata": {
    "collapsed": false
   },
   "outputs": [
    {
     "name": "stdout",
     "output_type": "stream",
     "text": [
      "三、物价水平\n"
     ]
    }
   ],
   "source": [
    "print '三、物价水平'"
   ]
  },
  {
   "cell_type": "code",
   "execution_count": 10,
   "metadata": {
    "collapsed": false
   },
   "outputs": [
    {
     "name": "stdout",
     "output_type": "stream",
     "text": [
      "四、汇率\n"
     ]
    }
   ],
   "source": [
    "print '四、汇率'"
   ]
  },
  {
   "cell_type": "code",
   "execution_count": 11,
   "metadata": {
    "collapsed": false
   },
   "outputs": [
    {
     "name": "stdout",
     "output_type": "stream",
     "text": [
      "五、大宗产品价格\n"
     ]
    }
   ],
   "source": [
    "print '五、大宗产品价格'"
   ]
  },
  {
   "cell_type": "markdown",
   "metadata": {
    "collapsed": true
   },
   "source": [
    "粮食产量\n",
    "石油产量\n",
    "糖产量\n",
    "价格\n"
   ]
  },
  {
   "cell_type": "code",
   "execution_count": null,
   "metadata": {
    "collapsed": true
   },
   "outputs": [],
   "source": []
  },
  {
   "cell_type": "code",
   "execution_count": null,
   "metadata": {
    "collapsed": true
   },
   "outputs": [],
   "source": []
  }
 ],
 "metadata": {
  "anaconda-cloud": {},
  "kernelspec": {
   "display_name": "Python [Root]",
   "language": "python",
   "name": "Python [Root]"
  },
  "language_info": {
   "codemirror_mode": {
    "name": "ipython",
    "version": 2
   },
   "file_extension": ".py",
   "mimetype": "text/x-python",
   "name": "python",
   "nbconvert_exporter": "python",
   "pygments_lexer": "ipython2",
   "version": "2.7.11"
  }
 },
 "nbformat": 4,
 "nbformat_minor": 0
}
