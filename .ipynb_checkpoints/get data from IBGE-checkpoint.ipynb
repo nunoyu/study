{
 "cells": [
  {
   "cell_type": "code",
   "execution_count": 31,
   "metadata": {
    "collapsed": true
   },
   "outputs": [],
   "source": [
    "import numpy as np\n",
    "import pandas as pd\n",
    "import matplotlib as mpl\n",
    "import matplotlib.pyplot as plt \n",
    "import urllib \n",
    "from urllib import urlretrieve\n",
    "import warnings; warnings.simplefilter('ignore') \n",
    "%matplotlib inline"
   ]
  },
  {
   "cell_type": "markdown",
   "metadata": {},
   "source": [
    "Banco Sidra\n",
    "Parte constante da URL: http://www.sidra.ibge.gov.br/api/values \n",
    "Parte variável da URL: uma sequência de /<tipo de parâmetro>/<valor do parâmetro>\n",
    "\n",
    "Tipos de parâmetro para extração de dados:\n",
    "\n",
    "Os diferentes tipos de parâmetro definem a tabela e suas dimensões (períodos, variáveis, unidades territoriais e classificações/categorias) a serem consultadas.\n",
    "Os parâmetros que definem as unidades territoriais podem ser utilizados mais de uma vez, permitindo a consulta de unidades territoriais de níveis territoriais distintos.\n",
    "Os parâmetros que definem as classificações/categorias variam de acordo com a tabela, até um máximo de 6.\n",
    "Portanto, uma tabela Sidra pode ter no máximo 9 dimensões: 3 dimensões obrigatórias (períodos, variáveis e unidades territoriais) e até 6 classificações/categorias.\n",
    "\n",
    "t – para especificar o código da tabela de onde se deseja extrair os dados.\n",
    "\n",
    "Exemplo: /t/1612\n",
    "\n",
    "p – para especificar os períodos (meses, anos etc.) desejados.\n",
    "\n",
    "Os períodos podem ser especificados de forma avulsa, separados por vírgula (,), em faixas, separados por traço (-), ou de ambas as formas\n",
    "Um período pode ter o formato AAAA, de 4 dígitos, que representa um ano, ou o formato AAAADD, de 6 dígitos, onde AAAA representa um ano e DD seu correspondente mês (01 a 12), trimestre (01 a 04), semestre (01 a 02), etc, de acordo com a periodicidade de divulgação dos dados da tabela.\n",
    "\n",
    "Exemplo 1: /p/2008,2010-2012 – especifica os anos de 2008, e 2010 a 2012.\n",
    "\n",
    "Exemplo 2: /p/201101-201112,201204,201208 – especifica os meses de janeiro a dezembro de 2012, abril de 2012 e agosto de 2012.\n",
    "\n",
    "O parâmetro p pode ser seguido pela constante all para especificar todos os períodos disponíveis.\n",
    "\n",
    "Exemplo 3: /p/all\n",
    "\n",
    "O parâmetro p pode ser seguido pela constante first e um número de períodos, indicando os primeiros períodos da lista de períodos disponíveis (períodos mais antigos).\n",
    "O número de períodos pode ser omitido quando se tratar de apenas um aperíodo.\n",
    "\n",
    "Exemplo 4: /p/first 12\n",
    "\n",
    "Exemplo 5: /p/first\n",
    "\n",
    "O parâmetro p pode ser seguido pela constante last e um número de períodos, indicando os últimos períodos da série (períodos mais recentes).\n",
    "O número de períodos pode ser omitido quando se tratar de apenas um período.\n",
    "\n",
    "Exemplo 6: /p/last 12\n",
    "\n",
    "Exemplo 7: /p/last\n",
    "\n",
    "v – para especificar as variáveis desejadas.\n",
    "\n",
    "As variáveis são especificadas através de seus códigos, separados por vírgula (,).\n",
    "\n",
    "Exemplo 1: /v/63,69 – especifica o percentual no mês e o percentual acumulado no ano do IPCA.\n",
    "\n",
    "O parâmetro v pode ser seguido pela constante all para especificar todas as variáveis da tabela, inclusive as variáveis de percentual geradas automaticamente pelo Sidra.\n",
    "\n",
    "Exemplo 2: /v/all\n",
    "\n",
    "O parâmetro v pode ser seguido pela constante allxp para especificar todas as variáveis da tabela, exceto as variáveis de percentual geradas automaticamente pelo Sidra.\n",
    "\n",
    "Exemplo 3: /v/allxp\n",
    "\n",
    "n<nível territorial> – para especificar os níveis territoriais e suas unidades territoriais desejadas.\n",
    "Pode ser especificado mais de uma vez, para informar unidades territoriais de níveis distintos.\n",
    "\n",
    "<nível territorial> informa o código de um dos níveis territoriais onde existem dados disponíveis para a tabela.\n",
    "Como exemplos, temos n1 – Brasil, n2 – Grande Região, n3 – Unidade da Federação, n6 – Município, etc.\n",
    "\n",
    "As unidades territoriais são especificadas através de seus códigos IBGE, separadas por vírgula (,).\n",
    "\n",
    "Exemplo 1: /n6/3304557,3550308 – especifica os municípios do Rio de Janeiro e São Paulo.\n",
    "\n",
    "O parâmetro n<nível territorial> pode ser seguido pela constante all para especificar todas as unidades territoriais disponíveis na tabela.\n",
    "\n",
    "Exemplo 2: /n6/all – especifica todos os municípios.\n",
    "\n",
    "O parâmetro n<nível territorial> pode ser seguido pela constante in seguida por n<nível territorial superior> e <códigos IBGE de unidades territoriais superiores, separados por vírgula (,)> para especificar todas as unidades territoriais contidas em unidades territoriais superiores de um nível territorial superior.\n",
    "\n",
    "Exemplo 3: /n6/in n3 11,12 - especifica os municípios contidos nas Unidades da Federação Rondônia e Acre.\n",
    "\n",
    "Exemplo 4: /n3/in n2 3,4 – especifica as Unidades da Federação contidas nas Grandes Regiões Sudeste e Sul.\n",
    "\n",
    "Exemplo 5: /n1/1/n2/1/n3/in n2 1 – especifica Brasil (n1/1) seguido pela Grande Região Norte (n2/1) e pelas Unidades da Federação contidas na Grandes Região Norte.\n",
    "\n",
    "c<classificação> – para especificar as classificações da tabela e suas categorias desejadas.\n",
    "Se alguma das classificações da tabela for omitida, será assumida a categoria 'Total'.\n",
    "\n",
    "<classificação> informa o código de uma das classificações da tabela.\n",
    "Como exemplos, temos c1 – Situação do domicílio, c2 – Sexo, c81 – Produto da lavoura temporária, etc.\n",
    "\n",
    "As categorias são especificadas através de seus códigos, de forma individual ou para compor uma soma, separadas por vírgula (,).\n",
    "As categorias que compõem a soma devem ser separadas por espaço.\n",
    "\n",
    "Exemplo 1: /c81/2692,2702,2694 2695 – especifica os produtos da lavoura temporária arroz, feijão e (batata doce + batata inglesa)\n",
    "\n",
    "O parâmetro c<classificação> pode ser seguido pela constante all para especificar todas as categorias disponíveis, inclusive a que representa o total.\n",
    "\n",
    "Exemplo 2: /c81/all – especifica todos os produtos da lavoura temporária\n",
    "\n",
    "O parâmetro c<classificação> pode ser seguido pela constante allxt para especificar todas as categorias disponíveis, exceto a que representa o total.\n",
    "\n",
    "Exemplo 3: /c81/allxt – especifica todos os produtos da lavoura temporária, exceto a categoria 'Total'.\n",
    "\n",
    "\n",
    "Tipos de parâmetro para formatação de dados:\n",
    "\n",
    "Além dos parâmetros para extração de dados anteriormente citados existem alguns parâmetros que permitem definir como os dados em formato JSON recebidos serão formatados.\n",
    "\n",
    "f – para especificar a formatação do resultado, i.e., que tipo de descritor de cada uma das dimensões da tabela comporá o resultado recebido.\n",
    "Cada um dos diferentes descritores (metadados) permite identificar um valor recebido.\n",
    "\n",
    "Especifique /f/c para receber apenas os códigos dos descritores.\n",
    "Especifique /f/n para receber apenas os nomes dos descritores.\n",
    "Especifique /f/u para receber o código e o nome das unidades terrritoriais consultadas e o nome dos demais descritores.\n",
    "Especifique /f/a para receber os códigos e os nomes dos descritores (valor default, caso o parâmetro f não seja especificado).\n",
    "\n",
    "d – para especificar com quantas casas decimais serão formatados os valores.\n",
    "\n",
    "Especifique /d/s para formatar os valores com o nro. de casas decimais padrão definido pelo Sidra para cada variável.\n",
    "Especifique /d/m para formatar os valores com o nro. de casas decimais máximo disponível para cada variável (maior precisão).\n",
    "Especifique /d/0 a /d/9 para formatar os valores com um nro. fixo de casas decimais, entre 0 e 9.\n",
    "\n",
    "h – para especificar se o resultado recebido será precedido por um registro de cabeçalho (header).\n",
    "O registro de header permite identificar o código e/ou o nome de cada uma das dimensões da tabela que compõem o resultado recebido.\n",
    "\n",
    "Especifique /h/y para receber o header (valor default, caso o parâmetro h não seja especificado).\n",
    "Especifique /h/n para não receber o header.\n",
    "\n",
    "类别查询： http://api.sidra.ibge.gov.br/\n"
   ]
  },
  {
   "cell_type": "code",
   "execution_count": 32,
   "metadata": {
    "collapsed": false
   },
   "outputs": [],
   "source": [
    "url1 = 'http://www.sidra.ibge.gov.br/api/values'\n",
    "url2 = '/t/1612/n1/1/c81/216/p/last/v/allxp/f/c/h/n' # t:表格编号,n:地域、c:classification分类、p:时期、v:变量、f:是否包含列编码和名称;d:数据小数点儿数h:是否有header\n",
    "url = url1 + url2"
   ]
  },
  {
   "cell_type": "code",
   "execution_count": 33,
   "metadata": {
    "collapsed": false
   },
   "outputs": [],
   "source": [
    "data = pd.read_json(url)"
   ]
  },
  {
   "cell_type": "code",
   "execution_count": 34,
   "metadata": {
    "collapsed": false
   },
   "outputs": [
    {
     "data": {
      "text/plain": [
       "pandas.core.frame.DataFrame"
      ]
     },
     "execution_count": 34,
     "metadata": {},
     "output_type": "execute_result"
    }
   ],
   "source": [
    "type(data)"
   ]
  },
  {
   "cell_type": "code",
   "execution_count": 35,
   "metadata": {
    "collapsed": false
   },
   "outputs": [
    {
     "data": {
      "text/html": [
       "<div>\n",
       "<table border=\"1\" class=\"dataframe\">\n",
       "  <thead>\n",
       "    <tr style=\"text-align: right;\">\n",
       "      <th></th>\n",
       "      <th>D1C</th>\n",
       "      <th>D2C</th>\n",
       "      <th>D3C</th>\n",
       "      <th>D4C</th>\n",
       "      <th>MC</th>\n",
       "      <th>V</th>\n",
       "    </tr>\n",
       "  </thead>\n",
       "  <tbody>\n",
       "    <tr>\n",
       "      <th>0</th>\n",
       "      <td>1</td>\n",
       "      <td>216</td>\n",
       "      <td>2014</td>\n",
       "      <td>109</td>\n",
       "      <td>1006</td>\n",
       "      <td>...</td>\n",
       "    </tr>\n",
       "    <tr>\n",
       "      <th>1</th>\n",
       "      <td>1</td>\n",
       "      <td>216</td>\n",
       "      <td>2014</td>\n",
       "      <td>216</td>\n",
       "      <td>1006</td>\n",
       "      <td>...</td>\n",
       "    </tr>\n",
       "    <tr>\n",
       "      <th>2</th>\n",
       "      <td>1</td>\n",
       "      <td>216</td>\n",
       "      <td>2014</td>\n",
       "      <td>214</td>\n",
       "      <td>1017</td>\n",
       "      <td>...</td>\n",
       "    </tr>\n",
       "    <tr>\n",
       "      <th>3</th>\n",
       "      <td>1</td>\n",
       "      <td>216</td>\n",
       "      <td>2014</td>\n",
       "      <td>112</td>\n",
       "      <td>33</td>\n",
       "      <td>...</td>\n",
       "    </tr>\n",
       "    <tr>\n",
       "      <th>4</th>\n",
       "      <td>1</td>\n",
       "      <td>216</td>\n",
       "      <td>2014</td>\n",
       "      <td>215</td>\n",
       "      <td>40</td>\n",
       "      <td>...</td>\n",
       "    </tr>\n",
       "  </tbody>\n",
       "</table>\n",
       "</div>"
      ],
      "text/plain": [
       "   D1C  D2C   D3C  D4C    MC    V\n",
       "0    1  216  2014  109  1006  ...\n",
       "1    1  216  2014  216  1006  ...\n",
       "2    1  216  2014  214  1017  ...\n",
       "3    1  216  2014  112    33  ...\n",
       "4    1  216  2014  215    40  ..."
      ]
     },
     "execution_count": 35,
     "metadata": {},
     "output_type": "execute_result"
    }
   ],
   "source": [
    "data\n"
   ]
  },
  {
   "cell_type": "code",
   "execution_count": 53,
   "metadata": {
    "collapsed": false
   },
   "outputs": [],
   "source": [
    "url1 = 'http://www.sidra.ibge.gov.br/api/values'\n",
    "url2 = '/t/1419/n7/7/p/last12/v/69/c315/7170/d/s/f/n/h/y' #使用f/c可以调用v-variaveis的编码，但是classifications的怎么调用呢？\n",
    "url = url1 + url2\n",
    "data1 = pd.read_json(url)\n",
    "data2 = data1.convert_objects(convert_numeric=True)\n"
   ]
  },
  {
   "cell_type": "code",
   "execution_count": 54,
   "metadata": {
    "collapsed": false
   },
   "outputs": [
    {
     "data": {
      "image/png": "[encoded data removed]",
      "text/plain": [
       "<matplotlib.figure.Figure at 0xa2a9908>"
      ]
     },
     "metadata": {},
     "output_type": "display_data"
    }
   ],
   "source": [
    "data2['V'].plot(style='b', figsize=(8,5))\n",
    "plt.grid(True)"
   ]
  },
  {
   "cell_type": "code",
   "execution_count": null,
   "metadata": {
    "collapsed": true
   },
   "outputs": [],
   "source": []
  }
 ],
 "metadata": {
  "anaconda-cloud": {},
  "kernelspec": {
   "display_name": "Python [Root]",
   "language": "python",
   "name": "Python [Root]"
  },
  "language_info": {
   "codemirror_mode": {
    "name": "ipython",
    "version": 2
   },
   "file_extension": ".py",
   "mimetype": "text/x-python",
   "name": "python",
   "nbconvert_exporter": "python",
   "pygments_lexer": "ipython2",
   "version": "2.7.11"
  }
 },
 "nbformat": 4,
 "nbformat_minor": 0
}
