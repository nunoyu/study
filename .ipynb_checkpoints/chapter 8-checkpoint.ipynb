{
 "cells": [
  {
   "cell_type": "code",
   "execution_count": 3,
   "metadata": {
    "collapsed": false
   },
   "outputs": [],
   "source": [
    "#建立一个测试函数性能的函数，核心是repeat\n",
    "def perf_comp_data(func_list, data_list, rep=3, number=1):\n",
    "    '''function to compare performance of different functions\n",
    "    parameters\n",
    "    ============\n",
    "    func_list : list\n",
    "        list with function names as strings\n",
    "    data_list: list\n",
    "        list with data names as strings\n",
    "    rep : int\n",
    "        number of repetition of the whole comparation \n",
    "    numb : int\n",
    "        the number of executions for every funtion    \n",
    "    \n",
    "    '''\n",
    "    from timeit import repeat \n",
    "    res_list = {} #定义一个字典文件\n",
    "    for name in enumerate(func_list): #同时遍历程序列表中索引和程序名,返回enumerate object。[0]=索引，[1]=内容\n",
    "        stmt = name[1] + '(' +  data_list[name[0]] + ')'\n",
    "        setup = \"from __main__ import \" + name[1] + ', ' \\\n",
    "                                    + data_list[name[0]]\n",
    "        results = repeat(stmt=stmt, setup=setup, \n",
    "                         repeat=rep, number=number) #stmt代表计算公式， setup引入必要公式和数据。参数名为repeat, 不是rep\n",
    "        res_list[name[1]] = sum(results) / rep #将平均结果储存到字典文件\n",
    "    res_sort = sorted(res_list.items(), \n",
    "                      key=lambda x: (x[1], x[0])) #按表现排名\n",
    "#打印输出结果\n",
    "    for item in res_sort:\n",
    "        rel = item[1] / res_sort[0][1]\n",
    "        print ('function ' + item[0] + ', av. time sec: %9.5f' %item[1] + 'relative: %6.5f' % rel) #字符串内传值  "
   ]
  },
  {
   "cell_type": "code",
   "execution_count": 4,
   "metadata": {
    "collapsed": true
   },
   "outputs": [],
   "source": [
    "from math import * #引入math的所有方法\n",
    "def f(x):\n",
    "    return abs(cos(x)) ** 0.5 + sin(2 + 3 * x) \n",
    "I = 500000\n",
    "a_py = range(I)"
   ]
  },
  {
   "cell_type": "code",
   "execution_count": null,
   "metadata": {
    "collapsed": true
   },
   "outputs": [],
   "source": []
  },
  {
   "cell_type": "code",
   "execution_count": 5,
   "metadata": {
    "collapsed": false
   },
   "outputs": [],
   "source": [
    "def f1(a):\n",
    "    res = []\n",
    "    for x in a:\n",
    "        res.append(f(x))\n",
    "    return res\n"
   ]
  },
  {
   "cell_type": "code",
   "execution_count": 6,
   "metadata": {
    "collapsed": true
   },
   "outputs": [],
   "source": [
    "def f2(a):\n",
    "    return [f(x) for x in a]"
   ]
  },
  {
   "cell_type": "code",
   "execution_count": 7,
   "metadata": {
    "collapsed": true
   },
   "outputs": [],
   "source": [
    "def f3(a):\n",
    "    ex = 'abs(cos(x) )** 0.5 + sin(2 + 3 * x)' #字符会的表达式\n",
    "    return[eval(ex) for x in a] #eval函数会重新运算求出参数的内容，是一个可以将字符串参数转换成表达式的函数。"
   ]
  },
  {
   "cell_type": "code",
   "execution_count": 8,
   "metadata": {
    "collapsed": true
   },
   "outputs": [],
   "source": [
    "import numpy as np\n",
    "a_np = np.arange(I)"
   ]
  },
  {
   "cell_type": "code",
   "execution_count": 9,
   "metadata": {
    "collapsed": true
   },
   "outputs": [],
   "source": [
    "def f4(a):\n",
    "    return(np.abs(np.cos(a)) ** 0.5 + np.sin(2 + 3 * a)) #a本身是循环，所有的循环再np内部进行，不需要for 迭代"
   ]
  },
  {
   "cell_type": "code",
   "execution_count": 10,
   "metadata": {
    "collapsed": true
   },
   "outputs": [],
   "source": [
    "import numexpr as ne #计算表达式，高级库，不需要for迭代\n",
    "def f5(a):\n",
    "    ex = 'abs(cos(a)) ** 0.5 + sin(2 + 3 * a)'\n",
    "    ne.set_num_threads(1) #单线程\n",
    "    return ne.evaluate(ex) #不需要for 循环"
   ]
  },
  {
   "cell_type": "code",
   "execution_count": 11,
   "metadata": {
    "collapsed": true
   },
   "outputs": [],
   "source": [
    "def f6(a):\n",
    "    ex = 'abs(cos(a)) ** 0.5 + sin(2 + 3 * a)'\n",
    "    ne.set_num_threads(16) #多线程\n",
    "    return ne.evaluate(ex) #不需要for 循环"
   ]
  },
  {
   "cell_type": "code",
   "execution_count": 12,
   "metadata": {
    "collapsed": false
   },
   "outputs": [
    {
     "name": "stdout",
     "output_type": "stream",
     "text": [
      "Wall time: 8.61 s\n"
     ]
    }
   ],
   "source": [
    "%%time \n",
    "r1 = f1(a_py) #对于标准的python，参数为a_py\n",
    "r2 = f2(a_py)\n",
    "r3 = f3(a_py)\n",
    "r4 = f4(a_np) #对于高级的库，例如numpy，numexpr等，其迭代在内部进行，其参数为np的数组\n",
    "r5 = f5(a_np)\n",
    "r6 = f6(a_np)"
   ]
  },
  {
   "cell_type": "code",
   "execution_count": 13,
   "metadata": {
    "collapsed": false
   },
   "outputs": [
    {
     "data": {
      "text/plain": [
       "True"
      ]
     },
     "execution_count": 13,
     "metadata": {},
     "output_type": "execute_result"
    }
   ],
   "source": [
    "np.allclose(r1,r2) #验证各计算结果是否一致"
   ]
  },
  {
   "cell_type": "code",
   "execution_count": 14,
   "metadata": {
    "collapsed": false
   },
   "outputs": [
    {
     "data": {
      "text/plain": [
       "True"
      ]
     },
     "execution_count": 14,
     "metadata": {},
     "output_type": "execute_result"
    }
   ],
   "source": [
    "np.allclose(r1,r6)"
   ]
  },
  {
   "cell_type": "code",
   "execution_count": 15,
   "metadata": {
    "collapsed": true
   },
   "outputs": [],
   "source": [
    "func_list = ['f1','f2','f3','f4','f5','f6',] #命令：直接把6个方程极其参数都传递给比较方程\n",
    "data_list = ['a_py','a_py','a_py','a_np','a_np','a_np',]"
   ]
  },
  {
   "cell_type": "code",
   "execution_count": 16,
   "metadata": {
    "collapsed": false
   },
   "outputs": [
    {
     "name": "stdout",
     "output_type": "stream",
     "text": [
      "function f5, av. time sec:   0.00953relative: 1.00000\n",
      "function f6, av. time sec:   0.01381relative: 1.44940\n",
      "function f4, av. time sec:   0.03790relative: 3.97817\n",
      "function f2, av. time sec:   0.28415relative: 29.82498\n",
      "function f1, av. time sec:   0.31035relative: 32.57464\n",
      "function f3, av. time sec:   7.72103relative: 810.41030\n"
     ]
    },
    {
     "data": {
      "text/plain": [
       "'\\n\\xe9\\xab\\x98\\xe7\\xba\\xa7\\xe5\\xba\\x93\\xef\\xbc\\x8c\\xe5\\xa4\\x9a\\xe7\\xba\\xbf\\xe7\\xa8\\x8b\\xe7\\x9a\\x84\\xe6\\x96\\xb9\\xe6\\xb3\\x95\\xe8\\xbf\\x90\\xe7\\xae\\x97\\xe6\\x9b\\xb4\\xe5\\xbf\\xab\\npython\\xe5\\x86\\x85\\xe7\\x9a\\x84\\xe8\\xbf\\xad\\xe4\\xbb\\xa3\\xe6\\x9c\\x80\\xe6\\x85\\xa2\\n'"
      ]
     },
     "execution_count": 16,
     "metadata": {},
     "output_type": "execute_result"
    }
   ],
   "source": [
    "perf_comp_data(func_list, data_list)\n",
    "'''\n",
    "高级库，多线程的方法运算更快\n",
    "python内的迭代最慢\n",
    "'''"
   ]
  },
  {
   "cell_type": "code",
   "execution_count": 17,
   "metadata": {
    "collapsed": false
   },
   "outputs": [],
   "source": [
    "#numpy可以设定数据在硬盘的类型，以及分布：layout，其运算效率迥异， order决定数据的顺序：C或者Fortran公式翻译程式语言（formula translator）\n",
    "# order='C'或者order='F', C方式排列是以行为基础 rowwise，各行相临"
   ]
  },
  {
   "cell_type": "code",
   "execution_count": 18,
   "metadata": {
    "collapsed": false
   },
   "outputs": [
    {
     "data": {
      "text/plain": [
       "array([[ 0.,  0.,  0.],\n",
       "       [ 0.,  0.,  0.],\n",
       "       [ 0.,  0.,  0.]])"
      ]
     },
     "execution_count": 18,
     "metadata": {},
     "output_type": "execute_result"
    }
   ],
   "source": [
    "np.zeros((3,3), dtype=np.float64, order='C') #定义数据类型，以及数据结构，采用类似C语言的数据"
   ]
  },
  {
   "cell_type": "code",
   "execution_count": 19,
   "metadata": {
    "collapsed": false
   },
   "outputs": [],
   "source": [
    "x = np.random.standard_normal((3,1500000))\n",
    "C = np.array(x, order='C')\n",
    "F = np.array(x, order='F')\n",
    "x = 0.0 #清除内存\n",
    "#两个方向的轴计算速度差一倍"
   ]
  },
  {
   "cell_type": "code",
   "execution_count": 20,
   "metadata": {
    "collapsed": false
   },
   "outputs": [
    {
     "name": "stdout",
     "output_type": "stream",
     "text": [
      "Wall time: 10 ms\n"
     ]
    },
    {
     "data": {
      "text/plain": [
       "array([-0.16429151, -0.65327536,  1.89036048, ..., -0.91162592,\n",
       "        0.19638852, -1.42898798])"
      ]
     },
     "execution_count": 20,
     "metadata": {},
     "output_type": "execute_result"
    }
   ],
   "source": [
    "%time C.sum(axis=0)"
   ]
  },
  {
   "cell_type": "code",
   "execution_count": 21,
   "metadata": {
    "collapsed": false
   },
   "outputs": [
    {
     "name": "stdout",
     "output_type": "stream",
     "text": [
      "Wall time: 0 ns\n"
     ]
    },
    {
     "data": {
      "text/plain": [
       "array([ 1210.29936669,   -65.4055066 ,  -180.15359905])"
      ]
     },
     "execution_count": 21,
     "metadata": {},
     "output_type": "execute_result"
    }
   ],
   "source": [
    "%time C.sum(axis=1)"
   ]
  },
  {
   "cell_type": "code",
   "execution_count": 22,
   "metadata": {
    "collapsed": false
   },
   "outputs": [
    {
     "name": "stdout",
     "output_type": "stream",
     "text": [
      "Wall time: 49 ms\n"
     ]
    },
    {
     "data": {
      "text/plain": [
       "array([ 0.94216759,  0.90911186,  0.44607671, ...,  0.32594776,\n",
       "        0.37287963,  0.15474246])"
      ]
     },
     "execution_count": 22,
     "metadata": {},
     "output_type": "execute_result"
    }
   ],
   "source": [
    "%time C.std(axis=0)"
   ]
  },
  {
   "cell_type": "code",
   "execution_count": 23,
   "metadata": {
    "collapsed": false
   },
   "outputs": [
    {
     "name": "stdout",
     "output_type": "stream",
     "text": [
      "Wall time: 39 ms\n"
     ]
    },
    {
     "data": {
      "text/plain": [
       "array([ 0.99995371,  1.00092986,  1.00036257])"
      ]
     },
     "execution_count": 23,
     "metadata": {},
     "output_type": "execute_result"
    }
   ],
   "source": [
    "%time C.std(axis=1)\n",
    "#计算标准差的表现也是axis=1更快"
   ]
  },
  {
   "cell_type": "code",
   "execution_count": 24,
   "metadata": {
    "collapsed": true
   },
   "outputs": [],
   "source": [
    "#F顺序的数组，整体慢，两个方向计算得差不多。"
   ]
  },
  {
   "cell_type": "code",
   "execution_count": 25,
   "metadata": {
    "collapsed": false
   },
   "outputs": [
    {
     "name": "stdout",
     "output_type": "stream",
     "text": [
      "Wall time: 16 ms\n"
     ]
    },
    {
     "data": {
      "text/plain": [
       "array([-0.16429151, -0.65327536,  1.89036048, ..., -0.91162592,\n",
       "        0.19638852, -1.42898798])"
      ]
     },
     "execution_count": 25,
     "metadata": {},
     "output_type": "execute_result"
    }
   ],
   "source": [
    "%time F.sum(axis=0)"
   ]
  },
  {
   "cell_type": "code",
   "execution_count": 26,
   "metadata": {
    "collapsed": false
   },
   "outputs": [
    {
     "name": "stdout",
     "output_type": "stream",
     "text": [
      "Wall time: 25 ms\n"
     ]
    },
    {
     "data": {
      "text/plain": [
       "array([ 1210.29936669,   -65.4055066 ,  -180.15359905])"
      ]
     },
     "execution_count": 26,
     "metadata": {},
     "output_type": "execute_result"
    }
   ],
   "source": [
    "%time F.sum(axis=1)"
   ]
  },
  {
   "cell_type": "code",
   "execution_count": 27,
   "metadata": {
    "collapsed": false
   },
   "outputs": [
    {
     "name": "stdout",
     "output_type": "stream",
     "text": [
      "Wall time: 109 ms\n"
     ]
    },
    {
     "data": {
      "text/plain": [
       "array([ 0.94216759,  0.90911186,  0.44607671, ...,  0.32594776,\n",
       "        0.37287963,  0.15474246])"
      ]
     },
     "execution_count": 27,
     "metadata": {},
     "output_type": "execute_result"
    }
   ],
   "source": [
    "%time F.std(axis=0)"
   ]
  },
  {
   "cell_type": "code",
   "execution_count": 28,
   "metadata": {
    "collapsed": false
   },
   "outputs": [
    {
     "name": "stdout",
     "output_type": "stream",
     "text": [
      "Wall time: 75 ms\n"
     ]
    },
    {
     "data": {
      "text/plain": [
       "array([ 0.99995371,  1.00092986,  1.00036257])"
      ]
     },
     "execution_count": 28,
     "metadata": {},
     "output_type": "execute_result"
    }
   ],
   "source": [
    "%time F.std(axis=1)"
   ]
  },
  {
   "cell_type": "code",
   "execution_count": 29,
   "metadata": {
    "collapsed": true
   },
   "outputs": [],
   "source": [
    "# parallel ipython自带的多线程计算库"
   ]
  },
  {
   "cell_type": "code",
   "execution_count": 30,
   "metadata": {
    "collapsed": false
   },
   "outputs": [],
   "source": [
    "def bsm_mcs_valuation(strike):\n",
    "    '''Dynamic Black-Scholes-Merton Monte Carlo estimator for European calls.\n",
    "    Parameters\n",
    "    ==========\n",
    "    strike : float\n",
    "    strike price of the option\n",
    "    \n",
    "    Results\n",
    "    =======\n",
    "    value : float\n",
    "    estimate for present value of call option\n",
    "    '''\n",
    "    import numpy as np\n",
    "    S0 = 100.\n",
    "    T = 1.0 \n",
    "    r = 0.05\n",
    "    vola = 0.2\n",
    "    M = 50 #分成50步，属于将微分离散的方法\n",
    "    I = 20000\n",
    "    dt = T / M #将周期分成50步，类似微积分\n",
    "    rand = np.random.standard_normal((M + 1, I)) #51行，代表模拟50步，2万列，每列代表一个模拟值\n",
    "    S = np.zeros((M + 1, I)) #建立多维数组用于储存模拟结果\n",
    "    S[0] = S0 #每条路径的S初始值都是S0\n",
    "    for t in range(1, M+1):#从1到51，遍历一遍\n",
    "        S[t] = S[t-1] * np.exp((r - 0.5 * vola ** 2) * dt\n",
    "                               + vola * np.sqrt(dt) * rand[t]) #每一期的值都源自上一期. rand模拟风险因素变动\n",
    "    value =  (np.exp(-r * T) * np.sum(np.maximum(S[-1]-strike, 0)) / I) #行权时的期权价格求均值后贴现到现在。该句要在迭代外\n",
    "    return value #返回一个数值，而不是一组数值   \n",
    "    "
   ]
  },
  {
   "cell_type": "code",
   "execution_count": 31,
   "metadata": {
    "collapsed": true
   },
   "outputs": [],
   "source": [
    "def seq_value(n):\n",
    "    '''建立用顺序方法对期权进行估值的函数， n代表行权价格的数量\n",
    "    Parameters\n",
    "    ==========\n",
    "    n : int\n",
    "        number of options valuations / strikes\n",
    "    '''\n",
    "    strikes = np.linspace(80, 120, n) #分为n份，行权价格介于80和120之间\n",
    "    option_values = [] #将估值结果储存在lis中\n",
    "    for strike in strikes:\n",
    "        option_values.append(bsm_mcs_valuation(strike))\n",
    "    return strikes, option_values"
   ]
  },
  {
   "cell_type": "code",
   "execution_count": 32,
   "metadata": {
    "collapsed": false
   },
   "outputs": [
    {
     "name": "stdout",
     "output_type": "stream",
     "text": [
      "Wall time: 4.94 s\n"
     ]
    }
   ],
   "source": [
    "n = 100 #对于100个不同的行权价格进行估值\n",
    "%time strikes, option_values_seq = seq_value(n)"
   ]
  },
  {
   "cell_type": "code",
   "execution_count": 33,
   "metadata": {
    "collapsed": false,
    "scrolled": true
   },
   "outputs": [
    {
     "data": {
      "text/plain": [
       "<matplotlib.text.Text at 0xd7a8550>"
      ]
     },
     "execution_count": 33,
     "metadata": {},
     "output_type": "execute_result"
    },
    {
     "data": {
      "image/png": "[encoded data removed]",
      "text/plain": [
       "<matplotlib.figure.Figure at 0xd738278>"
      ]
     },
     "metadata": {},
     "output_type": "display_data"
    }
   ],
   "source": [
    "import matplotlib.pyplot as plt \n",
    "%matplotlib inline\n",
    "plt.figure(figsize=(8,4))\n",
    "plt.plot(strikes, option_values_seq, 'b')\n",
    "plt.plot(strikes, option_values_seq, 'r.')\n",
    "plt.grid(True)\n",
    "plt.xlabel('strikes')\n",
    "plt.ylabel('European call option values')"
   ]
  },
  {
   "cell_type": "markdown",
   "metadata": {
    "collapsed": false
   },
   "source": [
    "    多进程平行运算"
   ]
  },
  {
   "cell_type": "markdown",
   "metadata": {},
   "source": [
    "'''\n",
    "Windows下面的multiprocessing跟Linux下面略有不同，Linux下面基于fork，fork之后所有的本地变量都复制一份，因此可以使用任意的全局变量；在Windows下面，多进程是通过启动新进程完成的，所有的全局变量都是重新初始化的，在运行过程中动态生成、修改过的全局变量是不能使用的。\n",
    "multiprocessing内部使用pickling传递map的参数到不同的进程，当传递一个函数或类时，pickling将函数或者类用所在模块+函数/类名的方式表示，如果对端的Python进程无法在对应的模块中找到相应的函数或者类，就会出错。当你在Interactive Console当中创建函数的时候，这个函数是动态添加到__main__模块中的，在重新启动的新进程当中不存在，所以会出错。\n",
    "\n",
    "当不在Console中，而是在独立Python文件中运行时，你会遇到另一个问题：\n",
    "由于你下面调用multiprocessing的代码没有保护，在新进程加载这个模块的时候会重新执行这段代码，创建出新的multiprocessing池，无限调用下去。解决这个问题的方法是永远把实际执行功能的代码加入到带保护的区域中：\n",
    "\n",
    "一下平行计算可在spyder下完成\n",
    "\n",
    "\n",
    "'''"
   ]
  },
  {
   "cell_type": "code",
   "execution_count": 1,
   "metadata": {
    "collapsed": false
   },
   "outputs": [],
   "source": [
    "'''\n",
    "首先到http://aka.ms/vcpython27下载Visual C++ 9.0\n",
    "然后安装 multiprocessing\n",
    "'''\n",
    "import multiprocessing as mp\n",
    "import math \n",
    "import numpy as np\n",
    "def simulate_geometric_brownian_motion(p): #几何布朗运动模拟\n",
    "    M, I = p # 时间周期数；模拟路径数\n",
    "    S0 = 100\n",
    "    r = 0.05\n",
    "    sigma = 0.2\n",
    "    T = 1.0\n",
    "    dt = T / M \n",
    "    paths = np.zeros((M+1, I)) # 建立模拟矩阵\n",
    "    paths[0] = S0\n",
    "\n",
    "    for t in range(1, M + 1):\n",
    "        paths[t] = paths[t-1] * np.exp((r - 0.5 * sigma ** 2) * dt + sigma * math.sqrt(dt) * np.random.standard_normal(I))\n",
    "    return paths\n"
   ]
  },
  {
   "cell_type": "code",
   "execution_count": null,
   "metadata": {
    "collapsed": false
   },
   "outputs": [],
   "source": [
    "'''\n",
    "if __name__ == '__main__':\n",
    "    I = 10000\n",
    "    M = 50 \n",
    "    t = 20 # 进行20次模拟\n",
    "    # 使用2核cores4线程threads的cpu进行测试\n",
    "    from time import time #时间攻击\n",
    "    times = [] #建立一个list用于记录模拟结果\n",
    "    for w in range(1, 7):\n",
    "        t0 = time() #起始时间\n",
    "        pool = mp.Pool(processes=w) #使用w线程进行运算\n",
    "        result =  pool.map(simulate_geometric_brownian_motion, t * [(M, I),])#将以tuple为元素的list（共t个tuple）应用到函数中\n",
    "        times.append(time() - t0) #记录下运行到此的时间与t0的时间差\n",
    "    print times\n",
    "\n",
    "import matplotlib.pyplot as plt \n",
    "%matplotlib inline\n",
    "plt.plot(range(1, 17), times)\n",
    "plt.plot(range(1, 17), times, 'ro')\n",
    "plt.grid(True)\n",
    "plt.xlabel('# processes')\n",
    "plt.ylabel('time')\n",
    "plt.title('%d MCS' %t)\n",
    "#在spyder上可以运行\n",
    "'''    "
   ]
  },
  {
   "cell_type": "code",
   "execution_count": null,
   "metadata": {
    "collapsed": false
   },
   "outputs": [],
   "source": []
  },
  {
   "cell_type": "code",
   "execution_count": null,
   "metadata": {
    "collapsed": true
   },
   "outputs": [],
   "source": []
  }
 ],
 "metadata": {
  "anaconda-cloud": {},
  "kernelspec": {
   "display_name": "Python [Root]",
   "language": "python",
   "name": "Python [Root]"
  },
  "language_info": {
   "codemirror_mode": {
    "name": "ipython",
    "version": 2
   },
   "file_extension": ".py",
   "mimetype": "text/x-python",
   "name": "python",
   "nbconvert_exporter": "python",
   "pygments_lexer": "ipython2",
   "version": "2.7.11"
  }
 },
 "nbformat": 4,
 "nbformat_minor": 0
}
