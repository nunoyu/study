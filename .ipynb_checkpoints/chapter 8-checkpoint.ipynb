{
 "cells": [
  {
   "cell_type": "code",
   "execution_count": 89,
   "metadata": {
    "collapsed": false
   },
   "outputs": [],
   "source": [
    "#建立一个测试函数性能的函数，核心是repeat\n",
    "def perf_comp_data(func_list, data_list, rep=3, number=1):\n",
    "    '''function to compare performance of different functions\n",
    "    parameters\n",
    "    ============\n",
    "    func_list : list\n",
    "        list with function names as strings\n",
    "    data_list: list\n",
    "        list with data names as strings\n",
    "    rep : int\n",
    "        number of repetition of the whole comparation \n",
    "    numb : int\n",
    "        the number of executions for every funtion    \n",
    "    \n",
    "    '''\n",
    "    from timeit import repeat \n",
    "    res_list = {} #定义一个字典文件\n",
    "    for name in enumerate(func_list): #同时遍历程序列表中索引和程序名,返回enumerate object。[0]=索引，[1]=内容\n",
    "        stmt = name[1] + '(' +  data_list[name[0]] + ')'\n",
    "        setup = \"from __main__ import \" + name[1] + ', ' \\\n",
    "                                    + data_list[name[0]]\n",
    "        results = repeat(stmt=stmt, setup=setup, \n",
    "                         repeat=rep, number=number) #stmt代表计算公式， setup引入必要公式和数据。参数名为repeat, 不是rep\n",
    "        res_list[name[1]] = sum(results) / rep #将平均结果储存到字典文件\n",
    "    res_sort = sorted(res_list.items(), \n",
    "                      key=lambda x: (x[1], x[0])) #按表现排名\n",
    "#打印输出结果\n",
    "    for item in res_sort:\n",
    "        rel = item[1] / res_sort[0][1]\n",
    "        print ('function ' + item[0] + ', av. time sec: %9.5f' %item[1] + 'relative: %6.5f' % rel) #字符串内传值  "
   ]
  },
  {
   "cell_type": "code",
   "execution_count": 62,
   "metadata": {
    "collapsed": true
   },
   "outputs": [],
   "source": [
    "from math import * #引入math的所有方法\n",
    "def f(x):\n",
    "    return abs(cos(x)) ** 0.5 + sin(2 + 3 * x) \n",
    "I = 500000\n",
    "a_py = range(I)"
   ]
  },
  {
   "cell_type": "code",
   "execution_count": null,
   "metadata": {
    "collapsed": true
   },
   "outputs": [],
   "source": []
  },
  {
   "cell_type": "code",
   "execution_count": 63,
   "metadata": {
    "collapsed": false
   },
   "outputs": [],
   "source": [
    "def f1(a):\n",
    "    res = []\n",
    "    for x in a:\n",
    "        res.append(f(x))\n",
    "    return res\n"
   ]
  },
  {
   "cell_type": "code",
   "execution_count": 64,
   "metadata": {
    "collapsed": true
   },
   "outputs": [],
   "source": [
    "def f2(a):\n",
    "    return [f(x) for x in a]"
   ]
  },
  {
   "cell_type": "code",
   "execution_count": 65,
   "metadata": {
    "collapsed": true
   },
   "outputs": [],
   "source": [
    "def f3(a):\n",
    "    ex = 'abs(cos(x) )** 0.5 + sin(2 + 3 * x)' #字符会的表达式\n",
    "    return[eval(ex) for x in a] #eval函数会重新运算求出参数的内容，是一个可以将字符串参数转换成表达式的函数。"
   ]
  },
  {
   "cell_type": "code",
   "execution_count": 66,
   "metadata": {
    "collapsed": true
   },
   "outputs": [],
   "source": [
    "import numpy as np\n",
    "a_np = np.arange(I)"
   ]
  },
  {
   "cell_type": "code",
   "execution_count": 67,
   "metadata": {
    "collapsed": true
   },
   "outputs": [],
   "source": [
    "def f4(a):\n",
    "    return(np.abs(np.cos(a)) ** 0.5 + np.sin(2 + 3 * a)) #a本身是循环，所有的循环再np内部进行，不需要for 迭代"
   ]
  },
  {
   "cell_type": "code",
   "execution_count": 68,
   "metadata": {
    "collapsed": true
   },
   "outputs": [],
   "source": [
    "import numexpr as ne #计算表达式，高级库，不需要for迭代\n",
    "def f5(a):\n",
    "    ex = 'abs(cos(a)) ** 0.5 + sin(2 + 3 * a)'\n",
    "    ne.set_num_threads(1) #单线程\n",
    "    return ne.evaluate(ex) #不需要for 循环"
   ]
  },
  {
   "cell_type": "code",
   "execution_count": 69,
   "metadata": {
    "collapsed": true
   },
   "outputs": [],
   "source": [
    "def f6(a):\n",
    "    ex = 'abs(cos(a)) ** 0.5 + sin(2 + 3 * a)'\n",
    "    ne.set_num_threads(16) #多线程\n",
    "    return ne.evaluate(ex) #不需要for 循环"
   ]
  },
  {
   "cell_type": "code",
   "execution_count": 70,
   "metadata": {
    "collapsed": false
   },
   "outputs": [
    {
     "name": "stdout",
     "output_type": "stream",
     "text": [
      "Wall time: 16.9 s\n"
     ]
    }
   ],
   "source": [
    "%%time \n",
    "r1 = f1(a_py) #对于标准的python，参数为a_py\n",
    "r2 = f2(a_py)\n",
    "r3 = f3(a_py)\n",
    "r4 = f4(a_np) #对于高级的库，例如numpy，numexpr等，其迭代在内部进行，其参数为np的数组\n",
    "r5 = f5(a_np)\n",
    "r6 = f6(a_np)"
   ]
  },
  {
   "cell_type": "code",
   "execution_count": 71,
   "metadata": {
    "collapsed": false
   },
   "outputs": [
    {
     "data": {
      "text/plain": [
       "True"
      ]
     },
     "execution_count": 71,
     "metadata": {},
     "output_type": "execute_result"
    }
   ],
   "source": [
    "np.allclose(r1,r2) #验证各计算结果是否一致"
   ]
  },
  {
   "cell_type": "code",
   "execution_count": 72,
   "metadata": {
    "collapsed": false
   },
   "outputs": [
    {
     "data": {
      "text/plain": [
       "True"
      ]
     },
     "execution_count": 72,
     "metadata": {},
     "output_type": "execute_result"
    }
   ],
   "source": [
    "np.allclose(r1,r6)"
   ]
  },
  {
   "cell_type": "code",
   "execution_count": 73,
   "metadata": {
    "collapsed": true
   },
   "outputs": [],
   "source": [
    "func_list = ['f1','f2','f3','f4','f5','f6',] #命令：直接把6个方程极其参数都传递给比较方程\n",
    "data_list = ['a_py','a_py','a_py','a_np','a_np','a_np',]"
   ]
  },
  {
   "cell_type": "code",
   "execution_count": 90,
   "metadata": {
    "collapsed": false
   },
   "outputs": [
    {
     "name": "stdout",
     "output_type": "stream",
     "text": [
      "function f6, av. time sec:   0.02607relative: 1.00000\n",
      "function f5, av. time sec:   0.03727relative: 1.42978\n",
      "function f4, av. time sec:   0.07278relative: 2.79221\n",
      "function f2, av. time sec:   0.44772relative: 17.17691\n",
      "function f1, av. time sec:   0.54355relative: 20.85333\n",
      "function f3, av. time sec:  14.33984relative: 550.14633\n"
     ]
    }
   ],
   "source": [
    "perf_comp_data(func_list, data_list)\n",
    "'''\n",
    "高级库，多线程的方法运算更快\n",
    "python内的迭代最慢\n",
    "'''"
   ]
  },
  {
   "cell_type": "code",
   "execution_count": 91,
   "metadata": {
    "collapsed": false
   },
   "outputs": [],
   "source": [
    "#numpy可以设定数据在硬盘的类型，以及分布：layout，其运算效率迥异， order决定数据的顺序：C或者Fortran公式翻译程式语言（formula translator）\n",
    "# order='C'或者order='F', C方式排列是以行为基础 rowwise，各行相临"
   ]
  },
  {
   "cell_type": "code",
   "execution_count": 95,
   "metadata": {
    "collapsed": false
   },
   "outputs": [
    {
     "data": {
      "text/plain": [
       "array([[ 0.,  0.,  0.],\n",
       "       [ 0.,  0.,  0.],\n",
       "       [ 0.,  0.,  0.]])"
      ]
     },
     "execution_count": 95,
     "metadata": {},
     "output_type": "execute_result"
    }
   ],
   "source": [
    "np.zeros((3,3), dtype=np.float64, order='C') #定义数据类型，以及数据结构，采用类似C语言的数据"
   ]
  },
  {
   "cell_type": "code",
   "execution_count": 101,
   "metadata": {
    "collapsed": false
   },
   "outputs": [],
   "source": [
    "x = np.random.standard_normal((3,1500000))\n",
    "C = np.array(x, order='C')\n",
    "F = np.array(x, order='F')\n",
    "x = 0.0 #清除内存\n",
    "#两个方向的轴计算速度差一倍"
   ]
  },
  {
   "cell_type": "code",
   "execution_count": 103,
   "metadata": {
    "collapsed": false
   },
   "outputs": [
    {
     "name": "stdout",
     "output_type": "stream",
     "text": [
      "Wall time: 14 ms\n"
     ]
    },
    {
     "data": {
      "text/plain": [
       "array([ 0.57522135,  0.83346518,  0.66493489, ...,  0.30091394,\n",
       "       -1.53713069,  1.18964091])"
      ]
     },
     "execution_count": 103,
     "metadata": {},
     "output_type": "execute_result"
    }
   ],
   "source": [
    "%time C.sum(axis=0)"
   ]
  },
  {
   "cell_type": "code",
   "execution_count": 104,
   "metadata": {
    "collapsed": false
   },
   "outputs": [
    {
     "name": "stdout",
     "output_type": "stream",
     "text": [
      "Wall time: 9 ms\n"
     ]
    },
    {
     "data": {
      "text/plain": [
       "array([ 1626.31213362,  1002.17676438, -1568.28185048])"
      ]
     },
     "execution_count": 104,
     "metadata": {},
     "output_type": "execute_result"
    }
   ],
   "source": [
    "%time C.sum(axis=1)"
   ]
  },
  {
   "cell_type": "code",
   "execution_count": 105,
   "metadata": {
    "collapsed": false
   },
   "outputs": [
    {
     "name": "stdout",
     "output_type": "stream",
     "text": [
      "Wall time: 71 ms\n"
     ]
    },
    {
     "data": {
      "text/plain": [
       "array([ 0.60909133,  0.4650752 ,  1.14837321, ...,  0.36137126,\n",
       "        0.51698625,  0.30527665])"
      ]
     },
     "execution_count": 105,
     "metadata": {},
     "output_type": "execute_result"
    }
   ],
   "source": [
    "%time C.std(axis=0)"
   ]
  },
  {
   "cell_type": "code",
   "execution_count": 106,
   "metadata": {
    "collapsed": false
   },
   "outputs": [
    {
     "name": "stdout",
     "output_type": "stream",
     "text": [
      "Wall time: 36 ms\n"
     ]
    },
    {
     "data": {
      "text/plain": [
       "array([ 1.00074308,  1.00087611,  0.99984116])"
      ]
     },
     "execution_count": 106,
     "metadata": {},
     "output_type": "execute_result"
    }
   ],
   "source": [
    "%time C.std(axis=1)\n",
    "#计算标准差的表现也是axis=1更快"
   ]
  },
  {
   "cell_type": "code",
   "execution_count": null,
   "metadata": {
    "collapsed": true
   },
   "outputs": [],
   "source": [
    "#F顺序的数组，整体慢，两个方向计算得差不多。"
   ]
  },
  {
   "cell_type": "code",
   "execution_count": 107,
   "metadata": {
    "collapsed": false
   },
   "outputs": [
    {
     "name": "stdout",
     "output_type": "stream",
     "text": [
      "Wall time: 43 ms\n"
     ]
    },
    {
     "data": {
      "text/plain": [
       "array([ 0.57522135,  0.83346518,  0.66493489, ...,  0.30091394,\n",
       "       -1.53713069,  1.18964091])"
      ]
     },
     "execution_count": 107,
     "metadata": {},
     "output_type": "execute_result"
    }
   ],
   "source": [
    "%time F.sum(axis=0)"
   ]
  },
  {
   "cell_type": "code",
   "execution_count": 108,
   "metadata": {
    "collapsed": false
   },
   "outputs": [
    {
     "name": "stdout",
     "output_type": "stream",
     "text": [
      "Wall time: 35 ms\n"
     ]
    },
    {
     "data": {
      "text/plain": [
       "array([ 1626.31213362,  1002.17676438, -1568.28185048])"
      ]
     },
     "execution_count": 108,
     "metadata": {},
     "output_type": "execute_result"
    }
   ],
   "source": [
    "%time F.sum(axis=1)"
   ]
  },
  {
   "cell_type": "code",
   "execution_count": 109,
   "metadata": {
    "collapsed": false
   },
   "outputs": [
    {
     "name": "stdout",
     "output_type": "stream",
     "text": [
      "Wall time: 151 ms\n"
     ]
    },
    {
     "data": {
      "text/plain": [
       "array([ 0.60909133,  0.4650752 ,  1.14837321, ...,  0.36137126,\n",
       "        0.51698625,  0.30527665])"
      ]
     },
     "execution_count": 109,
     "metadata": {},
     "output_type": "execute_result"
    }
   ],
   "source": [
    "%time F.std(axis=0)"
   ]
  },
  {
   "cell_type": "code",
   "execution_count": 110,
   "metadata": {
    "collapsed": false
   },
   "outputs": [
    {
     "name": "stdout",
     "output_type": "stream",
     "text": [
      "Wall time: 139 ms\n"
     ]
    },
    {
     "data": {
      "text/plain": [
       "array([ 1.00074308,  1.00087611,  0.99984116])"
      ]
     },
     "execution_count": 110,
     "metadata": {},
     "output_type": "execute_result"
    }
   ],
   "source": [
    "%time F.std(axis=1)"
   ]
  },
  {
   "cell_type": "code",
   "execution_count": null,
   "metadata": {
    "collapsed": true
   },
   "outputs": [],
   "source": [
    "# parallel ipython自带的多线程计算库"
   ]
  },
  {
   "cell_type": "code",
   "execution_count": 210,
   "metadata": {
    "collapsed": false
   },
   "outputs": [],
   "source": [
    "def bsm_mcs_valuation(strike):\n",
    "    '''Dynamic Black-Scholes-Merton Monte Carlo estimator for European calls.\n",
    "    Parameters\n",
    "    ==========\n",
    "    strike : float\n",
    "    strike price of the option\n",
    "    \n",
    "    Results\n",
    "    =======\n",
    "    value : float\n",
    "    estimate for present value of call option\n",
    "    '''\n",
    "    import numpy as np\n",
    "    S0 = 100.\n",
    "    T = 1.0 \n",
    "    r = 0.05\n",
    "    vola = 0.2\n",
    "    M = 50 #分成50步，属于将微分离散的方法\n",
    "    I = 20000\n",
    "    dt = T / M #将周期分成50步，类似微积分\n",
    "    rand = np.random.standard_normal((M + 1, I)) #51行，代表模拟50步，2万列，每列代表一个模拟值\n",
    "    S = np.zeros((M + 1, I)) #建立多维数组用于储存模拟结果\n",
    "    S[0] = S0 #每条路径的S初始值都是S0\n",
    "    for t in range(1, M+1):#从1到51，遍历一遍\n",
    "        S[t] = S[t-1] * np.exp((r - 0.5 * vola ** 2) * dt\n",
    "                               + vola * np.sqrt(dt) * rand[t]) #每一期的值都源自上一期. rand模拟风险因素变动\n",
    "    value =  (np.exp(-r * T) * np.sum(np.maximum(S[-1]-strike, 0)) / I) #行权时的期权价格求均值后贴现到现在。该句要在迭代外\n",
    "    return value #返回一个数值，而不是一组数值   \n",
    "    "
   ]
  },
  {
   "cell_type": "code",
   "execution_count": 211,
   "metadata": {
    "collapsed": true
   },
   "outputs": [],
   "source": [
    "def seq_value(n):\n",
    "    '''建立用顺序方法对期权进行估值的函数， n代表行权价格的数量\n",
    "    Parameters\n",
    "    ==========\n",
    "    n : int\n",
    "        number of options valuations / strikes\n",
    "    '''\n",
    "    strikes = np.linspace(80, 120, n) #分为n份，行权价格介于80和120之间\n",
    "    option_values = [] #将估值结果储存在lis中\n",
    "    for strike in strikes:\n",
    "        option_values.append(bsm_mcs_valuation(strike))\n",
    "    return strikes, option_values"
   ]
  },
  {
   "cell_type": "code",
   "execution_count": 212,
   "metadata": {
    "collapsed": false
   },
   "outputs": [
    {
     "name": "stdout",
     "output_type": "stream",
     "text": [
      "Wall time: 8.09 s\n"
     ]
    }
   ],
   "source": [
    "n = 100 #对于100个不同的行权价格进行估值\n",
    "%time strikes, option_values_seq = seq_value(n)"
   ]
  },
  {
   "cell_type": "code",
   "execution_count": 214,
   "metadata": {
    "collapsed": false
   },
   "outputs": [
    {
     "data": {
      "text/plain": [
       "<matplotlib.text.Text at 0x1a175b00>"
      ]
     },
     "execution_count": 214,
     "metadata": {},
     "output_type": "execute_result"
    },
    {
     "data": {
      "image/png": "[encoded data removed]",
      "text/plain": [
       "<matplotlib.figure.Figure at 0x1a0310f0>"
      ]
     },
     "metadata": {},
     "output_type": "display_data"
    }
   ],
   "source": [
    "import matplotlib.pyplot as plt \n",
    "%matplotlib inline\n",
    "plt.figure(figsize=(8,4))\n",
    "plt.plot(strikes, option_values_seq, 'b')\n",
    "plt.plot(strikes, option_values_seq, 'r.')\n",
    "plt.grid(True)\n",
    "plt.xlabel('strikes')\n",
    "plt.ylabel('European call option values')"
   ]
  },
  {
   "cell_type": "code",
   "execution_count": null,
   "metadata": {
    "collapsed": true
   },
   "outputs": [],
   "source": []
  }
 ],
 "metadata": {
  "anaconda-cloud": {},
  "kernelspec": {
   "display_name": "Python [Root]",
   "language": "python",
   "name": "Python [Root]"
  },
  "language_info": {
   "codemirror_mode": {
    "name": "ipython",
    "version": 2
   },
   "file_extension": ".py",
   "mimetype": "text/x-python",
   "name": "python",
   "nbconvert_exporter": "python",
   "pygments_lexer": "ipython2",
   "version": "2.7.11"
  }
 },
 "nbformat": 4,
 "nbformat_minor": 0
}
