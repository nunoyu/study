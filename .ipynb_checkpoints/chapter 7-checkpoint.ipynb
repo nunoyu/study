{
 "cells": [
  {
   "cell_type": "code",
   "execution_count": 2,
   "metadata": {
    "collapsed": false
   },
   "outputs": [
    {
     "name": "stdout",
     "output_type": "stream",
     "text": [
      "Wall time: 3.93 s\n"
     ]
    }
   ],
   "source": [
    "import numpy as np\n",
    "from random import gauss\n",
    "import pickle\n",
    "path = 'd:/largedata/'\n",
    "pkl_file = open(path + 'data.pkl', 'w') #没有该文件的情况下，open等同于建立一个文件。文件格式为pkl\n",
    "a = [gauss(1.5, 2) for i in range(1000000)]  #创建一个随机list\n",
    "%time pickle.dump(a, pkl_file) #将变量a存到刚刚建立的data.pkl文件中"
   ]
  },
  {
   "cell_type": "code",
   "execution_count": 3,
   "metadata": {
    "collapsed": false
   },
   "outputs": [],
   "source": [
    "c = [gauss(1.5, 2) for i in range(100)] #加一个c list到文件里\n",
    "pickle.dump(c, pkl_file)\n",
    "pkl_file.close() #关闭打开的文件"
   ]
  },
  {
   "cell_type": "code",
   "execution_count": 4,
   "metadata": {
    "collapsed": false
   },
   "outputs": [
    {
     "data": {
      "text/plain": [
       "[3.4986999507034398,\n",
       " 4.147761666832226,\n",
       " 0.9163877109942893,\n",
       " -1.4339821121892111,\n",
       " 0.9251917319888462]"
      ]
     },
     "execution_count": 4,
     "metadata": {},
     "output_type": "execute_result"
    }
   ],
   "source": [
    "c[:5]"
   ]
  },
  {
   "cell_type": "code",
   "execution_count": 5,
   "metadata": {
    "collapsed": false
   },
   "outputs": [
    {
     "data": {
      "text/plain": [
       "[2.8439172286466183,\n",
       " -2.120819918401739,\n",
       " 2.629829804579034,\n",
       " 2.193513179557078,\n",
       " 1.479182392033351]"
      ]
     },
     "execution_count": 5,
     "metadata": {},
     "output_type": "execute_result"
    }
   ],
   "source": [
    "a[:5]"
   ]
  },
  {
   "cell_type": "code",
   "execution_count": 6,
   "metadata": {
    "collapsed": false
   },
   "outputs": [],
   "source": [
    "pkl_file = open(path + 'data.pkl', 'r')\n",
    "b = pickle.load(pkl_file) #难道整个data.pkl文件就只存一个list? "
   ]
  },
  {
   "cell_type": "code",
   "execution_count": 7,
   "metadata": {
    "collapsed": false
   },
   "outputs": [
    {
     "data": {
      "text/plain": [
       "[2.8439172286466183,\n",
       " -2.120819918401739,\n",
       " 2.629829804579034,\n",
       " 2.193513179557078,\n",
       " 1.479182392033351]"
      ]
     },
     "execution_count": 7,
     "metadata": {},
     "output_type": "execute_result"
    }
   ],
   "source": [
    "b[:5] #data里面存了a和c, 但是b只调用了a"
   ]
  },
  {
   "cell_type": "code",
   "execution_count": 8,
   "metadata": {
    "collapsed": false
   },
   "outputs": [
    {
     "data": {
      "text/plain": [
       "True"
      ]
     },
     "execution_count": 8,
     "metadata": {},
     "output_type": "execute_result"
    }
   ],
   "source": [
    "np.allclose(np.array(a), np.array(b)) #内建方法，检查两个数组是否完全一致"
   ]
  },
  {
   "cell_type": "code",
   "execution_count": 10,
   "metadata": {
    "collapsed": false
   },
   "outputs": [
    {
     "data": {
      "text/plain": [
       "0.0"
      ]
     },
     "execution_count": 10,
     "metadata": {},
     "output_type": "execute_result"
    }
   ],
   "source": [
    "np.sum(np.array(a) - np.array(b)) #用差值检验是否一致"
   ]
  },
  {
   "cell_type": "code",
   "execution_count": null,
   "metadata": {
    "collapsed": true
   },
   "outputs": [],
   "source": []
  }
 ],
 "metadata": {
  "anaconda-cloud": {},
  "kernelspec": {
   "display_name": "Python [Root]",
   "language": "python",
   "name": "Python [Root]"
  },
  "language_info": {
   "codemirror_mode": {
    "name": "ipython",
    "version": 2
   },
   "file_extension": ".py",
   "mimetype": "text/x-python",
   "name": "python",
   "nbconvert_exporter": "python",
   "pygments_lexer": "ipython2",
   "version": "2.7.11"
  }
 },
 "nbformat": 4,
 "nbformat_minor": 0
}
