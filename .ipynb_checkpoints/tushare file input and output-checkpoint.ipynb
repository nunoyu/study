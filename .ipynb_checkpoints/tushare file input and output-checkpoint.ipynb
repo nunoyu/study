{
 "cells": [
  {
   "cell_type": "code",
   "execution_count": 3,
   "metadata": {
    "collapsed": false
   },
   "outputs": [],
   "source": [
    "import tushare as ts\n",
    "df = ts.get_hist_data('000875') #直接保存\n",
    "df.to_csv('./data/000875.csv') #调用的是pandas自带的命令\n",
    "df.to_csv('./data/000875.csv',columns=['open','high','low','close'])#选择保存"
   ]
  },
  {
   "cell_type": "markdown",
   "metadata": {},
   "source": [
    "pandas的DataFrame和Series对象提供了直接保存csv文件格式的方法，通过参数设定，轻松将数据内容保存在本地磁盘。\n",
    "常用参数说明：\n",
    "path_or_buf: csv文件存放路径或者StringIO对象\n",
    "sep : 文件内容分隔符，默认为,逗号\n",
    "na_rep: 在遇到NaN值时保存为某字符，默认为’‘空字符\n",
    "float_format: float类型的格式\n",
    "columns: 需要保存的列，默认为None\n",
    "header: 是否保存columns名，默认为True\n",
    "index: 是否保存index，默认为True\n",
    "mode : 创建新文件还是追加到现有文件，默认为新建\n",
    "encoding: 文件编码格式\n",
    "date_format: 日期格式\n",
    "注：在设定path时，如果目录不存在，程序会提示IOError，请先确保目录已经存在于磁盘中。"
   ]
  },
  {
   "cell_type": "markdown",
   "metadata": {},
   "source": [
    "追加数据的方式：可能需要将一些同类数据保存在一个大文件中，这时候就需要将数据追加在同一个文件里"
   ]
  },
  {
   "cell_type": "code",
   "execution_count": 4,
   "metadata": {
    "collapsed": true
   },
   "outputs": [],
   "source": [
    "import tushare as ts\n",
    "import os\n",
    "filename = './data/bigfile.csv'\n",
    "for code in ['000875', '600848', '000981']:\n",
    "    df = ts.get_hist_data(code)\n",
    "    if os.path.exists(filename):\n",
    "        df.to_csv(filename, mode='a', header=None) # 核心是mode='a'添加模式\n",
    "    else:\n",
    "        df.to_csv(filename)\n",
    "#注：如果是不考虑header，直接df.to_csv(filename, mode=’a’）即可，否则，每次循环都会把columns名称也append进去】"
   ]
  },
  {
   "cell_type": "markdown",
   "metadata": {},
   "source": [
    "pandas将数据保存为MicroSoft Excel文件格式。\n",
    "常用参数说明：\n",
    "excel_writer: 文件路径或者ExcelWriter对象\n",
    "sheet_name:sheet名称，默认为Sheet1\n",
    "sep : 文件内容分隔符，默认为,逗号\n",
    "na_rep: 在遇到NaN值时保存为某字符，默认为’‘空字符\n",
    "float_format: float类型的格式\n",
    "columns: 需要保存的列，默认为None\n",
    "header: 是否保存columns名，默认为True\n",
    "index: 是否保存index，默认为True\n",
    "encoding: 文件编码格式\n",
    "startrow: 在数据的头部留出startrow行空行\n",
    "startcol :在数据的左边留出startcol列空列"
   ]
  },
  {
   "cell_type": "code",
   "execution_count": 5,
   "metadata": {
    "collapsed": true
   },
   "outputs": [],
   "source": [
    "import tushare as ts\n",
    "df = ts.get_hist_data('000875') \n",
    "#直接保存\n",
    "df.to_excel('./data/000875.xlsx')\n",
    "#设定数据位置（从第3行，第6列开始插入数据）\n",
    "df.to_excel('./data/000875.xlsx', startrow=2,startcol=5)"
   ]
  },
  {
   "cell_type": "markdown",
   "metadata": {},
   "source": [
    "pandas利用PyTables包将数据保存为HDF5格式的文件。需要确认的是，运行时PyTables包的版本需要 >=3.0.0。\n",
    "常用参数说明：\n",
    "path_or_buf: 文件路径或者HDFStore对象\n",
    "key:HDF5中的group标识\n",
    "mode : 包括 {‘a’追加, ‘w’写入, ‘r’只读, ‘r+’等同于a但文件必须已经存在}, 默认是 ‘a’\n",
    "format:‘fixed(f)|table(t)’,默认‘fixed’，f适合快速读写，不能追加数据 t适合从文件中查找和选择数据\n",
    "append: 适用于table(t)模式追加数据，默认Flase\n",
    "complevel: 压缩级别1-9, 默认0\n",
    "complib: 压缩类型{‘zlib’, ‘bzip2’, ‘lzo’, ‘blosc’, None}默认None"
   ]
  },
  {
   "cell_type": "code",
   "execution_count": null,
   "metadata": {
    "collapsed": true
   },
   "outputs": [],
   "source": [
    "import tushare as ts\n",
    "df = ts.get_hist_data('000875')\n",
    "df.to_hdf('./data/hdf.h5','000875')"
   ]
  },
  {
   "cell_type": "markdown",
   "metadata": {},
   "source": [
    "pandas生成Json格式的文件或字符串。\n",
    "\n",
    "常用参数说明：\n",
    "\n",
    "path_or_buf: json文件存放路径\n",
    "orient:json格式顺序，包括columns，records，index，split，values，默认为columns\n",
    "force_ascii: 将字符转ASCII，默认为True"
   ]
  },
  {
   "cell_type": "code",
   "execution_count": 7,
   "metadata": {
    "collapsed": false
   },
   "outputs": [],
   "source": [
    "import tushare as ts\n",
    "df = ts.get_hist_data('000875')\n",
    "df.to_json('./data/000875.json',orient='records')\n"
   ]
  },
  {
   "cell_type": "code",
   "execution_count": null,
   "metadata": {
    "collapsed": true
   },
   "outputs": [],
   "source": []
  },
  {
   "cell_type": "code",
   "execution_count": null,
   "metadata": {
    "collapsed": true
   },
   "outputs": [],
   "source": []
  },
  {
   "cell_type": "code",
   "execution_count": null,
   "metadata": {
    "collapsed": true
   },
   "outputs": [],
   "source": []
  },
  {
   "cell_type": "code",
   "execution_count": null,
   "metadata": {
    "collapsed": true
   },
   "outputs": [],
   "source": []
  }
 ],
 "metadata": {
  "anaconda-cloud": {},
  "kernelspec": {
   "display_name": "Python [Root]",
   "language": "python",
   "name": "Python [Root]"
  },
  "language_info": {
   "codemirror_mode": {
    "name": "ipython",
    "version": 2
   },
   "file_extension": ".py",
   "mimetype": "text/x-python",
   "name": "python",
   "nbconvert_exporter": "python",
   "pygments_lexer": "ipython2",
   "version": "2.7.11"
  }
 },
 "nbformat": 4,
 "nbformat_minor": 0
}
