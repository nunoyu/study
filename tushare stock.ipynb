{
 "cells": [
  {
   "cell_type": "markdown",
   "metadata": {},
   "source": [
    "参数说明：\n",
    "\n",
    "code：股票代码，即6位数字代码，或者指数代码（sh=上证指数 sz=深圳成指 hs300=沪深300指数 sz50=上证50 zxb=中小板 cyb=创业板）\n",
    "start：开始日期，格式YYYY-MM-DD\n",
    "end：结束日期，格式YYYY-MM-DD\n",
    "ktype：数据类型，D=日k线 W=周 M=月 5=5分钟 15=15分钟 30=30分钟 60=60分钟，默认为D\n",
    "retry_count：当网络异常后重试次数，默认为3\n",
    "pause:重试时停顿秒数，默认为0\n",
    "返回值说明：\n",
    "\n",
    "date：日期\n",
    "open：开盘价\n",
    "high：最高价\n",
    "close：收盘价\n",
    "low：最低价\n",
    "volume：成交量\n",
    "price_change：价格变动\n",
    "p_change：涨跌幅\n",
    "ma5：5日均价\n",
    "ma10：10日均价\n",
    "ma20:20日均价\n",
    "v_ma5:5日均量\n",
    "v_ma10:10日均量\n",
    "v_ma20:20日均量\n",
    "turnover:换手率[注：指数无此项]"
   ]
  },
  {
   "cell_type": "code",
   "execution_count": 1,
   "metadata": {
    "collapsed": false
   },
   "outputs": [],
   "source": [
    "import tushare as ts\n",
    "import pandas as pd\n",
    "data1 = ts.get_hist_data('600848') #一次性获取全部日k线数据\n",
    "data1 = ts.get_hist_data('600848',start='2015-01-05',end='2015-01-09')"
   ]
  },
  {
   "cell_type": "code",
   "execution_count": 2,
   "metadata": {
    "collapsed": false
   },
   "outputs": [
    {
     "data": {
      "text/plain": [
       "\"\\nts.get_hist_data('600848', ktype='W') #\\xe8\\x8e\\xb7\\xe5\\x8f\\x96\\xe5\\x91\\xa8k\\xe7\\xba\\xbf\\xe6\\x95\\xb0\\xe6\\x8d\\xae\\nts.get_hist_data('600848', ktype='M') #\\xe8\\x8e\\xb7\\xe5\\x8f\\x96\\xe6\\x9c\\x88k\\xe7\\xba\\xbf\\xe6\\x95\\xb0\\xe6\\x8d\\xae\\nts.get_hist_data('600848', ktype='5') #\\xe8\\x8e\\xb7\\xe5\\x8f\\x965\\xe5\\x88\\x86\\xe9\\x92\\x9fk\\xe7\\xba\\xbf\\xe6\\x95\\xb0\\xe6\\x8d\\xae\\nts.get_hist_data('600848', ktype='15') #\\xe8\\x8e\\xb7\\xe5\\x8f\\x9615\\xe5\\x88\\x86\\xe9\\x92\\x9fk\\xe7\\xba\\xbf\\xe6\\x95\\xb0\\xe6\\x8d\\xae\\nts.get_hist_data('600848', ktype='30') #\\xe8\\x8e\\xb7\\xe5\\x8f\\x9630\\xe5\\x88\\x86\\xe9\\x92\\x9fk\\xe7\\xba\\xbf\\xe6\\x95\\xb0\\xe6\\x8d\\xae\\nts.get_hist_data('600848', ktype='60') #\\xe8\\x8e\\xb7\\xe5\\x8f\\x9660\\xe5\\x88\\x86\\xe9\\x92\\x9fk\\xe7\\xba\\xbf\\xe6\\x95\\xb0\\xe6\\x8d\\xae\\nts.get_hist_data('sh'\\xef\\xbc\\x89#\\xe8\\x8e\\xb7\\xe5\\x8f\\x96\\xe4\\xb8\\x8a\\xe8\\xaf\\x81\\xe6\\x8c\\x87\\xe6\\x95\\xb0k\\xe7\\xba\\xbf\\xe6\\x95\\xb0\\xe6\\x8d\\xae\\xef\\xbc\\x8c\\xe5\\x85\\xb6\\xe5\\xae\\x83\\xe5\\x8f\\x82\\xe6\\x95\\xb0\\xe4\\xb8\\x8e\\xe4\\xb8\\xaa\\xe8\\x82\\xa1\\xe4\\xb8\\x80\\xe8\\x87\\xb4\\xef\\xbc\\x8c\\xe4\\xb8\\x8b\\xe5\\x90\\x8c\\nts.get_hist_data('sz'\\xef\\xbc\\x89#\\xe8\\x8e\\xb7\\xe5\\x8f\\x96\\xe6\\xb7\\xb1\\xe5\\x9c\\xb3\\xe6\\x88\\x90\\xe6\\x8c\\x87k\\xe7\\xba\\xbf\\xe6\\x95\\xb0\\xe6\\x8d\\xae\\nts.get_hist_data('hs300'\\xef\\xbc\\x89#\\xe8\\x8e\\xb7\\xe5\\x8f\\x96\\xe6\\xb2\\xaa\\xe6\\xb7\\xb1300\\xe6\\x8c\\x87\\xe6\\x95\\xb0k\\xe7\\xba\\xbf\\xe6\\x95\\xb0\\xe6\\x8d\\xae\\nts.get_hist_data('sz50'\\xef\\xbc\\x89#\\xe8\\x8e\\xb7\\xe5\\x8f\\x96\\xe4\\xb8\\x8a\\xe8\\xaf\\x8150\\xe6\\x8c\\x87\\xe6\\x95\\xb0k\\xe7\\xba\\xbf\\xe6\\x95\\xb0\\xe6\\x8d\\xae\\nts.get_hist_data('zxb'\\xef\\xbc\\x89#\\xe8\\x8e\\xb7\\xe5\\x8f\\x96\\xe4\\xb8\\xad\\xe5\\xb0\\x8f\\xe6\\x9d\\xbf\\xe6\\x8c\\x87\\xe6\\x95\\xb0k\\xe7\\xba\\xbf\\xe6\\x95\\xb0\\xe6\\x8d\\xae\\nts.get_hist_data('cyb'\\xef\\xbc\\x89#\\xe8\\x8e\\xb7\\xe5\\x8f\\x96\\xe5\\x88\\x9b\\xe4\\xb8\\x9a\\xe6\\x9d\\xbf\\xe6\\x8c\\x87\\xe6\\x95\\xb0k\\xe7\\xba\\xbf\\xe6\\x95\\xb0\\xe6\\x8d\\xae\\n\""
      ]
     },
     "execution_count": 2,
     "metadata": {},
     "output_type": "execute_result"
    }
   ],
   "source": [
    "'''\n",
    "ts.get_hist_data('600848', ktype='W') #获取周k线数据\n",
    "ts.get_hist_data('600848', ktype='M') #获取月k线数据\n",
    "ts.get_hist_data('600848', ktype='5') #获取5分钟k线数据\n",
    "ts.get_hist_data('600848', ktype='15') #获取15分钟k线数据\n",
    "ts.get_hist_data('600848', ktype='30') #获取30分钟k线数据\n",
    "ts.get_hist_data('600848', ktype='60') #获取60分钟k线数据\n",
    "ts.get_hist_data('sh'）#获取上证指数k线数据，其它参数与个股一致，下同\n",
    "ts.get_hist_data('sz'）#获取深圳成指k线数据\n",
    "ts.get_hist_data('hs300'）#获取沪深300指数k线数据\n",
    "ts.get_hist_data('sz50'）#获取上证50指数k线数据\n",
    "ts.get_hist_data('zxb'）#获取中小板指数k线数据\n",
    "ts.get_hist_data('cyb'）#获取创业板指数k线数据\n",
    "'''"
   ]
  },
  {
   "cell_type": "code",
   "execution_count": 3,
   "metadata": {
    "collapsed": false
   },
   "outputs": [
    {
     "data": {
      "image/png": "[encoded data removed]",
      "text/plain": [
       "<matplotlib.figure.Figure at 0xa46c198>"
      ]
     },
     "metadata": {},
     "output_type": "display_data"
    }
   ],
   "source": [
    "import matplotlib as mpl\n",
    "import matplotlib.pyplot as plt\n",
    "%matplotlib inline\n",
    "data1['close'].plot(style='b',figsize=(12,8))\n",
    "plt.grid(True)"
   ]
  },
  {
   "cell_type": "code",
   "execution_count": 4,
   "metadata": {
    "collapsed": false
   },
   "outputs": [
    {
     "data": {
      "text/html": [
       "<div>\n",
       "<table border=\"1\" class=\"dataframe\">\n",
       "  <thead>\n",
       "    <tr style=\"text-align: right;\">\n",
       "      <th></th>\n",
       "      <th>open</th>\n",
       "      <th>high</th>\n",
       "      <th>close</th>\n",
       "      <th>low</th>\n",
       "      <th>volume</th>\n",
       "      <th>price_change</th>\n",
       "      <th>p_change</th>\n",
       "      <th>ma5</th>\n",
       "      <th>ma10</th>\n",
       "      <th>ma20</th>\n",
       "      <th>v_ma5</th>\n",
       "      <th>v_ma10</th>\n",
       "      <th>v_ma20</th>\n",
       "      <th>turnover</th>\n",
       "    </tr>\n",
       "    <tr>\n",
       "      <th>date</th>\n",
       "      <th></th>\n",
       "      <th></th>\n",
       "      <th></th>\n",
       "      <th></th>\n",
       "      <th></th>\n",
       "      <th></th>\n",
       "      <th></th>\n",
       "      <th></th>\n",
       "      <th></th>\n",
       "      <th></th>\n",
       "      <th></th>\n",
       "      <th></th>\n",
       "      <th></th>\n",
       "      <th></th>\n",
       "    </tr>\n",
       "  </thead>\n",
       "  <tbody>\n",
       "    <tr>\n",
       "      <th>2015-01-09</th>\n",
       "      <td>11.68</td>\n",
       "      <td>11.71</td>\n",
       "      <td>11.23</td>\n",
       "      <td>11.19</td>\n",
       "      <td>44851.56</td>\n",
       "      <td>-0.44</td>\n",
       "      <td>-3.77</td>\n",
       "      <td>11.538</td>\n",
       "      <td>11.363</td>\n",
       "      <td>11.682</td>\n",
       "      <td>58792.43</td>\n",
       "      <td>60665.93</td>\n",
       "      <td>107924.27</td>\n",
       "      <td>1.54</td>\n",
       "    </tr>\n",
       "    <tr>\n",
       "      <th>2015-01-08</th>\n",
       "      <td>11.70</td>\n",
       "      <td>11.92</td>\n",
       "      <td>11.67</td>\n",
       "      <td>11.64</td>\n",
       "      <td>56845.71</td>\n",
       "      <td>-0.25</td>\n",
       "      <td>-2.10</td>\n",
       "      <td>11.516</td>\n",
       "      <td>11.349</td>\n",
       "      <td>11.647</td>\n",
       "      <td>57268.99</td>\n",
       "      <td>61376.00</td>\n",
       "      <td>105823.50</td>\n",
       "      <td>1.95</td>\n",
       "    </tr>\n",
       "    <tr>\n",
       "      <th>2015-01-07</th>\n",
       "      <td>11.58</td>\n",
       "      <td>11.99</td>\n",
       "      <td>11.92</td>\n",
       "      <td>11.48</td>\n",
       "      <td>86681.38</td>\n",
       "      <td>0.31</td>\n",
       "      <td>2.67</td>\n",
       "      <td>11.366</td>\n",
       "      <td>11.251</td>\n",
       "      <td>11.543</td>\n",
       "      <td>55049.74</td>\n",
       "      <td>61628.07</td>\n",
       "      <td>103010.58</td>\n",
       "      <td>2.97</td>\n",
       "    </tr>\n",
       "    <tr>\n",
       "      <th>2015-01-06</th>\n",
       "      <td>11.13</td>\n",
       "      <td>11.66</td>\n",
       "      <td>11.61</td>\n",
       "      <td>11.03</td>\n",
       "      <td>59199.93</td>\n",
       "      <td>0.35</td>\n",
       "      <td>3.11</td>\n",
       "      <td>11.182</td>\n",
       "      <td>11.155</td>\n",
       "      <td>11.382</td>\n",
       "      <td>54854.38</td>\n",
       "      <td>63401.05</td>\n",
       "      <td>98686.98</td>\n",
       "      <td>2.03</td>\n",
       "    </tr>\n",
       "    <tr>\n",
       "      <th>2015-01-05</th>\n",
       "      <td>11.16</td>\n",
       "      <td>11.39</td>\n",
       "      <td>11.26</td>\n",
       "      <td>10.89</td>\n",
       "      <td>46383.57</td>\n",
       "      <td>0.14</td>\n",
       "      <td>1.26</td>\n",
       "      <td>11.156</td>\n",
       "      <td>11.212</td>\n",
       "      <td>11.198</td>\n",
       "      <td>58648.75</td>\n",
       "      <td>68429.87</td>\n",
       "      <td>97141.81</td>\n",
       "      <td>1.59</td>\n",
       "    </tr>\n",
       "  </tbody>\n",
       "</table>\n",
       "</div>"
      ],
      "text/plain": [
       "             open   high  close    low    volume  price_change  p_change  \\\n",
       "date                                                                       \n",
       "2015-01-09  11.68  11.71  11.23  11.19  44851.56         -0.44     -3.77   \n",
       "2015-01-08  11.70  11.92  11.67  11.64  56845.71         -0.25     -2.10   \n",
       "2015-01-07  11.58  11.99  11.92  11.48  86681.38          0.31      2.67   \n",
       "2015-01-06  11.13  11.66  11.61  11.03  59199.93          0.35      3.11   \n",
       "2015-01-05  11.16  11.39  11.26  10.89  46383.57          0.14      1.26   \n",
       "\n",
       "               ma5    ma10    ma20     v_ma5    v_ma10     v_ma20  turnover  \n",
       "date                                                                         \n",
       "2015-01-09  11.538  11.363  11.682  58792.43  60665.93  107924.27      1.54  \n",
       "2015-01-08  11.516  11.349  11.647  57268.99  61376.00  105823.50      1.95  \n",
       "2015-01-07  11.366  11.251  11.543  55049.74  61628.07  103010.58      2.97  \n",
       "2015-01-06  11.182  11.155  11.382  54854.38  63401.05   98686.98      2.03  \n",
       "2015-01-05  11.156  11.212  11.198  58648.75  68429.87   97141.81      1.59  "
      ]
     },
     "execution_count": 4,
     "metadata": {},
     "output_type": "execute_result"
    }
   ],
   "source": [
    "data1"
   ]
  },
  {
   "cell_type": "code",
   "execution_count": 5,
   "metadata": {
    "collapsed": false
   },
   "outputs": [
    {
     "ename": "AttributeError",
     "evalue": "'DataFrame' object has no attribute 'parse_'",
     "output_type": "error",
     "traceback": [
      "\u001b[1;31m---------------------------------------------------------------------------\u001b[0m",
      "\u001b[1;31mAttributeError\u001b[0m                            Traceback (most recent call last)",
      "\u001b[1;32m<ipython-input-5-6cea0730b1b2>\u001b[0m in \u001b[0;36m<module>\u001b[1;34m()\u001b[0m\n\u001b[0;32m      1\u001b[0m \u001b[0mdf\u001b[0m \u001b[1;33m=\u001b[0m \u001b[0mts\u001b[0m\u001b[1;33m.\u001b[0m\u001b[0mget_tick_data\u001b[0m\u001b[1;33m(\u001b[0m\u001b[1;34m'600848'\u001b[0m\u001b[1;33m,\u001b[0m\u001b[0mdate\u001b[0m\u001b[1;33m=\u001b[0m\u001b[1;34m'2014-01-09'\u001b[0m\u001b[1;33m)\u001b[0m \u001b[1;31m#分笔数据只能按天提取\u001b[0m\u001b[1;33m\u001b[0m\u001b[0m\n\u001b[1;32m----> 2\u001b[1;33m \u001b[0mdf\u001b[0m\u001b[1;33m.\u001b[0m\u001b[0mparse_\u001b[0m\u001b[1;33m\u001b[0m\u001b[0m\n\u001b[0m\u001b[0;32m      3\u001b[0m \u001b[0mdf\u001b[0m\u001b[1;33m.\u001b[0m\u001b[0mhead\u001b[0m\u001b[1;33m(\u001b[0m\u001b[1;36m10\u001b[0m\u001b[1;33m)\u001b[0m\u001b[1;33m\u001b[0m\u001b[0m\n",
      "\u001b[1;32mC:\\Anaconda2\\lib\\site-packages\\pandas\\core\\generic.pyc\u001b[0m in \u001b[0;36m__getattr__\u001b[1;34m(self, name)\u001b[0m\n\u001b[0;32m   2670\u001b[0m             \u001b[1;32mif\u001b[0m \u001b[0mname\u001b[0m \u001b[1;32min\u001b[0m \u001b[0mself\u001b[0m\u001b[1;33m.\u001b[0m\u001b[0m_info_axis\u001b[0m\u001b[1;33m:\u001b[0m\u001b[1;33m\u001b[0m\u001b[0m\n\u001b[0;32m   2671\u001b[0m                 \u001b[1;32mreturn\u001b[0m \u001b[0mself\u001b[0m\u001b[1;33m[\u001b[0m\u001b[0mname\u001b[0m\u001b[1;33m]\u001b[0m\u001b[1;33m\u001b[0m\u001b[0m\n\u001b[1;32m-> 2672\u001b[1;33m             \u001b[1;32mreturn\u001b[0m \u001b[0mobject\u001b[0m\u001b[1;33m.\u001b[0m\u001b[0m__getattribute__\u001b[0m\u001b[1;33m(\u001b[0m\u001b[0mself\u001b[0m\u001b[1;33m,\u001b[0m \u001b[0mname\u001b[0m\u001b[1;33m)\u001b[0m\u001b[1;33m\u001b[0m\u001b[0m\n\u001b[0m\u001b[0;32m   2673\u001b[0m \u001b[1;33m\u001b[0m\u001b[0m\n\u001b[0;32m   2674\u001b[0m     \u001b[1;32mdef\u001b[0m \u001b[0m__setattr__\u001b[0m\u001b[1;33m(\u001b[0m\u001b[0mself\u001b[0m\u001b[1;33m,\u001b[0m \u001b[0mname\u001b[0m\u001b[1;33m,\u001b[0m \u001b[0mvalue\u001b[0m\u001b[1;33m)\u001b[0m\u001b[1;33m:\u001b[0m\u001b[1;33m\u001b[0m\u001b[0m\n",
      "\u001b[1;31mAttributeError\u001b[0m: 'DataFrame' object has no attribute 'parse_'"
     ]
    }
   ],
   "source": [
    "df = ts.get_tick_data('600848',date='2014-01-09') #分笔数据只能按天提取。在读取csv的时候可以用parse_time=True来解析时间\n",
    "df.head(10)"
   ]
  },
  {
   "cell_type": "code",
   "execution_count": null,
   "metadata": {
    "collapsed": false
   },
   "outputs": [],
   "source": [
    "df['date'] = '2014-01-09-'\n",
    "df.head()"
   ]
  },
  {
   "cell_type": "code",
   "execution_count": null,
   "metadata": {
    "collapsed": false
   },
   "outputs": [],
   "source": [
    "df['datetime'] = df['date'] + df['time'] #插入日期\n",
    "df.head()"
   ]
  },
  {
   "cell_type": "code",
   "execution_count": null,
   "metadata": {
    "collapsed": false
   },
   "outputs": [],
   "source": [
    "df['datetime'] = pd.to_datetime(df['datetime']) #将日期转为datetime \n",
    "del df['time'], df['date']\n",
    "df.index = df['datetime']\n",
    "df.head()"
   ]
  },
  {
   "cell_type": "code",
   "execution_count": null,
   "metadata": {
    "collapsed": false
   },
   "outputs": [],
   "source": [
    "df_res = df.resample(rule='1min', how='mean')"
   ]
  },
  {
   "cell_type": "code",
   "execution_count": null,
   "metadata": {
    "collapsed": false
   },
   "outputs": [],
   "source": [
    "df_res.fillna(method='ffill').head()"
   ]
  },
  {
   "cell_type": "code",
   "execution_count": null,
   "metadata": {
    "collapsed": false
   },
   "outputs": [],
   "source": [
    "df_res[['price','volume']].plot(subplots=True)"
   ]
  },
  {
   "cell_type": "code",
   "execution_count": null,
   "metadata": {
    "collapsed": false
   },
   "outputs": [],
   "source": [
    "df = ts.get_stock_basics()\n",
    "date = df.ix['600848']['timeToMarket'] #获取股票的上市日期YYYYMMDD，运算速度极慢\n",
    "date"
   ]
  },
  {
   "cell_type": "code",
   "execution_count": null,
   "metadata": {
    "collapsed": false
   },
   "outputs": [],
   "source": [
    "df_houfq = ts.get_h_data('600737', autype='hfq', start='2015-01-01', end='2015-05-01') #后复权"
   ]
  },
  {
   "cell_type": "markdown",
   "metadata": {},
   "source": [
    "code:string,股票代码 e.g. 600848\n",
    "start:string,开始日期 format：YYYY-MM-DD 为空时取当前日期\n",
    "end:string,结束日期 format：YYYY-MM-DD 为空时取去年今日\n",
    "autype:string,复权类型，qfq-前复权 hfq-后复权 None-不复权，默认为qfq\n",
    "index:Boolean，是否是大盘指数，默认为False\n",
    "retry_count : int, 默认3,如遇网络等问题重复执行的次数\n",
    "pause : int, 默认 0,重复请求数据过程中暂停的秒数，防止请求间隔时间太短出现的问题"
   ]
  },
  {
   "cell_type": "code",
   "execution_count": null,
   "metadata": {
    "collapsed": true
   },
   "outputs": [],
   "source": []
  },
  {
   "cell_type": "code",
   "execution_count": null,
   "metadata": {
    "collapsed": false
   },
   "outputs": [],
   "source": [
    "today = ts.get_today_all() #获取当天所有行情\n"
   ]
  },
  {
   "cell_type": "code",
   "execution_count": null,
   "metadata": {
    "collapsed": false
   },
   "outputs": [],
   "source": [
    "today.head()"
   ]
  },
  {
   "cell_type": "code",
   "execution_count": null,
   "metadata": {
    "collapsed": false,
    "scrolled": true
   },
   "outputs": [],
   "source": [
    "today.sort_values('open', ascending=False) #排序"
   ]
  },
  {
   "cell_type": "code",
   "execution_count": null,
   "metadata": {
    "collapsed": false
   },
   "outputs": [],
   "source": [
    "ts.get_realtime_quotes(['600848','000980','000981']) #获取多个股票的实时分笔"
   ]
  },
  {
   "cell_type": "code",
   "execution_count": null,
   "metadata": {
    "collapsed": false
   },
   "outputs": [],
   "source": [
    "ts.get_realtime_quotes('sh')#上证指数\n",
    "ts.get_realtime_quotes(['sh','sz','hs300','sz50','zxb','cyb'])#上证指数 深圳成指 沪深300指数 上证50 中小板 创业板"
   ]
  },
  {
   "cell_type": "code",
   "execution_count": null,
   "metadata": {
    "collapsed": false
   },
   "outputs": [],
   "source": [
    "df_today_ticks = ts.get_today_ticks('600737') #获取当日分笔\n",
    "df_today_ticks.head(10)"
   ]
  },
  {
   "cell_type": "code",
   "execution_count": null,
   "metadata": {
    "collapsed": true
   },
   "outputs": [],
   "source": [
    "df_index = ts.get_index() #获取各类指数"
   ]
  },
  {
   "cell_type": "code",
   "execution_count": null,
   "metadata": {
    "collapsed": false
   },
   "outputs": [],
   "source": [
    "df_index"
   ]
  },
  {
   "cell_type": "code",
   "execution_count": null,
   "metadata": {
    "collapsed": false
   },
   "outputs": [],
   "source": [
    "df_dd = ts.get_sina_dd('600848', date='2016-07-26') #获取某股票，某日的大单交易数据，默认400手\n",
    "#df = ts.get_sina_dd('600848', date='2015-12-24', vol=500)  #指定大于等于500手的数据\n",
    "df_dd.head(12)"
   ]
  },
  {
   "cell_type": "code",
   "execution_count": null,
   "metadata": {
    "collapsed": false
   },
   "outputs": [],
   "source": [
    "df_basics = ts.get_stock_basics() #获取沪深上市公司基本情况，不需要参数。\n",
    "df_basics.head(10)\n"
   ]
  },
  {
   "cell_type": "markdown",
   "metadata": {},
   "source": [
    "属性包括：code,代码\n",
    "name,名称\n",
    "industry,所属行业\n",
    "area,地区\n",
    "pe,市盈率\n",
    "outstanding,流通股本\n",
    "totals,总股本(万)\n",
    "totalAssets,总资产(万)\n",
    "liquidAssets,流动资产\n",
    "fixedAssets,固定资产\n",
    "reserved,公积金\n",
    "reservedPerShare,每股公积金\n",
    "eps,每股收益\n",
    "bvps,每股净资\n",
    "pb,市净率\n"
   ]
  },
  {
   "cell_type": "code",
   "execution_count": null,
   "metadata": {
    "collapsed": false
   },
   "outputs": [],
   "source": [
    "df_profit = ts.get_profit_data(2014,3)#获取2014年第3季度的盈利能力数据\n",
    "df_profit.head()"
   ]
  },
  {
   "cell_type": "markdown",
   "metadata": {},
   "source": [
    "code,代码\n",
    "name,名称\n",
    "roe,净资产收益率(%)\n",
    "net_profit_ratio,净利率(%)\n",
    "gross_profit_rate,毛利率(%)\n",
    "net_profits,净利润(万元)\n",
    "eps,每股收益\n",
    "business_income,营业收入(百万元)\n",
    "bips,每股主营业务收入(元)"
   ]
  },
  {
   "cell_type": "code",
   "execution_count": null,
   "metadata": {
    "collapsed": false
   },
   "outputs": [],
   "source": [
    "df_opr = ts.get_operation_data(2014,3)#获取2014年第3季度的营运能力数据\n",
    "df_opr.head(10)"
   ]
  },
  {
   "cell_type": "markdown",
   "metadata": {},
   "source": [
    "code,代码\n",
    "name,名称\n",
    "arturnover,应收账款周转率(次)\n",
    "arturndays,应收账款周转天数(天)\n",
    "inventory_turnover,存货周转率(次)\n",
    "inventory_days,存货周转天数(天)\n",
    "currentasset_turnover,流动资产周转率(次)\n",
    "currentasset_days,流动资产周转天数(天)"
   ]
  },
  {
   "cell_type": "code",
   "execution_count": null,
   "metadata": {
    "collapsed": true
   },
   "outputs": [],
   "source": [
    "df_growth = ts.get_growth_data(2014,3) #获取2014年第3季度的成长能力数据\n",
    "df_growth.head(10)"
   ]
  },
  {
   "cell_type": "markdown",
   "metadata": {},
   "source": [
    "code,代码\n",
    "name,名称\n",
    "mbrg,主营业务收入增长率(%)\n",
    "nprg,净利润增长率(%)\n",
    "nav,净资产增长率\n",
    "targ,总资产增长率\n",
    "epsg,每股收益增长率\n",
    "seg,股东权益增长率"
   ]
  },
  {
   "cell_type": "code",
   "execution_count": null,
   "metadata": {
    "collapsed": true
   },
   "outputs": [],
   "source": [
    "df_debtpaying = ts.get_debtpaying_data(2014,3) #获取2014年第3季度的偿债能力数据\n",
    "df_debtpaying.head(10)"
   ]
  },
  {
   "cell_type": "markdown",
   "metadata": {},
   "source": [
    "code,代码\n",
    "name,名称\n",
    "currentratio,流动比率\n",
    "quickratio,速动比率\n",
    "cashratio,现金比率\n",
    "icratio,利息支付倍数\n",
    "sheqratio,股东权益比率\n",
    "adratio,股东权益增长率"
   ]
  },
  {
   "cell_type": "code",
   "execution_count": null,
   "metadata": {
    "collapsed": false
   },
   "outputs": [],
   "source": [
    "df_cashflow = ts.get_cashflow_data(2014,3) #获取2014年第3季度的现金流量数据\n",
    "df_cashflow.head()"
   ]
  },
  {
   "cell_type": "markdown",
   "metadata": {},
   "source": [
    "code,代码\n",
    "name,名称\n",
    "cf_sales,经营现金净流量对销售收入比率\n",
    "rateofreturn,资产的经营现金流量回报率\n",
    "cf_nm,经营现金净流量与净利润的比率\n",
    "cf_liabilities,经营现金净流量对负债比率\n",
    "cashflowratio,现金流量比率"
   ]
  },
  {
   "cell_type": "code",
   "execution_count": null,
   "metadata": {
    "collapsed": true
   },
   "outputs": [],
   "source": []
  }
 ],
 "metadata": {
  "anaconda-cloud": {},
  "kernelspec": {
   "display_name": "Python [Root]",
   "language": "python",
   "name": "Python [Root]"
  },
  "language_info": {
   "codemirror_mode": {
    "name": "ipython",
    "version": 2
   },
   "file_extension": ".py",
   "mimetype": "text/x-python",
   "name": "python",
   "nbconvert_exporter": "python",
   "pygments_lexer": "ipython2",
   "version": "2.7.11"
  }
 },
 "nbformat": 4,
 "nbformat_minor": 0
}
