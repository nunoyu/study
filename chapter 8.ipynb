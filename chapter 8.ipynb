{
 "cells": [
  {
   "cell_type": "code",
   "execution_count": 1,
   "metadata": {
    "collapsed": false
   },
   "outputs": [],
   "source": [
    "#建立一个测试函数性能的函数，核心是repeat\n",
    "def perf_comp_data(func_list, data_list, rep=3, number=1):\n",
    "    '''function to compare performance of different functions\n",
    "    parameters\n",
    "    ============\n",
    "    func_list : list\n",
    "        list with function names as strings\n",
    "    data_list: list\n",
    "        list with data names as strings\n",
    "    rep : int\n",
    "        number of repetition of the whole comparation \n",
    "    numb : int\n",
    "        the number of executions for every funtion    \n",
    "    \n",
    "    '''\n",
    "    from timeit import repeat \n",
    "    res_list = {} #定义一个字典文件\n",
    "    for name in enumerate(func_list): #同时遍历程序列表中索引和程序名,返回enumerate object。[0]=索引，[1]=内容\n",
    "        stmt = name[1] + '(' +  data_list[name[0]] + ')'\n",
    "        setup = \"from __main__ import \" + name[1] + ', ' \\\n",
    "                                    + data_list[name[0]]\n",
    "        results = repeat(stmt=stmt, setup=setup, \n",
    "                         repeat=rep, number=number) #stmt代表计算公式， setup引入必要公式和数据。参数名为repeat, 不是rep\n",
    "        res_list[name[1]] = sum(results) / rep #将平均结果储存到字典文件\n",
    "    res_sort = sorted(res_list.items(), \n",
    "                      key=lambda x: (x[1], x[0])) #按表现排名\n",
    "#打印输出结果\n",
    "    for item in res_sort:\n",
    "        rel = item[1] / res_sort[0][1]\n",
    "        print ('function ' + item[0] + ', av. time sec: %9.5f' %item[1] + 'relative: %6.5f' % rel) #字符串内传值  "
   ]
  },
  {
   "cell_type": "code",
   "execution_count": 2,
   "metadata": {
    "collapsed": true
   },
   "outputs": [],
   "source": [
    "from math import * #引入math的所有方法\n",
    "def f(x):\n",
    "    return abs(cos(x)) ** 0.5 + sin(2 + 3 * x) \n",
    "I = 500000\n",
    "a_py = range(I)"
   ]
  },
  {
   "cell_type": "code",
   "execution_count": null,
   "metadata": {
    "collapsed": true
   },
   "outputs": [],
   "source": []
  },
  {
   "cell_type": "code",
   "execution_count": 3,
   "metadata": {
    "collapsed": false
   },
   "outputs": [],
   "source": [
    "def f1(a):\n",
    "    res = []\n",
    "    for x in a:\n",
    "        res.append(f(x))\n",
    "    return res\n"
   ]
  },
  {
   "cell_type": "code",
   "execution_count": 4,
   "metadata": {
    "collapsed": true
   },
   "outputs": [],
   "source": [
    "def f2(a):\n",
    "    return [f(x) for x in a]"
   ]
  },
  {
   "cell_type": "code",
   "execution_count": 5,
   "metadata": {
    "collapsed": true
   },
   "outputs": [],
   "source": [
    "def f3(a):\n",
    "    ex = 'abs(cos(x) )** 0.5 + sin(2 + 3 * x)' #字符会的表达式\n",
    "    return[eval(ex) for x in a] #eval函数会重新运算求出参数的内容，是一个可以将字符串参数转换成表达式的函数。"
   ]
  },
  {
   "cell_type": "code",
   "execution_count": 6,
   "metadata": {
    "collapsed": true
   },
   "outputs": [],
   "source": [
    "import numpy as np\n",
    "a_np = np.arange(I)"
   ]
  },
  {
   "cell_type": "code",
   "execution_count": 7,
   "metadata": {
    "collapsed": true
   },
   "outputs": [],
   "source": [
    "def f4(a):\n",
    "    return(np.abs(np.cos(a)) ** 0.5 + np.sin(2 + 3 * a)) #a本身是循环，所有的循环再np内部进行，不需要for 迭代"
   ]
  },
  {
   "cell_type": "code",
   "execution_count": 8,
   "metadata": {
    "collapsed": true
   },
   "outputs": [],
   "source": [
    "import numexpr as ne #计算表达式，高级库，不需要for迭代\n",
    "def f5(a):\n",
    "    ex = 'abs(cos(a)) ** 0.5 + sin(2 + 3 * a)'\n",
    "    ne.set_num_threads(1) #单线程\n",
    "    return ne.evaluate(ex) #不需要for 循环"
   ]
  },
  {
   "cell_type": "code",
   "execution_count": 9,
   "metadata": {
    "collapsed": true
   },
   "outputs": [],
   "source": [
    "def f6(a):\n",
    "    ex = 'abs(cos(a)) ** 0.5 + sin(2 + 3 * a)'\n",
    "    ne.set_num_threads(16) #多线程\n",
    "    return ne.evaluate(ex) #不需要for 循环"
   ]
  },
  {
   "cell_type": "code",
   "execution_count": 10,
   "metadata": {
    "collapsed": false
   },
   "outputs": [
    {
     "name": "stdout",
     "output_type": "stream",
     "text": [
      "Wall time: 12.9 s\n"
     ]
    }
   ],
   "source": [
    "%%time \n",
    "r1 = f1(a_py) #对于标准的python，参数为a_py\n",
    "r2 = f2(a_py)\n",
    "r3 = f3(a_py)\n",
    "r4 = f4(a_np) #对于高级的库，例如numpy，numexpr等，其迭代在内部进行，其参数为np的数组\n",
    "r5 = f5(a_np)\n",
    "r6 = f6(a_np)"
   ]
  },
  {
   "cell_type": "code",
   "execution_count": 11,
   "metadata": {
    "collapsed": false
   },
   "outputs": [
    {
     "data": {
      "text/plain": [
       "True"
      ]
     },
     "execution_count": 11,
     "metadata": {},
     "output_type": "execute_result"
    }
   ],
   "source": [
    "np.allclose(r1,r2) #验证各计算结果是否一致"
   ]
  },
  {
   "cell_type": "code",
   "execution_count": 12,
   "metadata": {
    "collapsed": false
   },
   "outputs": [
    {
     "data": {
      "text/plain": [
       "True"
      ]
     },
     "execution_count": 12,
     "metadata": {},
     "output_type": "execute_result"
    }
   ],
   "source": [
    "np.allclose(r1,r6)"
   ]
  },
  {
   "cell_type": "code",
   "execution_count": 13,
   "metadata": {
    "collapsed": true
   },
   "outputs": [],
   "source": [
    "func_list = ['f1','f2','f3','f4','f5','f6',] #命令：直接把6个方程极其参数都传递给比较方程\n",
    "data_list = ['a_py','a_py','a_py','a_np','a_np','a_np',]"
   ]
  },
  {
   "cell_type": "code",
   "execution_count": 14,
   "metadata": {
    "collapsed": false
   },
   "outputs": [
    {
     "name": "stdout",
     "output_type": "stream",
     "text": [
      "function f6, av. time sec:   0.01833relative: 1.00000\n",
      "function f5, av. time sec:   0.01904relative: 1.03895\n",
      "function f4, av. time sec:   0.04754relative: 2.59362\n",
      "function f2, av. time sec:   0.38864relative: 21.20181\n",
      "function f1, av. time sec:   0.43840relative: 23.91676\n",
      "function f3, av. time sec:  12.14711relative: 662.67592\n"
     ]
    },
    {
     "data": {
      "text/plain": [
       "'\\n\\xe9\\xab\\x98\\xe7\\xba\\xa7\\xe5\\xba\\x93\\xef\\xbc\\x8c\\xe5\\xa4\\x9a\\xe7\\xba\\xbf\\xe7\\xa8\\x8b\\xe7\\x9a\\x84\\xe6\\x96\\xb9\\xe6\\xb3\\x95\\xe8\\xbf\\x90\\xe7\\xae\\x97\\xe6\\x9b\\xb4\\xe5\\xbf\\xab\\npython\\xe5\\x86\\x85\\xe7\\x9a\\x84\\xe8\\xbf\\xad\\xe4\\xbb\\xa3\\xe6\\x9c\\x80\\xe6\\x85\\xa2\\n'"
      ]
     },
     "execution_count": 14,
     "metadata": {},
     "output_type": "execute_result"
    }
   ],
   "source": [
    "perf_comp_data(func_list, data_list)\n",
    "'''\n",
    "高级库，多线程的方法运算更快\n",
    "python内的迭代最慢\n",
    "'''"
   ]
  },
  {
   "cell_type": "code",
   "execution_count": 15,
   "metadata": {
    "collapsed": false
   },
   "outputs": [],
   "source": [
    "#numpy可以设定数据在硬盘的类型，以及分布：layout，其运算效率迥异， order决定数据的顺序：C或者Fortran公式翻译程式语言（formula translator）\n",
    "# order='C'或者order='F', C方式排列是以行为基础 rowwise，各行相临"
   ]
  },
  {
   "cell_type": "code",
   "execution_count": 16,
   "metadata": {
    "collapsed": false
   },
   "outputs": [
    {
     "data": {
      "text/plain": [
       "array([[ 0.,  0.,  0.],\n",
       "       [ 0.,  0.,  0.],\n",
       "       [ 0.,  0.,  0.]])"
      ]
     },
     "execution_count": 16,
     "metadata": {},
     "output_type": "execute_result"
    }
   ],
   "source": [
    "np.zeros((3,3), dtype=np.float64, order='C') #定义数据类型，以及数据结构，采用类似C语言的数据"
   ]
  },
  {
   "cell_type": "code",
   "execution_count": 17,
   "metadata": {
    "collapsed": false
   },
   "outputs": [],
   "source": [
    "x = np.random.standard_normal((3,1500000))\n",
    "C = np.array(x, order='C')\n",
    "F = np.array(x, order='F')\n",
    "x = 0.0 #清除内存\n",
    "#两个方向的轴计算速度差一倍"
   ]
  },
  {
   "cell_type": "code",
   "execution_count": 18,
   "metadata": {
    "collapsed": false
   },
   "outputs": [
    {
     "name": "stdout",
     "output_type": "stream",
     "text": [
      "Wall time: 10 ms\n"
     ]
    },
    {
     "data": {
      "text/plain": [
       "array([-1.24041314, -2.8219326 , -1.18322852, ..., -0.13248595,\n",
       "        2.58856097,  1.10803342])"
      ]
     },
     "execution_count": 18,
     "metadata": {},
     "output_type": "execute_result"
    }
   ],
   "source": [
    "%time C.sum(axis=0)"
   ]
  },
  {
   "cell_type": "code",
   "execution_count": 19,
   "metadata": {
    "collapsed": false
   },
   "outputs": [
    {
     "name": "stdout",
     "output_type": "stream",
     "text": [
      "Wall time: 8 ms\n"
     ]
    },
    {
     "data": {
      "text/plain": [
       "array([    7.20011441, -1807.15366311,  -786.68020679])"
      ]
     },
     "execution_count": 19,
     "metadata": {},
     "output_type": "execute_result"
    }
   ],
   "source": [
    "%time C.sum(axis=1)"
   ]
  },
  {
   "cell_type": "code",
   "execution_count": 20,
   "metadata": {
    "collapsed": false
   },
   "outputs": [
    {
     "name": "stdout",
     "output_type": "stream",
     "text": [
      "Wall time: 56 ms\n"
     ]
    },
    {
     "data": {
      "text/plain": [
       "array([ 0.14281458,  0.34716057,  0.97694541, ...,  1.05168426,\n",
       "        0.90333772,  0.26947682])"
      ]
     },
     "execution_count": 20,
     "metadata": {},
     "output_type": "execute_result"
    }
   ],
   "source": [
    "%time C.std(axis=0)"
   ]
  },
  {
   "cell_type": "code",
   "execution_count": 21,
   "metadata": {
    "collapsed": false
   },
   "outputs": [
    {
     "name": "stdout",
     "output_type": "stream",
     "text": [
      "Wall time: 31 ms\n"
     ]
    },
    {
     "data": {
      "text/plain": [
       "array([ 0.99952598,  0.9996062 ,  0.99992764])"
      ]
     },
     "execution_count": 21,
     "metadata": {},
     "output_type": "execute_result"
    }
   ],
   "source": [
    "%time C.std(axis=1)\n",
    "#计算标准差的表现也是axis=1更快"
   ]
  },
  {
   "cell_type": "code",
   "execution_count": 22,
   "metadata": {
    "collapsed": true
   },
   "outputs": [],
   "source": [
    "#F顺序的数组，整体慢，两个方向计算得差不多。"
   ]
  },
  {
   "cell_type": "code",
   "execution_count": 23,
   "metadata": {
    "collapsed": false
   },
   "outputs": [
    {
     "name": "stdout",
     "output_type": "stream",
     "text": [
      "Wall time: 27 ms\n"
     ]
    },
    {
     "data": {
      "text/plain": [
       "array([-1.24041314, -2.8219326 , -1.18322852, ..., -0.13248595,\n",
       "        2.58856097,  1.10803342])"
      ]
     },
     "execution_count": 23,
     "metadata": {},
     "output_type": "execute_result"
    }
   ],
   "source": [
    "%time F.sum(axis=0)"
   ]
  },
  {
   "cell_type": "code",
   "execution_count": 24,
   "metadata": {
    "collapsed": false
   },
   "outputs": [
    {
     "name": "stdout",
     "output_type": "stream",
     "text": [
      "Wall time: 35 ms\n"
     ]
    },
    {
     "data": {
      "text/plain": [
       "array([    7.20011441, -1807.15366311,  -786.68020679])"
      ]
     },
     "execution_count": 24,
     "metadata": {},
     "output_type": "execute_result"
    }
   ],
   "source": [
    "%time F.sum(axis=1)"
   ]
  },
  {
   "cell_type": "code",
   "execution_count": 25,
   "metadata": {
    "collapsed": false
   },
   "outputs": [
    {
     "name": "stdout",
     "output_type": "stream",
     "text": [
      "Wall time: 108 ms\n"
     ]
    },
    {
     "data": {
      "text/plain": [
       "array([ 0.14281458,  0.34716057,  0.97694541, ...,  1.05168426,\n",
       "        0.90333772,  0.26947682])"
      ]
     },
     "execution_count": 25,
     "metadata": {},
     "output_type": "execute_result"
    }
   ],
   "source": [
    "%time F.std(axis=0)"
   ]
  },
  {
   "cell_type": "code",
   "execution_count": 26,
   "metadata": {
    "collapsed": false
   },
   "outputs": [
    {
     "name": "stdout",
     "output_type": "stream",
     "text": [
      "Wall time: 97 ms\n"
     ]
    },
    {
     "data": {
      "text/plain": [
       "array([ 0.99952598,  0.9996062 ,  0.99992764])"
      ]
     },
     "execution_count": 26,
     "metadata": {},
     "output_type": "execute_result"
    }
   ],
   "source": [
    "%time F.std(axis=1)"
   ]
  },
  {
   "cell_type": "code",
   "execution_count": 27,
   "metadata": {
    "collapsed": true
   },
   "outputs": [],
   "source": [
    "# parallel ipython自带的多线程计算库"
   ]
  },
  {
   "cell_type": "code",
   "execution_count": 28,
   "metadata": {
    "collapsed": false
   },
   "outputs": [],
   "source": [
    "def bsm_mcs_valuation(strike):\n",
    "    '''Dynamic Black-Scholes-Merton Monte Carlo estimator for European calls.\n",
    "    Parameters\n",
    "    ==========\n",
    "    strike : float\n",
    "    strike price of the option\n",
    "    \n",
    "    Results\n",
    "    =======\n",
    "    value : float\n",
    "    estimate for present value of call option\n",
    "    '''\n",
    "    import numpy as np\n",
    "    S0 = 100.\n",
    "    T = 1.0 \n",
    "    r = 0.05\n",
    "    vola = 0.2\n",
    "    M = 50 #分成50步，属于将微分离散的方法\n",
    "    I = 20000\n",
    "    dt = T / M #将周期分成50步，类似微积分\n",
    "    rand = np.random.standard_normal((M + 1, I)) #51行，代表模拟50步，2万列，每列代表一个模拟值\n",
    "    S = np.zeros((M + 1, I)) #建立多维数组用于储存模拟结果\n",
    "    S[0] = S0 #每条路径的S初始值都是S0\n",
    "    for t in range(1, M+1):#从1到51，遍历一遍\n",
    "        S[t] = S[t-1] * np.exp((r - 0.5 * vola ** 2) * dt\n",
    "                               + vola * np.sqrt(dt) * rand[t]) #每一期的值都源自上一期. rand模拟风险因素变动\n",
    "    value =  (np.exp(-r * T) * np.sum(np.maximum(S[-1]-strike, 0)) / I) #行权时的期权价格求均值后贴现到现在。该句要在迭代外\n",
    "    return value #返回一个数值，而不是一组数值   \n",
    "    "
   ]
  },
  {
   "cell_type": "code",
   "execution_count": 29,
   "metadata": {
    "collapsed": true
   },
   "outputs": [],
   "source": [
    "def seq_value(n):\n",
    "    '''建立用顺序方法对期权进行估值的函数， n代表行权价格的数量\n",
    "    Parameters\n",
    "    ==========\n",
    "    n : int\n",
    "        number of options valuations / strikes\n",
    "    '''\n",
    "    strikes = np.linspace(80, 120, n) #分为n份，行权价格介于80和120之间\n",
    "    option_values = [] #将估值结果储存在lis中\n",
    "    for strike in strikes:\n",
    "        option_values.append(bsm_mcs_valuation(strike))\n",
    "    return strikes, option_values"
   ]
  },
  {
   "cell_type": "code",
   "execution_count": 30,
   "metadata": {
    "collapsed": false
   },
   "outputs": [
    {
     "name": "stdout",
     "output_type": "stream",
     "text": [
      "Wall time: 6.52 s\n"
     ]
    }
   ],
   "source": [
    "n = 100 #对于100个不同的行权价格进行估值\n",
    "%time strikes, option_values_seq = seq_value(n)"
   ]
  },
  {
   "cell_type": "code",
   "execution_count": 31,
   "metadata": {
    "collapsed": false,
    "scrolled": true
   },
   "outputs": [
    {
     "data": {
      "text/plain": [
       "<matplotlib.text.Text at 0x18f24ef0>"
      ]
     },
     "execution_count": 31,
     "metadata": {},
     "output_type": "execute_result"
    },
    {
     "data": {
      "image/png": "[encoded data removed]",
      "text/plain": [
       "<matplotlib.figure.Figure at 0x18ba2c50>"
      ]
     },
     "metadata": {},
     "output_type": "display_data"
    }
   ],
   "source": [
    "import matplotlib.pyplot as plt \n",
    "%matplotlib inline\n",
    "plt.figure(figsize=(8,4))\n",
    "plt.plot(strikes, option_values_seq, 'b')\n",
    "plt.plot(strikes, option_values_seq, 'r.')\n",
    "plt.grid(True)\n",
    "plt.xlabel('strikes')\n",
    "plt.ylabel('European call option values')"
   ]
  },
  {
   "cell_type": "markdown",
   "metadata": {
    "collapsed": false
   },
   "source": [
    "    多进程平行运算"
   ]
  },
  {
   "cell_type": "markdown",
   "metadata": {},
   "source": [
    "'''\n",
    "Windows下面的multiprocessing跟Linux下面略有不同，Linux下面基于fork，fork之后所有的本地变量都复制一份，因此可以使用任意的全局变量；在Windows下面，多进程是通过启动新进程完成的，所有的全局变量都是重新初始化的，在运行过程中动态生成、修改过的全局变量是不能使用的。\n",
    "multiprocessing内部使用pickling传递map的参数到不同的进程，当传递一个函数或类时，pickling将函数或者类用所在模块+函数/类名的方式表示，如果对端的Python进程无法在对应的模块中找到相应的函数或者类，就会出错。当你在Interactive Console当中创建函数的时候，这个函数是动态添加到__main__模块中的，在重新启动的新进程当中不存在，所以会出错。\n",
    "\n",
    "当不在Console中，而是在独立Python文件中运行时，你会遇到另一个问题：\n",
    "由于你下面调用multiprocessing的代码没有保护，在新进程加载这个模块的时候会重新执行这段代码，创建出新的multiprocessing池，无限调用下去。解决这个问题的方法是永远把实际执行功能的代码加入到带保护的区域中：\n",
    "\n",
    "一下平行计算可在spyder下完成\n",
    "\n",
    "\n",
    "'''"
   ]
  },
  {
   "cell_type": "code",
   "execution_count": 32,
   "metadata": {
    "collapsed": false
   },
   "outputs": [],
   "source": [
    "'''\n",
    "首先到http://aka.ms/vcpython27下载Visual C++ 9.0\n",
    "然后安装 multiprocessing\n",
    "'''\n",
    "import multiprocessing as mp\n",
    "import math \n",
    "import numpy as np\n",
    "def simulate_geometric_brownian_motion(p): #几何布朗运动模拟\n",
    "    M, I = p # 时间周期数；模拟路径数\n",
    "    S0 = 100\n",
    "    r = 0.05\n",
    "    sigma = 0.2\n",
    "    T = 1.0\n",
    "    dt = T / M \n",
    "    paths = np.zeros((M+1, I)) # 建立模拟矩阵\n",
    "    paths[0] = S0\n",
    "\n",
    "    for t in range(1, M + 1):\n",
    "        paths[t] = paths[t-1] * np.exp((r - 0.5 * sigma ** 2) * dt + sigma * math.sqrt(dt) * np.random.standard_normal(I))\n",
    "    return paths\n"
   ]
  },
  {
   "cell_type": "code",
   "execution_count": 33,
   "metadata": {
    "collapsed": false
   },
   "outputs": [
    {
     "data": {
      "text/plain": [
       "\"\\nif __name__ == '__main__':\\n    I = 10000\\n    M = 50 \\n    t = 20 # \\xe8\\xbf\\x9b\\xe8\\xa1\\x8c20\\xe6\\xac\\xa1\\xe6\\xa8\\xa1\\xe6\\x8b\\x9f\\n    # \\xe4\\xbd\\xbf\\xe7\\x94\\xa82\\xe6\\xa0\\xb8cores4\\xe7\\xba\\xbf\\xe7\\xa8\\x8bthreads\\xe7\\x9a\\x84cpu\\xe8\\xbf\\x9b\\xe8\\xa1\\x8c\\xe6\\xb5\\x8b\\xe8\\xaf\\x95\\n    from time import time #\\xe6\\x97\\xb6\\xe9\\x97\\xb4\\xe6\\x94\\xbb\\xe5\\x87\\xbb\\n    times = [] #\\xe5\\xbb\\xba\\xe7\\xab\\x8b\\xe4\\xb8\\x80\\xe4\\xb8\\xaalist\\xe7\\x94\\xa8\\xe4\\xba\\x8e\\xe8\\xae\\xb0\\xe5\\xbd\\x95\\xe6\\xa8\\xa1\\xe6\\x8b\\x9f\\xe7\\xbb\\x93\\xe6\\x9e\\x9c\\n    for w in range(1, 7):\\n        t0 = time() #\\xe8\\xb5\\xb7\\xe5\\xa7\\x8b\\xe6\\x97\\xb6\\xe9\\x97\\xb4\\n        pool = mp.Pool(processes=w) #\\xe4\\xbd\\xbf\\xe7\\x94\\xa8w\\xe7\\xba\\xbf\\xe7\\xa8\\x8b\\xe8\\xbf\\x9b\\xe8\\xa1\\x8c\\xe8\\xbf\\x90\\xe7\\xae\\x97\\n        result =  pool.map(simulate_geometric_brownian_motion, t * [(M, I),])#\\xe5\\xb0\\x86\\xe4\\xbb\\xa5tuple\\xe4\\xb8\\xba\\xe5\\x85\\x83\\xe7\\xb4\\xa0\\xe7\\x9a\\x84list\\xef\\xbc\\x88\\xe5\\x85\\xb1t\\xe4\\xb8\\xaatuple\\xef\\xbc\\x89\\xe5\\xba\\x94\\xe7\\x94\\xa8\\xe5\\x88\\xb0\\xe5\\x87\\xbd\\xe6\\x95\\xb0\\xe4\\xb8\\xad\\n        times.append(time() - t0) #\\xe8\\xae\\xb0\\xe5\\xbd\\x95\\xe4\\xb8\\x8b\\xe8\\xbf\\x90\\xe8\\xa1\\x8c\\xe5\\x88\\xb0\\xe6\\xad\\xa4\\xe7\\x9a\\x84\\xe6\\x97\\xb6\\xe9\\x97\\xb4\\xe4\\xb8\\x8et0\\xe7\\x9a\\x84\\xe6\\x97\\xb6\\xe9\\x97\\xb4\\xe5\\xb7\\xae\\n    print times\\n\\nimport matplotlib.pyplot as plt \\n%matplotlib inline\\nplt.plot(range(1, 17), times)\\nplt.plot(range(1, 17), times, 'ro')\\nplt.grid(True)\\nplt.xlabel('# processes')\\nplt.ylabel('time')\\nplt.title('%d MCS' %t)\\n#\\xe5\\x9c\\xa8spyder\\xe4\\xb8\\x8a\\xe5\\x8f\\xaf\\xe4\\xbb\\xa5\\xe8\\xbf\\x90\\xe8\\xa1\\x8c\\n\""
      ]
     },
     "execution_count": 33,
     "metadata": {},
     "output_type": "execute_result"
    }
   ],
   "source": [
    "'''\n",
    "if __name__ == '__main__':\n",
    "    I = 10000\n",
    "    M = 50 \n",
    "    t = 20 # 进行20次模拟\n",
    "    # 使用2核cores4线程threads的cpu进行测试\n",
    "    from time import time #时间攻击\n",
    "    times = [] #建立一个list用于记录模拟结果\n",
    "    for w in range(1, 7):\n",
    "        t0 = time() #起始时间\n",
    "        pool = mp.Pool(processes=w) #使用w线程进行运算\n",
    "        result =  pool.map(simulate_geometric_brownian_motion, t * [(M, I),])#将以tuple为元素的list（共t个tuple）应用到函数中\n",
    "        times.append(time() - t0) #记录下运行到此的时间与t0的时间差\n",
    "    print times\n",
    "\n",
    "import matplotlib.pyplot as plt \n",
    "%matplotlib inline\n",
    "plt.plot(range(1, 17), times)\n",
    "plt.plot(range(1, 17), times, 'ro')\n",
    "plt.grid(True)\n",
    "plt.xlabel('# processes')\n",
    "plt.ylabel('time')\n",
    "plt.title('%d MCS' %t)\n",
    "#在spyder上可以运行\n",
    "'''    "
   ]
  },
  {
   "cell_type": "code",
   "execution_count": 34,
   "metadata": {
    "collapsed": false
   },
   "outputs": [],
   "source": [
    "#动态编译 dynamic compiling"
   ]
  },
  {
   "cell_type": "code",
   "execution_count": 35,
   "metadata": {
    "collapsed": false
   },
   "outputs": [
    {
     "name": "stdout",
     "output_type": "stream",
     "text": [
      "Wall time: 10.4 s\n"
     ]
    },
    {
     "data": {
      "text/plain": [
       "25000000"
      ]
     },
     "execution_count": 35,
     "metadata": {},
     "output_type": "execute_result"
    }
   ],
   "source": [
    "#进行一个简单的大计算量loop \n",
    "from math import cos, log\n",
    "def f_py(I, J):\n",
    "    res = 0\n",
    "    for i in range(I):\n",
    "        for j in range(J):\n",
    "            res += int(cos(log(1)))\n",
    "    return res\n",
    "I, J = 5000, 5000\n",
    "%time f_py(I, J)"
   ]
  },
  {
   "cell_type": "code",
   "execution_count": 36,
   "metadata": {
    "collapsed": false
   },
   "outputs": [
    {
     "name": "stdout",
     "output_type": "stream",
     "text": [
      "Wall time: 657 ms\n"
     ]
    }
   ],
   "source": [
    "import numpy as np\n",
    "def f_np(I, J):\n",
    "    a = np.ones((I, J), dtype=np.float64)\n",
    "    return int(np.sum(np.cos(np.log(a)))), a\n",
    "%time res, a = f_np(I, J)"
   ]
  },
  {
   "cell_type": "code",
   "execution_count": 37,
   "metadata": {
    "collapsed": false
   },
   "outputs": [
    {
     "data": {
      "text/plain": [
       "200000000"
      ]
     },
     "execution_count": 37,
     "metadata": {},
     "output_type": "execute_result"
    }
   ],
   "source": [
    "a.nbytes #查看变量占用的内存数量"
   ]
  },
  {
   "cell_type": "code",
   "execution_count": 38,
   "metadata": {
    "collapsed": true
   },
   "outputs": [],
   "source": [
    "a = 0 #释放内存"
   ]
  },
  {
   "cell_type": "code",
   "execution_count": 39,
   "metadata": {
    "collapsed": false
   },
   "outputs": [],
   "source": [
    "#如果i,j特别大，而内存不够大，那么numpy方法就不能用了。"
   ]
  },
  {
   "cell_type": "code",
   "execution_count": 40,
   "metadata": {
    "collapsed": false
   },
   "outputs": [
    {
     "name": "stdout",
     "output_type": "stream",
     "text": [
      "Wall time: 178 ms\n"
     ]
    },
    {
     "data": {
      "text/plain": [
       "25000000"
      ]
     },
     "execution_count": 40,
     "metadata": {},
     "output_type": "execute_result"
    }
   ],
   "source": [
    "import numba as nb\n",
    "f_nb = nb.jit(f_py) \n",
    "#命令：调用jit函数，以此运行之前的纯py函数f_py。提高了纯python的效率，同时避免使用numpy而大量占用内存的缺点。\n",
    "%time f_nb(I, J)"
   ]
  },
  {
   "cell_type": "code",
   "execution_count": 41,
   "metadata": {
    "collapsed": false
   },
   "outputs": [],
   "source": [
    "I, J = 5000, 5000\n",
    "func_list = ['f_py', 'f_np', 'f_nb']\n",
    "data_list = 3 * ['I, J']"
   ]
  },
  {
   "cell_type": "code",
   "execution_count": 42,
   "metadata": {
    "collapsed": false
   },
   "outputs": [
    {
     "name": "stdout",
     "output_type": "stream",
     "text": [
      "function f_nb, av. time sec:   0.00000relative: 1.00000\n",
      "function f_np, av. time sec:   0.56132relative: 192428.17420\n",
      "function f_py, av. time sec:  10.14650relative: 3478339.13556\n"
     ]
    }
   ],
   "source": [
    "perf_comp_data(func_list, data_list) #居然是nb最快，不一定对所有代数式都有效，但值得一试"
   ]
  },
  {
   "cell_type": "code",
   "execution_count": 43,
   "metadata": {
    "collapsed": true
   },
   "outputs": [],
   "source": [
    "#用利率的二项式树对期权进行定价。此前使用蒙特卡洛模拟定价\n",
    "#利率是波动的,σ代表利率的波动，以无风险利率的compound为中心[e^(r * Δt)]，上下对称，分别为 u 和 d， u和d之间的距离为2个σ(西格玛)，d < u， \n",
    "# u = e ^ [σ *  (Δt^ 0.5)]\n",
    "#将当下s与到期T之间分为无数个等份，每份为t\n",
    "#t时间的r = e^(r * Δt)\n",
    "#向上的风险中性概率为 q = (e^(r * Δt)-d) / (u-d)\n",
    "#Ss为当下资产或者指数价格，那么在之后的t时刻，St 应该等于 Ss乘以 d,或者 u （分别为低值或高值）\n"
   ]
  },
  {
   "cell_type": "code",
   "execution_count": 44,
   "metadata": {
    "collapsed": false
   },
   "outputs": [],
   "source": [
    "import numpy as np\n",
    "from math import * #这样才能用exp\n",
    "# model & option parameters\n",
    "S0 = 100. #指数在零时刻的价格\n",
    "T = 1. #到期日为1年,一定要加一个小数点，要不就自动认为整数，后面计算有问题\n",
    "r = 0.05 #无风险利率\n",
    "vola = 0.20\n",
    "# time parameters\n",
    "M = 1000 #分多少步走到maturity，time steps \n",
    "dt =  T / M \n",
    "df = exp(-r * dt) #贴现因子， exp为以e为底的幂\n",
    "\n",
    "#binominal parameters \n",
    "u = exp(vola * sqrt(dt)) # up movement \n",
    "d = 1 / u #down movement 向下的利率是席上的倒数\n",
    "q = (exp(r * dt) - d) / (u - d) # 鞅测度概率 ，利率上涨的概率\n",
    "\n"
   ]
  },
  {
   "cell_type": "code",
   "execution_count": 69,
   "metadata": {
    "collapsed": false
   },
   "outputs": [],
   "source": [
    "\n",
    "def binominal_py(strike):#建立一个利用利率二项式树对期权进行估值的函数\n",
    "    '''\n",
    "    Binominal Option Pricing Function vai looping\n",
    "    Parameters\n",
    "    ===========\n",
    "    strike:float\n",
    "    Strike price of a European Call Option    \n",
    "    '''\n",
    "    #loop 1 Index Level \n",
    "    S = np.zeros((M+1, M+1), dtype=np.float64) #建立一个储存指数水平的数组\n",
    "    S[0, 0] = S0\n",
    "    z1 = 0 \n",
    "    for j in xrange(1, M + 1, 1):  \n",
    "        z1 = z1 +1\n",
    "        for i in xrange(z1 + 1):\n",
    "            S[i, j] = S[0, 0] * (u ** j) * (d ** (i * 2))\n",
    "    #loop 2 Inner Values, 计算期权价值\n",
    "    iv = np.zeros((M+1, M+1), dtype=np.float64)\n",
    "    z2 = 0\n",
    "    for j in xrange(0, M +1, 1):\n",
    "        for i in xrange(z2 + 1):\n",
    "            iv[i, j] = max(S[i, j] - strike, 0)\n",
    "        z2 = z2 + 1\n",
    "    #loop 3 Valuation 计算期权价值的现值\n",
    "    pv = np.zeros((M+1, M+1), dtype=np.float64)\n",
    "    pv[:, M] = iv[:, M] #使pv最后一列的值等于iv最后一列的值\n",
    "    z3 =  M + 1\n",
    "    for j in xrange(M - 1, -1, -1): # 从M-1，倒数到0 。因为第M列已经初始化。\n",
    "        z3 = z3 -1\n",
    "        for i in xrange(z3): #从倒数第一列开始\n",
    "            pv[i, j] = (q * pv[i, j+1] + (1 - q) * pv[i + 1, j +1] * df) #每一列的某个单元格等于下一列上下两个值得加权平均贴现值\n",
    "    return pv[0, 0]\n",
    "\n",
    "\n",
    "# 函数说明：用法与range完全相同，所不同的是生成的不是一个数组，而是一个生成器。\n",
    "# 由上面的示例可以知道：要生成很大的数字序列的时候，用xrange会比range性能优很多，因为不需要一上来就开辟一块很大的内存空间，这两个基本上都是在循环的时候用：\n",
    "# 这两个输出的结果都是一样的，实际上有很多不同，range会直接生成一个list对象：\n",
    "    "
   ]
  },
  {
   "cell_type": "code",
   "execution_count": 72,
   "metadata": {
    "collapsed": false
   },
   "outputs": [
    {
     "data": {
      "text/plain": [
       "10.724692479236626"
      ]
     },
     "execution_count": 72,
     "metadata": {},
     "output_type": "execute_result"
    }
   ],
   "source": [
    "binominal_py(100)"
   ]
  },
  {
   "cell_type": "code",
   "execution_count": null,
   "metadata": {
    "collapsed": true
   },
   "outputs": [],
   "source": []
  }
 ],
 "metadata": {
  "anaconda-cloud": {},
  "kernelspec": {
   "display_name": "Python [Root]",
   "language": "python",
   "name": "Python [Root]"
  },
  "language_info": {
   "codemirror_mode": {
    "name": "ipython",
    "version": 2
   },
   "file_extension": ".py",
   "mimetype": "text/x-python",
   "name": "python",
   "nbconvert_exporter": "python",
   "pygments_lexer": "ipython2",
   "version": "2.7.11"
  }
 },
 "nbformat": 4,
 "nbformat_minor": 0
}
