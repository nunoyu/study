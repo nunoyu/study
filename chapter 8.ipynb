{
 "cells": [
  {
   "cell_type": "code",
   "execution_count": 17,
   "metadata": {
    "collapsed": false
   },
   "outputs": [],
   "source": [
    "def perf_comp_data(func_list, data_list, rep=3, number=1):\n",
    "    '''function to compare performance of different functions\n",
    "    parameters\n",
    "    ============\n",
    "    func_list : list\n",
    "        list with function names as strings\n",
    "    data_list: list\n",
    "        list with data names as strings\n",
    "    rep : int\n",
    "        number of repetition of the whole comparation \n",
    "    numb : int\n",
    "        the number of executions for every funtion    \n",
    "    \n",
    "    '''\n",
    "    from timeit import repeat \n",
    "    res_list = {} #定义一个字典文件\n",
    "    for name in enumerate(func_list): #同时遍历程序列表中索引和程序名,返回enumerate object。[0]=索引，[1]=内容\n",
    "        stmt = name[1] + '(' +  data_list[name[0]] + ')'\n",
    "        setup = \"from __main__ import \" + name[1] + ', ' \\\n",
    "                                    + data_list[name[0]]\n",
    "        results = repeat(stmt=stmt, setup=setup, rep=rep, number=number)\n",
    "        res_list[name[1]] = sum(results) / rep #将平均结果储存到字典文件\n",
    "    res_sort = sorted(res_list.items(), key=lambda x: (x[1], x[0])) #按表现排名\n",
    "#打印输出结果\n",
    "    for item in res_sort:\n",
    "        rel = item[1] / res_sort[0][1]\n",
    "        print ('function ' + item[0] + ', av. time sec: %9.5f' %item[1] + 'relative: %6.5f' % rel) #字符串内传值  "
   ]
  },
  {
   "cell_type": "code",
   "execution_count": 2,
   "metadata": {
    "collapsed": true
   },
   "outputs": [],
   "source": []
  }
 ],
 "metadata": {
  "anaconda-cloud": {},
  "kernelspec": {
   "display_name": "Python [Root]",
   "language": "python",
   "name": "Python [Root]"
  },
  "language_info": {
   "codemirror_mode": {
    "name": "ipython",
    "version": 2
   },
   "file_extension": ".py",
   "mimetype": "text/x-python",
   "name": "python",
   "nbconvert_exporter": "python",
   "pygments_lexer": "ipython2",
   "version": "2.7.11"
  }
 },
 "nbformat": 4,
 "nbformat_minor": 0
}
